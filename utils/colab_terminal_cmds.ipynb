{
  "cells": [
    {
      "cell_type": "markdown",
      "metadata": {
        "id": "view-in-github",
        "colab_type": "text"
      },
      "source": [
        "<a href=\"https://colab.research.google.com/github/aubricot/computer_vision_with_eol_images/blob/master/utils/colab_terminal_cmds.ipynb\" target=\"_parent\"><img src=\"https://colab.research.google.com/assets/colab-badge.svg\" alt=\"Open In Colab\"/></a>"
      ]
    },
    {
      "cell_type": "markdown",
      "metadata": {
        "id": "3GANCspTskdy"
      },
      "source": [
        "# Useful terminal commands in Colab\n",
        "---\n",
        "*Last updated 18 Aug 2025*  \n",
        "Library of useful terminal commands for Colab\n",
        "\n",
        "For creating more disk space and emptying trash: If you have problems emptying trash, try using the Google Drive API from here https://developers.google.com/drive/api/v3/reference/files/emptyTrash?apix=true#try-it"
      ]
    },
    {
      "cell_type": "code",
      "execution_count": null,
      "metadata": {
        "id": "BB1S3zGvtEID"
      },
      "outputs": [],
      "source": [
        "#@title Connect to Google Drive\n",
        "from google.colab import drive\n",
        "drive.mount('/content/drive', force_remount=True)"
      ]
    },
    {
      "cell_type": "code",
      "execution_count": null,
      "metadata": {
        "id": "kc85lFfv2xOe"
      },
      "outputs": [],
      "source": [
        "#@title List all files in a directory by size (ascending order)\n",
        "# Enter wd using form field to right\n",
        "wd = \"/content/drive/MyDrive\" #@param [\"/content/drive/MyDrive\"] {allow-input: true}\n",
        "%cd $wd\n",
        "\n",
        "# List files by size\n",
        "!ls -laSh ."
      ]
    },
    {
      "cell_type": "code",
      "execution_count": null,
      "metadata": {
        "id": "gOQmKCL5hAei"
      },
      "outputs": [],
      "source": [
        "#@title Get directory size\n",
        "# Enter wd using form field to right\n",
        "wd = \"/content/drive/MyDrive\" #@param [\"/content/drive/MyDrive\"] {allow-input: true}\n",
        "%cd $wd\n",
        "\n",
        "# Get directory size\n",
        "!du -sh -- ."
      ]
    },
    {
      "cell_type": "code",
      "execution_count": null,
      "metadata": {
        "id": "ZTkApoE-shnf"
      },
      "outputs": [],
      "source": [
        "#@title Get number of files in a directory\n",
        "# Enter wd using form field to right\n",
        "wd = \"/content/drive/MyDrive\" #@param [\"/content/drive/MyDrive\"] {allow-input: true}\n",
        "%cd $wd\n",
        "\n",
        "# List number of files\n",
        "!ls . | wc -l"
      ]
    },
    {
      "cell_type": "code",
      "execution_count": null,
      "metadata": {
        "id": "tjB4fYkujmp1"
      },
      "outputs": [],
      "source": [
        "#@title List all file extensions in a directory\n",
        "# Enter wd using form field to right\n",
        "wd = \"/content/drive/MyDrive\" #@param [\"/content/drive/MyDrive\"] {allow-input: true}\n",
        "%cd $wd\n",
        "\n",
        "# List file extensions\n",
        "!find . -type f | awk -F \".\" '{ print $(NF) }' | sort -u"
      ]
    },
    {
      "cell_type": "code",
      "execution_count": null,
      "metadata": {
        "id": "Lpn1sSkUTeLg"
      },
      "outputs": [],
      "source": [
        "#@title List all subfolders within directory and their sizes\n",
        "# Enter wd using form field to right\n",
        "wd = \"/content/drive/MyDrive\" #@param [\"/content/drive/MyDrive\"] {allow-input: true}\n",
        "cwd = wd + '/*'\n",
        "%cd $cwd\n",
        "\n",
        "# List all subfolders and their sizes\n",
        "!du -sh . | sort -hr"
      ]
    },
    {
      "cell_type": "code",
      "execution_count": null,
      "metadata": {
        "id": "DSsaYa13pCoW"
      },
      "outputs": [],
      "source": [
        "#@title Unzip a file/folder\n",
        "# Enter wd, zip and unzipped filenames using form field to right\n",
        "wd = \"/content/drive/MyDrive/summer20/classification/image_type/images\" #@param [\"/content/drive/MyDrive\"] {allow-input: true}\n",
        "zip_fn = \"null.zip\" #@param [\"PlantCLEF2015TrainingData_2.zip\"] {allow-input: true}\n",
        "zip_fpath = wd + '/' + zip_fn\n",
        "unzipped_fn = \"null\" #@param [\"images\"] {allow-input: true}\n",
        "unzipped_fpath = wd + '/' + unzipped_fn\n",
        "\n",
        "# Unzip the file/folder\n",
        "!unzip $zip_fpath -d $unzipped_fpath"
      ]
    },
    {
      "cell_type": "code",
      "execution_count": null,
      "metadata": {
        "id": "JjXlYw9SROW5"
      },
      "outputs": [],
      "source": [
        "#@title Zip a file/folder\n",
        "# Enter wd, zip and unzipped filename using form field to right\n",
        "wd = \"/content/drive/MyDrive/train/tf2/results/inspect_results\" #@param [\"/content/drive/MyDrive\"] {allow-input: true}\n",
        "zip_fn = \"lepidoptera.zip\" #@param [\"images.zip\"] {allow-input: true}\n",
        "zip_fpath = wd + '/' + zip_fn\n",
        "unzipped_fn = \"lepidoptera\" #@param [\"images\"] {allow-input: true}\n",
        "unzipped_fpath = wd + '/' + unzipped_fn\n",
        "\n",
        "# Zip the file/folder\n",
        "!zip -r $zip_fpath $unzipped_fpath"
      ]
    },
    {
      "cell_type": "code",
      "execution_count": null,
      "metadata": {
        "id": "N3rykWbN3fyh"
      },
      "outputs": [],
      "source": [
        "#@title Tar.gz a file/folder (faster than zip and results in smaller file size)\n",
        "# Enter wd, tar and untarred filename using form field to right\n",
        "wd = \"/content/drive/MyDrive/'Colab Notebooks'/object_detection_for_image_cropping\" # @param [\"/content/drive/MyDrive\",\"/content/drive/MyDrive/'Colab Notebooks'/play_for_beginners\",\"/content/drive/MyDrive/'Colab Notebooks'/classification_for_image_tagging\",\"/content/drive/MyDrive/'Colab Notebooks'/object_detection_for_image_cropping\"] {\"allow-input\":true}\n",
        "taxon = \"aves\" # @param [\"aves\",\"chiroptera\",\"lepidoptera\"] {\"allow-input\":true}\n",
        "untarred_fn = \"helper_funcs\" #@param [\"images\"] {allow-input: true}\n",
        "tar_fn = \"helper_funcs.tar.gz\" #@param [\"images.tar.gz\"] {allow-input: true}\n",
        "#tar_fpath = wd + '/' + untarred_fn + '/' + taxon + '_' + tar_fn\n",
        "#untarred_fpath = wd + '/' + untarred_fn + '/' + taxon + '/' + 'helper_funcs'\n",
        "tar_fpath = wd + '/' + taxon + '/' + tar_fn\n",
        "untarred_fpath = wd + '/' + taxon + '/' + untarred_fn\n",
        "\n",
        "# Tar the file/folder without retaining nested dir structure\n",
        "%cd $wd\n",
        "!tar -czvf $tar_fpath -C $untarred_fpath ."
      ]
    },
    {
      "cell_type": "code",
      "execution_count": null,
      "metadata": {
        "id": "Czn9kBofGe48"
      },
      "outputs": [],
      "source": [
        "#@title Untar.gz a file/folder\n",
        "# Enter wd, tar and untarred filename using form field to right\n",
        "wd = \"/content/drive/MyDrive\" #@param [\"/content/drive/MyDrive\"] {allow-input: true}\n",
        "tar_fn = \"helper_funcs.tar.gz\" #@param [\"images.tar.gz\"] {allow-input: true}\n",
        "tar_fpath = wd + '/' + tar_fn\n",
        "untarred_fpath = \"/content\" #@param [\"images\"] {allow-input: true}\n",
        "\n",
        "# Untar the file/folder to specific dir\n",
        "!tar -xzvf $tar_fpath -C $untarred_fpath"
      ]
    },
    {
      "cell_type": "code",
      "execution_count": null,
      "metadata": {
        "id": "SWcZa-PK7ZiV"
      },
      "outputs": [],
      "source": [
        "#@title Delete all non-images in a folder\n",
        "# Enter wd using form field to right\n",
        "wd = \"/content/drive/MyDrive\" #@param [\"/content/drive/MyDrive\"] {allow-input: true}\n",
        "%cd $wd\n",
        "\n",
        "# Find all non-images\n",
        "!find . ! \\( -iname \"*.jpg\" -or -iname \"*.jpeg\" -or -iname \"*.png\" -or -iname \"*.tif\" -or -iname \"*.bmp\" \\) -size +20k\n",
        "\n",
        "# Find and delete all non-images (delete hashtag to run)\n",
        "#!find . ! \\( -iname \"*.jpg\" -or -iname \"*.jpeg\" -or -iname \"*.png\" -or -iname \"*.tif\" -or -iname \"*.bmp\" \\) -size +20k -delete"
      ]
    },
    {
      "cell_type": "code",
      "execution_count": null,
      "metadata": {
        "id": "4B0OI5S48Vhu"
      },
      "outputs": [],
      "source": [
        "#@title Remove a file or folder\n",
        "# Enter file/folder path using form field to right\n",
        "fpath = \"/content/drive/MyDrive/images\" #@param [\"/content/drive/MyDrive/images\"] {allow-input: true}\n",
        "\n",
        "# Find all non-images\n",
        "!rm -r $fpath"
      ]
    },
    {
      "cell_type": "code",
      "execution_count": null,
      "metadata": {
        "id": "1UHKN_-6CRZm"
      },
      "outputs": [],
      "source": [
        "#@title Move all files in a folder to another folder\n",
        "# Enter file/folder path using form field to right\n",
        "fpath_a_base = \"/content/drive/MyDrive/pre-processing/train_ann\" #@param [\"/content/drive/MyDrive/pre-processing/train_ann\"] {allow-input: true}\n",
        "fpath_a = fpath_a_base + '/*'\n",
        "fpath_b = \"/content/drive/MyDrive/darkflow-master/test/training/annotations\" #@param [\"/content/drive/MyDrive/darkflow-master/test/training/annotations\"] {allow-input: true}\n",
        "\n",
        "\n",
        "# Move all files from fpath_a to fpath_b\n",
        "!mv $fpath_a $fpath_b\n",
        "\n",
        "# Delete fpath_a\n",
        "#!rm -r $fpath_a_base"
      ]
    },
    {
      "cell_type": "code",
      "execution_count": null,
      "metadata": {
        "id": "gccjxavMYgSa"
      },
      "outputs": [],
      "source": [
        "#@title Copy all files in a folder to another folder\n",
        "# Enter file/folder path using form field to right\n",
        "fpath_a = \"/content/drive/MyDrive/'Colab Notebooks'/object_detection_for_image_cropping/helper_funcs\" #@param [\"/content/drive/MyDrive/pre-processing/train_ann\"] {allow-input: true}\n",
        "fpath_b = \"/content/drive/MyDrive/'Colab Notebooks'/object_detection_for_image_tagging\" #@param [\"/content/drive/MyDrive/darkflow-master/test/training/annotations\"] {allow-input: true}\n",
        "\n",
        "\n",
        "# Copy all files from fpath_a to fpath_b\n",
        "!cp -r $fpath_a $fpath_b"
      ]
    },
    {
      "cell_type": "code",
      "execution_count": null,
      "metadata": {
        "id": "egWROpsyk11b"
      },
      "outputs": [],
      "source": [
        "#@title Append prefix or suffix to file/folder names\n",
        "# Enter wd using form field to right\n",
        "wd = \"/content/drive/MyDrive/saved_models\" #@param [\"/content/drive/MyDrive/saved_models\"] {allow-input: true}\n",
        "%cd $wd\n",
        "\n",
        "# Add a prefix of 00\n",
        "#!ls | xargs -I {} mv {} 00{}\n",
        "\n",
        "# Add a suffix of 00\n",
        "#ls | xargs -I {} mv {} {}00"
      ]
    },
    {
      "cell_type": "code",
      "execution_count": null,
      "metadata": {
        "id": "KsiBN4WVybWz"
      },
      "outputs": [],
      "source": [
        "#@title Read, write, and convert tsv and csv files\n",
        "import pandas as pd\n",
        "\n",
        "# Enter wd using form field to right\n",
        "wd = \"/content\" #@param [\"/content/drive/MyDrive/saved_models\"] {allow-input: true}\n",
        "%cd $wd\n",
        "\n",
        "# Enter the input filename using the form field\n",
        "fname_in = \"Chiroptera_tags_rating\" #@param {\"type\":\"string\"}\n",
        "# Select the file extension type\n",
        "ext_in = \".tsv\" # @param [\".tsv\",\".csv\"] {\"allow-input\":true}\n",
        "fpath = fname_in + ext_in\n",
        "print(\"Input file path: \\n\", fpath)\n",
        "\n",
        "# Define separator\n",
        "if \"t\" in ext_in:\n",
        "  sep = \"\\t\"\n",
        "else:\n",
        "  sep = \",\"\n",
        "\n",
        "# Read in the file\n",
        "df = pd.read_csv(fpath, sep=sep, header=0)\n",
        "print(\"Data header: \\n\", df.head())\n",
        "\n",
        "# Enter the desired output filename and extension type\n",
        "fname_out = \"Chiroptera_tags_rating\" #@param {\"type\":\"string\"}\n",
        "ext_out = \".csv\" # @param [\".tsv\",\".csv\"] {\"allow-input\":true}\n",
        "fpath = fname_out + ext_out\n",
        "print(\"Output file path: \\n\", fpath)\n",
        "\n",
        "# Define separator\n",
        "if \"t\" in ext_out:\n",
        "  sep = \"\\t\"\n",
        "else:\n",
        "  sep = \",\"\n",
        "\n",
        "# Export file\n",
        "df.to_csv(fpath, sep=sep, index=False, header=True)"
      ]
    }
  ],
  "metadata": {
    "colab": {
      "provenance": [],
      "authorship_tag": "ABX9TyPWmYFPoJ5dI15eVfnuyklA",
      "include_colab_link": true
    },
    "kernelspec": {
      "display_name": "Python 3",
      "name": "python3"
    }
  },
  "nbformat": 4,
  "nbformat_minor": 0
}