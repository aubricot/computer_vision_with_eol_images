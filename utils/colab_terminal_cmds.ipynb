{
  "nbformat": 4,
  "nbformat_minor": 0,
  "metadata": {
    "colab": {
      "provenance": [],
      "authorship_tag": "ABX9TyNyqH9LL5bTxhGZafs7U/x2",
      "include_colab_link": true
    },
    "kernelspec": {
      "name": "python3",
      "display_name": "Python 3"
    }
  },
  "cells": [
    {
      "cell_type": "markdown",
      "metadata": {
        "id": "view-in-github",
        "colab_type": "text"
      },
      "source": [
        "<a href=\"https://colab.research.google.com/github/aubricot/computer_vision_with_eol_images/blob/master/utils/colab_terminal_cmds.ipynb\" target=\"_parent\"><img src=\"https://colab.research.google.com/assets/colab-badge.svg\" alt=\"Open In Colab\"/></a>"
      ]
    },
    {
      "cell_type": "markdown",
      "metadata": {
        "id": "3GANCspTskdy"
      },
      "source": [
        "# Useful terminal commands in Colab\n",
        "---\n",
        "*Last updated 14 March 2023*  \n",
        "Library of useful terminal commands for Colab\n",
        "\n",
        "For creating more disk space and emptying trash: If you have problems emptying trash, try using the Google Drive API from here https://developers.google.com/drive/api/v3/reference/files/emptyTrash?apix=true#try-it"
      ]
    },
    {
      "cell_type": "code",
      "metadata": {
        "id": "BB1S3zGvtEID"
      },
      "source": [
        "#@title Connect to Google Drive\n",
        "from google.colab import drive\n",
        "drive.mount('/content/drive', force_remount=True)"
      ],
      "execution_count": null,
      "outputs": []
    },
    {
      "cell_type": "code",
      "metadata": {
        "id": "kc85lFfv2xOe"
      },
      "source": [
        "#@title List all files in a directory by size (ascending order)\n",
        "# Enter wd using form field to right\n",
        "wd = \"/content/drive/MyDrive\" #@param [\"/content/drive/MyDrive\"] {allow-input: true}\n",
        "%cd $wd\n",
        "\n",
        "# List files by size\n",
        "!ls -laSh ."
      ],
      "execution_count": null,
      "outputs": []
    },
    {
      "cell_type": "code",
      "source": [
        "#@title Get directory size\n",
        "# Enter wd using form field to right\n",
        "wd = \"/content/drive/MyDrive\" #@param [\"/content/drive/MyDrive\"] {allow-input: true}\n",
        "%cd $wd\n",
        "\n",
        "# Get directory size\n",
        "!du -sh -- ."
      ],
      "metadata": {
        "id": "gOQmKCL5hAei"
      },
      "execution_count": null,
      "outputs": []
    },
    {
      "cell_type": "code",
      "metadata": {
        "id": "ZTkApoE-shnf"
      },
      "source": [
        "#@title Get number of files in a directory\n",
        "# Enter wd using form field to right\n",
        "wd = \"/content/drive/MyDrive\" #@param [\"/content/drive/MyDrive\"] {allow-input: true}\n",
        "%cd $wd\n",
        "\n",
        "# List number of files\n",
        "!ls . | wc -l"
      ],
      "execution_count": null,
      "outputs": []
    },
    {
      "cell_type": "code",
      "metadata": {
        "id": "tjB4fYkujmp1"
      },
      "source": [
        "#@title List all file extensions in a directory\n",
        "# Enter wd using form field to right\n",
        "wd = \"/content/drive/MyDrive\" #@param [\"/content/drive/MyDrive\"] {allow-input: true}\n",
        "%cd $wd\n",
        "\n",
        "# List file extensions\n",
        "!find . -type f | awk -F \".\" '{ print $(NF) }' | sort -u"
      ],
      "execution_count": null,
      "outputs": []
    },
    {
      "cell_type": "code",
      "metadata": {
        "id": "Lpn1sSkUTeLg"
      },
      "source": [
        "#@title List all subfolders within directory and their sizes\n",
        "# Enter wd using form field to right\n",
        "wd = \"/content/drive/MyDrive\" #@param [\"/content/drive/MyDrive\"] {allow-input: true}\n",
        "cwd = wd + '/*'\n",
        "%cd $cwd\n",
        "\n",
        "# List all subfolders and their sizes\n",
        "!du -sh . | sort -hr"
      ],
      "execution_count": null,
      "outputs": []
    },
    {
      "cell_type": "code",
      "metadata": {
        "id": "DSsaYa13pCoW"
      },
      "source": [
        "#@title Unzip a file/folder\n",
        "# Enter wd, zip and unzipped filenames using form field to right\n",
        "wd = \"/content/drive/MyDrive\" #@param [\"/content/drive/MyDrive\"] {allow-input: true}\n",
        "zip_fn = \"PlantCLEF2015TrainingData_2.zip\" #@param [\"PlantCLEF2015TrainingData_2.zip\"] {allow-input: true}\n",
        "zip_fpath = wd + '/' + zip_fn\n",
        "unzipped_fn = \"images\" #@param [\"images\"] {allow-input: true}\n",
        "unzipped_fpath = wd + '/' + unzipped_fn\n",
        "\n",
        "# Unzip the file/folder\n",
        "!unzip $zip_fpath -d $unzipped_fpath"
      ],
      "execution_count": null,
      "outputs": []
    },
    {
      "cell_type": "code",
      "metadata": {
        "id": "JjXlYw9SROW5"
      },
      "source": [
        "#@title Zip a file/folder\n",
        "# Enter wd, zip and unzipped filename using form field to right\n",
        "wd = \"/content/drive/MyDrive\" #@param [\"/content/drive/MyDrive\"] {allow-input: true}\n",
        "zip_fn = \"images.zip\" #@param [\"images.zip\"] {allow-input: true}\n",
        "zip_fpath = wd + '/' + zip_fn\n",
        "unzipped_fn = \"images\" #@param [\"images\"] {allow-input: true}\n",
        "unzipped_fpath = wd + '/' + unzipped_fn\n",
        "\n",
        "# Zip the file/folder\n",
        "!zip -r $zip_fpath $unzipped_fpath"
      ],
      "execution_count": null,
      "outputs": []
    },
    {
      "cell_type": "code",
      "source": [
        "#@title Tar.gz a file/folder (faster than zip and results in smaller file size)\n",
        "# Enter wd, tar and untarred filename using form field to right\n",
        "wd = \"/content/drive/MyDrive/\" #@param [\"/content/drive/MyDrive\"] {allow-input: true}\n",
        "tar_fn = \"helper_funcs.tar.gz\" #@param [\"images.tar.gz\"] {allow-input: true}\n",
        "untarred_fn = \"helper_funcs\" #@param [\"images\"] {allow-input: true}\n",
        "untarred_fpath = wd + '/' + untarred_fn\n",
        "\n",
        "# Tar the file/folder without retaining nested dir structure \n",
        "%cd $wd\n",
        "!tar -czvf $tar_fn -C $untarred_fpath ."
      ],
      "metadata": {
        "id": "N3rykWbN3fyh"
      },
      "execution_count": null,
      "outputs": []
    },
    {
      "cell_type": "code",
      "source": [
        "#@title Untar.gz a file/folder \n",
        "# Enter wd, tar and untarred filename using form field to right\n",
        "wd = \"/content/drive/MyDrive\" #@param [\"/content/drive/MyDrive\"] {allow-input: true}\n",
        "tar_fn = \"helper_funcs.tar.gz\" #@param [\"images.tar.gz\"] {allow-input: true}\n",
        "tar_fpath = wd + '/' + tar_fn\n",
        "untarred_fpath = \"/content\" #@param [\"images\"] {allow-input: true}\n",
        "\n",
        "# Untar the file/folder to specific dir\n",
        "!tar -xzvf $tar_fpath -C $untarred_fpath"
      ],
      "metadata": {
        "id": "Czn9kBofGe48"
      },
      "execution_count": null,
      "outputs": []
    },
    {
      "cell_type": "code",
      "metadata": {
        "id": "SWcZa-PK7ZiV"
      },
      "source": [
        "#@title Delete all non-images in a folder\n",
        "# Enter wd using form field to right\n",
        "wd = \"/content/drive/MyDrive\" #@param [\"/content/drive/MyDrive\"] {allow-input: true}\n",
        "%cd $wd\n",
        "\n",
        "# Find all non-images\n",
        "!find . ! \\( -iname \"*.jpg\" -or -iname \"*.jpeg\" -or -iname \"*.png\" -or -iname \"*.tif\" -or -iname \"*.bmp\" \\) -size +20k\n",
        "\n",
        "# Find and delete all non-images (delete hashtag to run)\n",
        "#!find . ! \\( -iname \"*.jpg\" -or -iname \"*.jpeg\" -or -iname \"*.png\" -or -iname \"*.tif\" -or -iname \"*.bmp\" \\) -size +20k -delete"
      ],
      "execution_count": null,
      "outputs": []
    },
    {
      "cell_type": "code",
      "metadata": {
        "id": "4B0OI5S48Vhu"
      },
      "source": [
        "#@title Remove a file or folder\n",
        "# Enter file/folder path using form field to right\n",
        "fpath = \"/content/drive/MyDrive/images\" #@param [\"/content/drive/MyDrive/images\"] {allow-input: true}\n",
        "\n",
        "# Find all non-images\n",
        "!rm -r $fpath"
      ],
      "execution_count": null,
      "outputs": []
    },
    {
      "cell_type": "code",
      "metadata": {
        "id": "1UHKN_-6CRZm"
      },
      "source": [
        "#@title Move all files in a folder to another folder\n",
        "# Enter file/folder path using form field to right\n",
        "fpath_a_base = \"/content/drive/MyDrive/pre-processing/train_ann\" #@param [\"/content/drive/MyDrive/pre-processing/train_ann\"] {allow-input: true}\n",
        "fpath_a = fpath_a_base + '/*'\n",
        "fpath_b = \"/content/drive/MyDrive/darkflow-master/test/training/annotations\" #@param [\"/content/drive/MyDrive/darkflow-master/test/training/annotations\"] {allow-input: true}\n",
        "\n",
        "\n",
        "# Move all files from fpath_a to fpath_b\n",
        "!mv $fpath_a $fpath_b\n",
        "\n",
        "# Delete fpath_a\n",
        "#!rm -r $fpath_a_base"
      ],
      "execution_count": null,
      "outputs": []
    },
    {
      "cell_type": "code",
      "metadata": {
        "id": "egWROpsyk11b"
      },
      "source": [
        "#@title Append prefix or suffix to file/folder names\n",
        "# Enter wd using form field to right\n",
        "wd = \"/content/drive/MyDrive/saved_models\" #@param [\"/content/drive/MyDrive/saved_models\"] {allow-input: true}\n",
        "%cd $wd\n",
        "\n",
        "# Add a prefix of 00\n",
        "#!ls | xargs -I {} mv {} 00{}\n",
        "\n",
        "# Add a suffix of 00\n",
        "#ls | xargs -I {} mv {} {}00"
      ],
      "execution_count": null,
      "outputs": []
    }
  ]
}