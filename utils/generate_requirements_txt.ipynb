{
  "nbformat": 4,
  "nbformat_minor": 0,
  "metadata": {
    "colab": {
      "provenance": [],
      "authorship_tag": "ABX9TyOMQlbPPe1F7EfCknEaG8MV",
      "include_colab_link": true
    },
    "kernelspec": {
      "name": "python3",
      "display_name": "Python 3"
    },
    "language_info": {
      "name": "python"
    }
  },
  "cells": [
    {
      "cell_type": "markdown",
      "metadata": {
        "id": "view-in-github",
        "colab_type": "text"
      },
      "source": [
        "<a href=\"https://colab.research.google.com/github/aubricot/computer_vision_with_eol_images/blob/master/utils/generate_requirements_txt.ipynb\" target=\"_parent\"><img src=\"https://colab.research.google.com/assets/colab-badge.svg\" alt=\"Open In Colab\"/></a>"
      ]
    },
    {
      "cell_type": "markdown",
      "source": [
        "# Automatically make requirements.txt from Colab Notebooks\n",
        "---\n",
        "*Last Updated 18 August 2025*   \n",
        "Generate requirements.txt file for each Colab Notebook to track versions."
      ],
      "metadata": {
        "id": "9P_YgdIqAk5g"
      }
    },
    {
      "cell_type": "code",
      "source": [
        "#@title Mount Google Drive and set wd\n",
        "from google.colab import drive\n",
        "drive.mount('/content/drive', force_remount=True)\n",
        "\n",
        "# Define working directory using form field on right\n",
        "base_wd = \"/content/drive/MyDrive/'Colab Notebooks'/classification_for_image_tagging/\" # @param [\"/content/drive/MyDrive/'Colab Notebooks'/classification_for_image_tagging/\",\"/content/drive/MyDrive/'Colab Notebooks'/object_detection_for_image_cropping/\",\"/content/drive/MyDrive/'Colab Notebooks'/object_detection_for_image_tagging/\"] {\"allow-input\":true}\n",
        "folder = \"image_type\" #@param [\"chiroptera\", \"rating\", \"image_type\", \"human_present\"] {allow-input: true}\n",
        "cwd = base_wd + folder\n",
        "\n",
        "# Install libraries\n",
        "import os\n",
        "from posix import replace\n",
        "!pip install pipreqs\n",
        "!pip install nbconvert"
      ],
      "metadata": {
        "id": "cw2bpzNKAeen"
      },
      "execution_count": null,
      "outputs": []
    },
    {
      "cell_type": "code",
      "execution_count": null,
      "metadata": {
        "id": "vijFb6d59Czc"
      },
      "outputs": [],
      "source": [
        "#@title Generate requirements.txt\n",
        "# Modified from https://towardsdatascience.com/generating-a-requirements-file-jupyter-notebook-385f1c315b52#3793\n",
        "%cd $cwd\n",
        "\n",
        "# Enter notebook filename using form field on right\n",
        "fn = \"image_type_preprocessing.ipynb\" # @param [\"rating_preprocessing.ipynb\",\"chiroptera_train_tf2_ssd_rcnn.ipynb\",\"chiroptera_generate_crops_tf2.ipynb\",\"chiroptera_preprocessing.ipynb\",\"inspect_train_results.ipynb\"] {\"allow-input\":true}\n",
        "\n",
        "# Enter desired output folder for requirements.txt\n",
        "output_wd = \"/content/drive/MyDrive/'Colab Notebooks'/reqs\" #@param [\"/content/drive/MyDrive/'Colab Notebooks'/reqs\"] {allow-input: true}\n",
        "if not os.path.exists(output_wd):\n",
        "    os.makedirs(output_wd)\n",
        "\n",
        "# Generate requirements.txt\n",
        "!jupyter nbconvert --output-dir=\"reqs\" --to python $fn\n",
        "%cd reqs\n",
        "!pipreqs\n",
        "\n",
        "# Move requirements.txt to output_wd and rename it\n",
        "output_fpath = output_wd + \"/\" + os.path.splitext(fn)[0] + '_reqs.txt'\n",
        "print(\"Moving requirements.txt to \", output_fpath)\n",
        "!mv requirements.txt $output_fpath"
      ]
    }
  ]
}