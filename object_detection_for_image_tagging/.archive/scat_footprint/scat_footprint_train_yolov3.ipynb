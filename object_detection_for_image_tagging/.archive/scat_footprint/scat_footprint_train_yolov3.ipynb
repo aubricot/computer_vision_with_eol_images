{
  "nbformat": 4,
  "nbformat_minor": 0,
  "metadata": {
    "kernelspec": {
      "name": "python3",
      "display_name": "Python 3"
    },
    "language_info": {
      "codemirror_mode": {
        "name": "ipython",
        "version": 3
      },
      "file_extension": ".py",
      "mimetype": "text/x-python",
      "name": "python",
      "nbconvert_exporter": "python",
      "pygments_lexer": "ipython3",
      "version": "3.6.8"
    },
    "colab": {
      "name": "scat_footprint_train_yolov4.ipynb",
      "provenance": [],
      "collapsed_sections": [],
      "include_colab_link": true
    },
    "accelerator": "GPU"
  },
  "cells": [
    {
      "cell_type": "markdown",
      "metadata": {
        "id": "view-in-github",
        "colab_type": "text"
      },
      "source": [
        "<a href=\"https://colab.research.google.com/github/aubricot/computer_vision_with_eol_images/blob/master/object_detection_for_image_tagging/scat_footprint/scat_footprint_train_yolov4.ipynb\" target=\"_parent\"><img src=\"https://colab.research.google.com/assets/colab-badge.svg\" alt=\"Open In Colab\"/></a>"
      ]
    },
    {
      "cell_type": "markdown",
      "metadata": {
        "id": "4Rnwb_rgmJZB"
      },
      "source": [
        "# Training YOLOv4 to detect scat and footprints from EOL images\n",
        "---\n",
        "*Last Updated 3 June 2021*   \n",
        "-Runs in Python 3-   \n",
        "Use images with annotations to train YOLOv4 to detect scat and footprints from EOL images.\n",
        "\n",
        "Datasets were downloaded to Google Drive in [scat_footprint_preprocessing.ipynb](https://github.com/aubricot/computer_vision_with_eol_images/blob/master/object_detection_for_image_tagging/scat_footprint/scat_footprint_preprocessing.ipynb). \n",
        "\n",
        "**YOLOv4 was trained for 1200 epochs ('iterations').** Scat/footprint object detection models never learned despite adjusting augmentation and model hyperparameters for many training sessions. If successful approaches are found at a later date, steps for adding tags to images will be included. Custom anchor boxes were used to optimize coverage for the dataset and image augmentation was used to increase dataset size from 500 img per class to 1000 img, but **loss never decreased below 5 and final mAP was <25%.**\n",
        "\n",
        "Notes:   \n",
        "* Before you you start: change the runtime to \"GPU\" with \"High RAM\" \n",
        "* Change filepaths/taxon names where you see 'TO DO'   \n",
        "\n",
        "References:   \n",
        "* [AlexeyAB's Darknet training instructions - GitHub](https://github.com/AlexeyAB/darknet)   \n",
        "* [PJReddie's Darknet training instructions - GitHub](https://github.com/pjreddie/darknet)\n",
        "* [PJReddie's Darknet training instructions - pjreddie.com](https://pjreddie.com/darknet/yolo/)"
      ]
    },
    {
      "cell_type": "markdown",
      "metadata": {
        "id": "iJz5m4BKmJZD"
      },
      "source": [
        "## Installs & Imports\n",
        "---"
      ]
    },
    {
      "cell_type": "code",
      "metadata": {
        "id": "yWAbU5tW1ONu"
      },
      "source": [
        "# Mount google drive to import/export files\n",
        "from google.colab import drive\n",
        "drive.mount('/content/drive', force_remount=True)"
      ],
      "execution_count": null,
      "outputs": []
    },
    {
      "cell_type": "code",
      "metadata": {
        "id": "yj3-JKOsIPtc"
      },
      "source": [
        "# Install libraries\n",
        "# Make sure you are using Python 3.6\n",
        "!python --version\n",
        "!pip install cython\n",
        "!pip install opencv-python\n",
        "\n",
        "import os\n",
        "import pathlib\n",
        "import shutil \n",
        "import glob"
      ],
      "execution_count": null,
      "outputs": []
    },
    {
      "cell_type": "markdown",
      "metadata": {
        "id": "yaXi0gO5GFXR"
      },
      "source": [
        "## Model preparation (only run once)\n",
        "---"
      ]
    },
    {
      "cell_type": "code",
      "metadata": {
        "id": "a5_I7mBKGIAr"
      },
      "source": [
        "# Install darknet\n",
        "\n",
        "# TO DO: Type in the path to your working directory in form field to right\n",
        "basewd = \"/content/drive/MyDrive/train\" #@param {type:\"string\"}\n",
        "%cd $basewd\n",
        "\n",
        "# Download darkflow (the tensorflow implementation of YOLO)\n",
        "if os.path.exists(\"darknet\"):\n",
        "    %cd darknet\n",
        "\n",
        "elif not os.path.exists(\"darknet\"):\n",
        "    !git clone https://github.com/AlexeyAB/darknet\n",
        "    # Compile darkflow\n",
        "    %cd darknet\n",
        "    !python setup.py build_ext --inplace\n",
        "    # Change makefile to have GPU and OPENCV enabled\n",
        "    !sed -i 's/OPENCV=0/OPENCV=1/' Makefile\n",
        "    !sed -i 's/GPU=0/GPU=1/' Makefile\n",
        "    !sed -i 's/CUDNN=0/CUDNN=1/' Makefile\n",
        "    !sed -i 's/CUDNN_HALF=0/CUDNN_HALF=1/' Makefile\n",
        "\n",
        "wd = 'darknet'\n",
        "%cd $wd\n",
        "\n",
        "# Verify CUDA version (for using GPU)\n",
        "!/usr/local/cuda/bin/nvcc --version\n",
        "\n",
        "# Make darknet\n",
        "!make"
      ],
      "execution_count": null,
      "outputs": []
    },
    {
      "cell_type": "markdown",
      "metadata": {
        "id": "HgFPzB6JOl8H"
      },
      "source": [
        "## Train/test dataset preparation (only run once)\n",
        "---\n",
        "Prepare datasets and make custom anchor box dimensions to help the model learn from image regions based on scat/footprint bounding boxes. Anchor boxes are the regions CNNs use to scan for objects and their dimensions can influence detection results."
      ]
    },
    {
      "cell_type": "code",
      "metadata": {
        "id": "ByGH3-P8YKB1"
      },
      "source": [
        "# Copy test images and annotations to darknet\n",
        "%cd ../\n",
        "!cp test_images/* darknet/build/darknet/x64/data/obj\n",
        "!cp test_ann/* darknet/build/darknet/x64/data/obj\n",
        "\n",
        "print(\"Number of test images copied to darknet: \")\n",
        "!ls test_images | wc -l\n",
        "print(\"\\nNumber of test annotations copied to darknet: \")\n",
        "!ls test_ann | wc -l\n",
        "print(\"\\nNumber of test dataset files in darknet: \")\n",
        "!ls darknet/build/darknet/x64/data/obj | wc -l"
      ],
      "execution_count": null,
      "outputs": []
    },
    {
      "cell_type": "code",
      "metadata": {
        "id": "i-OX32vi1bwv"
      },
      "source": [
        "# Copy train images and annotations to darknet\n",
        "\n",
        "!cp images/* darknet/build/darknet/x64/data/obj\n",
        "!cp annotations/* darknet/build/darknet/x64/data/obj\n",
        "\n",
        "print(\"Number of train images copied to darknet: \")\n",
        "!ls images | wc -l\n",
        "print(\"\\nNumber of train annotations copied to darknet: \")\n",
        "!ls annotations/  | wc -l\n",
        "print(\"\\nNumber of train dataset files in darknet: \")\n",
        "!ls darknet/build/darknet/x64/data/obj | wc -l"
      ],
      "execution_count": null,
      "outputs": []
    },
    {
      "cell_type": "code",
      "metadata": {
        "id": "fPmNVOZ6Ts4j"
      },
      "source": [
        "# Delete tf.record files from copied train and test images (leftover from tensorflow object detection)\n",
        "path = \"build/darknet/x64/data/obj\"\n",
        "\n",
        "files = os.listdir(path)\n",
        "flist = [file for file in files if file.endswith(\".record\")]\n",
        "for file in flist:\n",
        "  fpath = os.path.join(path, file)\n",
        "  os.remove(fpath)"
      ],
      "execution_count": null,
      "outputs": []
    },
    {
      "cell_type": "code",
      "metadata": {
        "id": "gYxXbbCp6fAH"
      },
      "source": [
        "# Convert xml annotations to YOLOv4 format\n",
        "%cd darknet/build/darknet/x64/data/obj\n",
        "\n",
        "!python xml_to_yolo.py\n",
        "\n",
        "!rm -r ./*.xml\n",
        "\n",
        "%cd ../\n",
        "!mv labels/xml_to_yolo.py .."
      ],
      "execution_count": null,
      "outputs": []
    },
    {
      "cell_type": "code",
      "metadata": {
        "id": "KqioRJ_vkgPU"
      },
      "source": [
        "# Make train.txt and test.txt files that list images needed by YOLOv3 for training\n",
        "%cd $wd\n",
        "%cd ../\n",
        "\n",
        "# Train dataset\n",
        "path = \"images\"\n",
        "with open('train.txt', 'w', encoding='utf-8') as f:\n",
        "  for dir, dirs, files in os.walk(path):\n",
        "    files = [fn for fn in files]\n",
        "    for fn in files:\n",
        "      fn = \"build/darknet/x64/data/obj/\" + fn\n",
        "      f.writelines(fn + '\\n')\n",
        "\n",
        "# Test dataset\n",
        "path = \"test_images\"\n",
        "with open('test.txt', 'w', encoding='utf-8') as f:\n",
        "  for dir, dirs, files in os.walk(path):\n",
        "    files = [fn for fn in files if not fn.endswith('.record')]\n",
        "    for fn in files:\n",
        "      fn = \"build/darknet/x64/data/obj/\" + fn\n",
        "      f.writelines(fn + '\\n')"
      ],
      "execution_count": null,
      "outputs": []
    },
    {
      "cell_type": "code",
      "metadata": {
        "id": "Jy4_8wTPkiLt"
      },
      "source": [
        "# Generate custom anchor box dimensions based on annotation sizes in training dataset\n",
        "# Copy these values to cfg files for training to improve accuracy\n",
        "%cd $wd\n",
        "\n",
        "!python build/darknet/x64/gen_anchors.py -filelist build/darknet/x64/data/train.txt -output_dir ./ -num_clusters 5"
      ],
      "execution_count": null,
      "outputs": []
    },
    {
      "cell_type": "markdown",
      "metadata": {
        "id": "w3ouL5RM-mpX"
      },
      "source": [
        "## Train the model\n",
        "---"
      ]
    },
    {
      "cell_type": "code",
      "metadata": {
        "id": "z2zD5MtyHelv"
      },
      "source": [
        "# Build darknet during each training session, even if model and datasets were made in previous sessions\n",
        "\n",
        "# TO DO: Type in the path to your working directory in form field to right\n",
        "wd = \"/content/drive/MyDrive/train/darknet\" #@param {type:\"string\"}\n",
        "%cd $wd\n",
        "\n",
        "# Verify CUDA version (for using GPU)\n",
        "!/usr/local/cuda/bin/nvcc --version\n",
        "\n",
        "# Make darknet\n",
        "!make\n",
        "\n",
        "# Copy original model config file to yolo-obj.cfg to use as a working file \n",
        "# Double click the cfg file in Colab's file explorer to open Colab's text editor\n",
        "# You can adjust hyperparameters and anchor box dimensions\n",
        "!cp cfg/yolov4-custom.cfg cfg/yolo-obj.cfg"
      ],
      "execution_count": null,
      "outputs": []
    },
    {
      "cell_type": "code",
      "metadata": {
        "id": "QSLXg6G7mJZP"
      },
      "source": [
        "# Actual training\n",
        "# add the flag -clear if retraining from scratch, otherwise re-running will build on previous training steps\n",
        "\n",
        "!./darknet detector train build/darknet/x64/data/obj.data cfg/yolo-obj.cfg build/darknet/x64/yolov4.conv.137 -map -dont_show "
      ],
      "execution_count": null,
      "outputs": []
    }
  ]
}
