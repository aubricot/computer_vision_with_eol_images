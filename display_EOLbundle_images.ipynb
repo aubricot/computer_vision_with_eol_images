{
  "cells": [
    {
      "cell_type": "markdown",
      "metadata": {
        "id": "view-in-github",
        "colab_type": "text"
      },
      "source": [
        "<a href=\"https://colab.research.google.com/github/aubricot/computer_vision_with_eol_images/blob/master/display_EOLbundle_images.ipynb\" target=\"_parent\"><img src=\"https://colab.research.google.com/assets/colab-badge.svg\" alt=\"Open In Colab\"/></a>"
      ]
    },
    {
      "cell_type": "markdown",
      "metadata": {
        "id": "ravhj4rmqop-"
      },
      "source": [
        "# Inspect EOL bundle images while preparing training datasets and pipelines\n",
        "---\n",
        "*Last updated on 21 February 2023*  \n",
        "Inspecting training data is important for designing pipelines. Use this notebook to visualize images in EOL bundles before downloading them to Google Drive. Pay attention to image quality, size of objects of interest, colors, taxonomic groups present, etc."
      ]
    },
    {
      "cell_type": "markdown",
      "metadata": {
        "id": "yv3zLtXVxMtM"
      },
      "source": [
        "## Import libraries and Define functions\n",
        "---"
      ]
    },
    {
      "cell_type": "code",
      "execution_count": null,
      "metadata": {
        "id": "MV6NyXvaodLU"
      },
      "outputs": [],
      "source": [
        "# For working with data and reading/displaying images\n",
        "import itertools\n",
        "import os\n",
        "import numpy as np\n",
        "import pandas as pd\n",
        "from skimage.transform import resize\n",
        "import matplotlib.pyplot as plt\n",
        "import time\n",
        "import tensorflow as tf\n",
        "import socket # Set number of seconds to timeout if image url taking too long to open\n",
        "socket.setdefaulttimeout(10)\n",
        "\n",
        "# To load in image from URL\n",
        "# Modified from https://colab.research.google.com/github/tensorflow/docs/blob/master/site/en/guide/saved_model.ipynb#scrollTo=JhVecdzJTsKE\n",
        "def image_from_url(url, fn):\n",
        "    file = tf.keras.utils.get_file(fn, url) # Filename doesn't matter\n",
        "    disp_img = tf.keras.preprocessing.image.load_img(file)\n",
        "    img = tf.keras.preprocessing.image.load_img(file, target_size=[224, 224])\n",
        "    x = tf.keras.preprocessing.image.img_to_array(img)\n",
        "    x = tf.keras.applications.mobilenet_v2.preprocess_input(\n",
        "        x[tf.newaxis,...])\n",
        "    return x, disp_img\n",
        "\n",
        "# To read in EOL formatted data files\n",
        "def read_datafile(fpath, sep=\"\\t\", header=0, disp_head=True):\n",
        "    hdr = {\n",
        "        'User-Agent': 'Mozilla/5.0 (X11; Linux x86_64) AppleWebKit/537.11 (KHTML, like Gecko) Chrome/23.0.1271.64 Safari/537.11',\n",
        "        'Accept': 'text/html,application/xhtml+xml,application/xml;q=0.9,*/*;q=0.8',\n",
        "        'Accept-Charset': 'ISO-8859-1,utf-8;q=0.7,*;q=0.3',\n",
        "        'Accept-Encoding': 'none',\n",
        "        'Accept-Language': 'en-US,en;q=0.8',\n",
        "        'Connection': 'keep-alive'\n",
        "        }\n",
        "    try:\n",
        "        df = pd.read_csv(fpath, sep=sep, header=header, storage_options=hdr)\n",
        "        if disp_head:\n",
        "            print(\"Data header: \\n\", df.head())\n",
        "    except FileNotFoundError as e:\n",
        "        raise Exception(\"File not found: Enter the path to your file in form field and re-run\").with_traceback(e.__traceback__)\n",
        "    \n",
        "    return df"
      ]
    },
    {
      "cell_type": "markdown",
      "metadata": {
        "id": "4k6tx_rMxRPV"
      },
      "source": [
        "## Display images\n",
        "---"
      ]
    },
    {
      "cell_type": "code",
      "execution_count": null,
      "metadata": {
        "colab": {
          "background_save": true
        },
        "id": "SwtohL1joVz4"
      },
      "outputs": [],
      "source": [
        "# Read in EOL image bundle dataframe\n",
        "# Type in image bundle url using form field to right\n",
        "bundle = \"https://editors.eol.org/other_files/bundle_images/files/images_for_Coleoptera_20K_breakdown_000001.txt\" #@param [\"https://editors.eol.org/other_files/bundle_images/files/images_for_Coleoptera_20K_breakdown_000001.txt\"] {allow-input: true}\n",
        "df = read_datafile(bundle)\n",
        "print(\"EOL image bundle: \\n\", df.head())\n",
        "\n",
        "# Set start and end rows to run inference for from EOL image bundle using form field to right\n",
        "start =  15000 #@param {type:\"integer\"}\n",
        "no_imgs = 50 #@param {type:\"slider\", min:0, max:50, step:5}\n",
        "end =  start + no_imgs\n",
        "\n",
        "# Loop through EOL image bundle to classify images and generate tags\n",
        "for i, row in df.iloc[start:end].iterrows():\n",
        "  try:\n",
        "    # Get url from image bundle\n",
        "    url = df['eolMediaURL'][i]\n",
        "    # Read in image from url\n",
        "    fn = str(i) + '.jpg'\n",
        "    img, disp_img = image_from_url(url, fn)\n",
        "\n",
        "    # Show classification results for images\n",
        "    _, ax = plt.subplots(figsize=(10, 10))\n",
        "    ax.imshow(disp_img)\n",
        "    plt.axis('off')\n",
        "    plt.title(\"{}) {}\".format(i, url))\n",
        "\n",
        "  except:\n",
        "    print('Check if URL from {} is valid'.format(url))"
      ]
    }
  ],
  "metadata": {
    "colab": {
      "provenance": [],
      "authorship_tag": "ABX9TyPC1z63Y7gmlkChGmWeyDf5",
      "include_colab_link": true
    },
    "kernelspec": {
      "display_name": "Python 3",
      "name": "python3"
    }
  },
  "nbformat": 4,
  "nbformat_minor": 0
}