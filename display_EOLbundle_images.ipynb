{
  "nbformat": 4,
  "nbformat_minor": 0,
  "metadata": {
    "colab": {
      "name": "display_bundle_images.ipynb",
      "provenance": [],
      "collapsed_sections": [],
      "authorship_tag": "ABX9TyObGqFA92v5wnZRG0O6fatC",
      "include_colab_link": true
    },
    "kernelspec": {
      "name": "python3",
      "display_name": "Python 3"
    }
  },
  "cells": [
    {
      "cell_type": "markdown",
      "metadata": {
        "id": "view-in-github",
        "colab_type": "text"
      },
      "source": [
        "<a href=\"https://colab.research.google.com/github/aubricot/computer_vision_with_eol_images/blob/master/display_EOLbundle_images.ipynb\" target=\"_parent\"><img src=\"https://colab.research.google.com/assets/colab-badge.svg\" alt=\"Open In Colab\"/></a>"
      ]
    },
    {
      "cell_type": "markdown",
      "metadata": {
        "id": "ravhj4rmqop-"
      },
      "source": [
        "# Inspect EOL bundle images while preparing training datasets and pipelines\n",
        "---\n",
        "*Last updated on 20 January 2021*  \n",
        "Inspecting training data is important for designing pipelines. Use this notebook to visualize images in EOL bundles before downloading them to Google Drive. Pay attention to image quality, size of objects of interest, colors, taxonomic groups present, etc."
      ]
    },
    {
      "cell_type": "code",
      "metadata": {
        "id": "MV6NyXvaodLU"
      },
      "source": [
        "# For working with data and reading/displaying images\n",
        "import itertools\n",
        "import os\n",
        "import numpy as np\n",
        "import pandas as pd\n",
        "from skimage.transform import resize\n",
        "import matplotlib.pyplot as plt\n",
        "import time\n",
        "import tensorflow as tf\n",
        "\n",
        "# To load in image from URL\n",
        "# Modified from https://colab.research.google.com/github/tensorflow/docs/blob/master/site/en/guide/saved_model.ipynb#scrollTo=JhVecdzJTsKE\n",
        "def image_from_url(url, fn):\n",
        "  file = tf.keras.utils.get_file(fn, url) # Filename doesn't matter\n",
        "  disp_img = tf.keras.preprocessing.image.load_img(file)\n",
        "  img = tf.keras.preprocessing.image.load_img(file, target_size=[224, 224])\n",
        "  x = tf.keras.preprocessing.image.img_to_array(img)\n",
        "  x = tf.keras.applications.mobilenet_v2.preprocess_input(\n",
        "    x[tf.newaxis,...])\n",
        "  return x, disp_img"
      ],
      "execution_count": null,
      "outputs": []
    },
    {
      "cell_type": "code",
      "metadata": {
        "id": "SwtohL1joVz4"
      },
      "source": [
        "# Read in EOL image bundle dataframe\n",
        "# TO DO: Type in image bundle url using form field to right\n",
        "bundle = 'https://editors.eol.org/other_files/bundle_images/files/images_for_Chiroptera_breakdown_000001.txt' #@param {type:\"string\"}\n",
        "df = pd.read_csv(bundle, sep='\\t', header=0)\n",
        "df.head()\n",
        "\n",
        "# Set number of seconds to timeout if image url taking too long to open\n",
        "import socket\n",
        "socket.setdefaulttimeout(10)\n",
        "\n",
        "# TO DO: Set start and end rows to run inference for from EOL image bundle using form field to right\n",
        "start =  45#@param {type:\"integer\"}\n",
        "end =  95#@param {type:\"integer\"}\n",
        "\n",
        "# Loop through EOL image bundle to classify images and generate tags\n",
        "for i, row in df.iloc[start:end].iterrows():\n",
        "  try:\n",
        "    # Get url from image bundle\n",
        "    url = df['eolMediaURL'][i]\n",
        "    # Read in image from url\n",
        "    fn = str(i) + '.jpg'\n",
        "    img, disp_img = image_from_url(url, fn)\n",
        "\n",
        "    # Show classification results for images\n",
        "    _, ax = plt.subplots(figsize=(10, 10))\n",
        "    ax.imshow(disp_img)\n",
        "    plt.axis('off')\n",
        "    plt.title(\"{}) {}\".format(i, url))\n",
        "\n",
        "  except:\n",
        "    print('Check if URL from {} is valid'.format(url))"
      ],
      "execution_count": null,
      "outputs": []
    }
  ]
}