{
  "nbformat": 4,
  "nbformat_minor": 0,
  "metadata": {
    "colab": {
      "name": "git_coordinates_display_test.ipynb",
      "provenance": [],
      "collapsed_sections": [],
      "include_colab_link": true
    },
    "kernelspec": {
      "name": "python3",
      "display_name": "Python 3"
    },
    "accelerator": "GPU"
  },
  "cells": [
    {
      "cell_type": "markdown",
      "metadata": {
        "id": "view-in-github",
        "colab_type": "text"
      },
      "source": [
        "<a href=\"https://colab.research.google.com/github/aubricot/object_detection_for_image_cropping/blob/master/coordinates_display_test.ipynb\" target=\"_parent\"><img src=\"https://colab.research.google.com/assets/colab-badge.svg\" alt=\"Open In Colab\"/></a>"
      ]
    },
    {
      "cell_type": "markdown",
      "metadata": {
        "id": "KDF3pvUbR79-",
        "colab_type": "text"
      },
      "source": [
        "# Display box coordinates resulting from object detection or image augmentation on images\n",
        "---\n",
        "*Last Updated 24 January 2020*   \n",
        "Use this notebook to verify the coordinates resulting from either object detection or image augmentation. If results aren't as expected, data reformatting and tidying steps in [convert_bboxdims.py](https://github.com/aubricot/object_detection_for_image_cropping/blob/master/convert_bboxdims.py) or [preprocessing.ipynb](https://colab.research.google.com/github/aubricot/object_detection_for_image_cropping/blob/master/preprocessing.ipynb) can be adjusted and results re-displayed accordingly.\n",
        "\n",
        "__Coordinates from object detection__: Bounding boxes resulting from object detection using YOLO were exported from object_detection_for_image_cropping_yolo.ipynb, then converted to square dimensions and padded to be used as crop coordinates for EOL images using convert_bboxdims.py. Crop coordinates were exported to bird_crops_yolo_1000img_display_test.tsv and should be imported to your Google Drive for upload to this notebook.\n",
        "\n",
        "__Coordinates from pre-processing and augmentation__: Bounding boxes resulting from pre-processing and augmentation of EOL user-generated cropping coordinates and images were tidied and exported from preprocessing.ipynb to chiroptera_crops_train_aug_fin.tsv and chiroptera_crops_test_notaug_fin.tsv and should be imported to your Google Drive for upload to this notebook. "
      ]
    },
    {
      "cell_type": "markdown",
      "metadata": {
        "id": "gB46XHAgR0rZ",
        "colab_type": "text"
      },
      "source": [
        "## Imports\n",
        "---\n"
      ]
    },
    {
      "cell_type": "code",
      "metadata": {
        "id": "Ei41bcPX_Uw0",
        "colab_type": "code",
        "colab": {}
      },
      "source": [
        "# For importing data and images\n",
        "import numpy as np \n",
        "import pandas as pd\n",
        "import urllib\n",
        "\n",
        "# For drawing on and displaying images\n",
        "import cv2\n",
        "import matplotlib.pyplot as plt\n",
        "%config InlineBackend.figure_format = 'svg'"
      ],
      "execution_count": 0,
      "outputs": []
    },
    {
      "cell_type": "markdown",
      "metadata": {
        "id": "MMXbfv8LkPDM",
        "colab_type": "text"
      },
      "source": [
        "##Load in crop coordinates from Google Drive\n",
        "---"
      ]
    },
    {
      "cell_type": "code",
      "metadata": {
        "id": "0eil6qUvOFbi",
        "colab_type": "code",
        "colab": {}
      },
      "source": [
        "# Mount Google Drive to import your file containing coordinates (object detection bounding boxes, cropping coordinates, etc.)\n",
        "from google.colab import drive\n",
        "drive.mount('/content/drive')"
      ],
      "execution_count": 0,
      "outputs": []
    },
    {
      "cell_type": "code",
      "metadata": {
        "id": "JwDoLIKqANG3",
        "colab_type": "code",
        "colab": {}
      },
      "source": [
        "# Import your file containining coordinates from Google Drive\n",
        "# Note: First you need to upload the file to your Google Drive, then adjust the path accordingly\n",
        "df = pd.read_csv('/content/drive/My Drive/[your path here]', sep='\\t', header=0)\n",
        "print(df.head())"
      ],
      "execution_count": 0,
      "outputs": []
    },
    {
      "cell_type": "markdown",
      "metadata": {
        "id": "i6CADy0ShfMy",
        "colab_type": "text"
      },
      "source": [
        "## Display crop dimensions on images\n",
        "---"
      ]
    },
    {
      "cell_type": "code",
      "metadata": {
        "id": "brfp9BGV_Ro1",
        "colab_type": "code",
        "colab": {}
      },
      "source": [
        "# For uploading an image from url\n",
        "# Modified from https://www.pyimagesearch.com/2015/03/02/convert-url-to-image-with-python-and-opencv/\n",
        "def url_to_image(url):\n",
        "  resp = urllib.request.urlopen(url)\n",
        "  image = np.asarray(bytearray(resp.read()), dtype=\"uint8\")\n",
        "  image = cv2.imdecode(image, cv2.IMREAD_COLOR)\n",
        "  image = cv2.cvtColor(image, cv2.COLOR_BGR2RGB)\n",
        " \n",
        "  return image"
      ],
      "execution_count": 0,
      "outputs": []
    },
    {
      "cell_type": "code",
      "metadata": {
        "id": "NMyK85W4O5d7",
        "colab_type": "code",
        "colab": {}
      },
      "source": [
        "# Display crop dimensions on images\n",
        "# Adjust line below to see up to 50 images displayed at a time\n",
        "for i, row in df.head(30).iterrows():\n",
        "  # Read in image \n",
        "  url = df['obj_url'][i]\n",
        "  img = url_to_image(url)\n",
        "\n",
        "  # Draw box on image\n",
        "  # Last values listed adjust color (255, 0, 157) and line thickness (5)\n",
        "  image_wbox = cv2.rectangle(img, (df['xmin'][i].astype(int), df['ymin'][i].astype(int)), \n",
        "                             (df['xmax'][i].astype(int), df['ymax'][i].astype(int)), \n",
        "                                                      (255, 0, 157), 5) \n",
        "  \n",
        "  # Plot and show cropping boxes on images\n",
        "  _, ax = plt.subplots(figsize=(10, 10))\n",
        "  ax.imshow(image_wbox)\n",
        "  # Display image URL above image to facilitate troubleshooting/fine-tuning of data reformatting and tidying steps in convert_bboxdims.py or image_aug_training_yolo.ipynb\n",
        "  plt.title('{}'.format(url))"
      ],
      "execution_count": 0,
      "outputs": []
    }
  ]
}