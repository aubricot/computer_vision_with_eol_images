{
  "nbformat": 4,
  "nbformat_minor": 0,
  "metadata": {
    "colab": {
      "name": "generate_drive_fileid.ipynb",
      "provenance": [],
      "collapsed_sections": [],
      "toc_visible": true,
      "authorship_tag": "ABX9TyMFPgVh2xL3T8vcaRbmCOy7",
      "include_colab_link": true
    },
    "kernelspec": {
      "name": "python3",
      "display_name": "Python 3"
    }
  },
  "cells": [
    {
      "cell_type": "markdown",
      "metadata": {
        "id": "view-in-github",
        "colab_type": "text"
      },
      "source": [
        "<a href=\"https://colab.research.google.com/github/aubricot/computer_vision_with_eol_images/blob/master/generate_drive_fileid.ipynb\" target=\"_parent\"><img src=\"https://colab.research.google.com/assets/colab-badge.svg\" alt=\"Open In Colab\"/></a>"
      ]
    },
    {
      "cell_type": "markdown",
      "metadata": {
        "id": "uBkj1wGxU9Yw"
      },
      "source": [
        "# Generate Google Drive fileid to include in notebooks for others to easily download your files to their VM\n",
        "---\n",
        "*Last Updated 23 Feb 2021*   \n",
        "File share settings must be set to \"anyone with the link.\" After you generate a fileid, files can be downloaded in future notebooks using the following code:   \n",
        "!gdown --id yourfileid"
      ]
    },
    {
      "cell_type": "code",
      "metadata": {
        "id": "GLT3wUub8BTD"
      },
      "source": [
        "# Mount google drive to import/export files\n",
        "from google.colab import drive\n",
        "drive.mount('/content/drive', force_remount=True)"
      ],
      "execution_count": null,
      "outputs": []
    },
    {
      "cell_type": "code",
      "metadata": {
        "id": "ZnBAZcy476jU"
      },
      "source": [
        "# Install xattr\n",
        "!apt-get install -qq xattr"
      ],
      "execution_count": null,
      "outputs": []
    },
    {
      "cell_type": "code",
      "metadata": {
        "id": "eaWKm3Bg8Jqk"
      },
      "source": [
        "# TO DO: Enter path to the file you want to generate a Google Drive fileid to using form field to right\n",
        "path_to_file = \"/content/drive/My Drive/EOL_19_20_21/spr21\" #@param {type:\"string\"}\n",
        "filename = \"yolo-2c_slowlr_anch.cfg\" #@param {type:\"string\"}\n",
        "\n",
        "%cd $path_to_file\n",
        "print(\"Google Drive fileid:\")\n",
        "!xattr -p 'user.drive.id' $filename"
      ],
      "execution_count": null,
      "outputs": []
    },
    {
      "cell_type": "code",
      "metadata": {
        "id": "ugj3kda38vz2"
      },
      "source": [
        "# Test download with generated id, replace fileid with output from cell above\n",
        "!gdown --id 1wgKwWsnmJDOWzrimp3GTPtpKLoBGoyMg"
      ],
      "execution_count": null,
      "outputs": []
    }
  ]
}