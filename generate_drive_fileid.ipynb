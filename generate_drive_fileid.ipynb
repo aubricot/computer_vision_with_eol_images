{
  "nbformat": 4,
  "nbformat_minor": 0,
  "metadata": {
    "colab": {
      "name": "generate_drive_fileid.ipynb",
      "provenance": [],
      "collapsed_sections": [],
      "authorship_tag": "ABX9TyMoaoDOhk0uDncUHpCg5K/7",
      "include_colab_link": true
    },
    "kernelspec": {
      "name": "python3",
      "display_name": "Python 3"
    }
  },
  "cells": [
    {
      "cell_type": "markdown",
      "metadata": {
        "id": "view-in-github",
        "colab_type": "text"
      },
      "source": [
        "<a href=\"https://colab.research.google.com/github/aubricot/object_detection_for_image_cropping/blob/master/generate_drive_fileid.ipynb\" target=\"_parent\"><img src=\"https://colab.research.google.com/assets/colab-badge.svg\" alt=\"Open In Colab\"/></a>"
      ]
    },
    {
      "cell_type": "code",
      "metadata": {
        "id": "GLT3wUub8BTD",
        "colab_type": "code",
        "colab": {}
      },
      "source": [
        "# Mount google drive to import/export files\n",
        "from google.colab import drive\n",
        "drive.mount('/content/drive')"
      ],
      "execution_count": 0,
      "outputs": []
    },
    {
      "cell_type": "code",
      "metadata": {
        "id": "ZnBAZcy476jU",
        "colab_type": "code",
        "colab": {}
      },
      "source": [
        "# Install xattr\n",
        "!apt-get install -qq xattr"
      ],
      "execution_count": 0,
      "outputs": []
    },
    {
      "cell_type": "code",
      "metadata": {
        "id": "eaWKm3Bg8Jqk",
        "colab_type": "code",
        "colab": {}
      },
      "source": [
        "# Cd to directory of your file, replace yolo-1c.cfg with your filename\n",
        "# Make sure file is set to public\n",
        "%cd drive/My Drive/[your-path]\n",
        "!xattr -p 'user.drive.id' filename.ext"
      ],
      "execution_count": 0,
      "outputs": []
    },
    {
      "cell_type": "code",
      "metadata": {
        "id": "ugj3kda38vz2",
        "colab_type": "code",
        "colab": {}
      },
      "source": [
        "# Test download with generated id, replace fileid with output from cell above\n",
        "!gdown --id fileid"
      ],
      "execution_count": 0,
      "outputs": []
    }
  ]
}