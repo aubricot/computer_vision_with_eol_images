{
  "nbformat": 4,
  "nbformat_minor": 0,
  "metadata": {
    "colab": {
      "provenance": [],
      "include_colab_link": true
    },
    "kernelspec": {
      "name": "python3",
      "display_name": "Python 3"
    }
  },
  "cells": [
    {
      "cell_type": "markdown",
      "metadata": {
        "id": "view-in-github",
        "colab_type": "text"
      },
      "source": [
        "<a href=\"https://colab.research.google.com/github/aubricot/computer_vision_with_eol_images/blob/master/generate_drive_fileid.ipynb\" target=\"_parent\"><img src=\"https://colab.research.google.com/assets/colab-badge.svg\" alt=\"Open In Colab\"/></a>"
      ]
    },
    {
      "cell_type": "markdown",
      "source": [
        "# Generate Google Drive file id for downloading files using gdown\n",
        "---\n",
        "*Last updated 20 Feb 2023*  \n",
        "Create unique file id to download files in notebooks using gdown syntax."
      ],
      "metadata": {
        "id": "9xMun6tfyIZ_"
      }
    },
    {
      "cell_type": "code",
      "metadata": {
        "id": "GLT3wUub8BTD"
      },
      "source": [
        "# Mount google drive to import/export files\n",
        "from google.colab import drive\n",
        "drive.mount('/content/drive')"
      ],
      "execution_count": null,
      "outputs": []
    },
    {
      "cell_type": "code",
      "metadata": {
        "id": "ZnBAZcy476jU"
      },
      "source": [
        "# Install xattr\n",
        "!apt-get install -qq xattr"
      ],
      "execution_count": null,
      "outputs": []
    },
    {
      "cell_type": "markdown",
      "source": [
        "### Generate drive file id for file of interest\n",
        "Make sure file share settings are set to public (anyone with link can view)"
      ],
      "metadata": {
        "id": "73axJeNEsUqE"
      }
    },
    {
      "cell_type": "code",
      "metadata": {
        "id": "eaWKm3Bg8Jqk"
      },
      "source": [
        "# Set working directory and filename using form fields on right\n",
        "wd = \"/content/drive/MyDrive/saved_models/\" #@param [\"/content/drive/MyDrive/saved_models/\"] {allow-input: true}\n",
        "fn = \"herbarium_sheets_download.txt\" #@param [\"herbarium_sheets_download.txt\"] {allow-input: true}\n",
        "%cd $wd\n",
        "\n",
        "# Generate drive file_id\n",
        "file_id = !xattr -p 'user.drive.id' {fn}\n",
        "file_id = file_id[0]"
      ],
      "execution_count": null,
      "outputs": []
    },
    {
      "cell_type": "code",
      "metadata": {
        "id": "ugj3kda38vz2"
      },
      "source": [
        "# Test download with generated id, replace fileid with output from cell above\n",
        "!gdown {file_id}"
      ],
      "execution_count": null,
      "outputs": []
    }
  ]
}