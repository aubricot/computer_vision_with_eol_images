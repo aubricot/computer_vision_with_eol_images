{
  "nbformat": 4,
  "nbformat_minor": 0,
  "metadata": {
    "colab": {
      "name": "calculate_error_mAP.ipynb",
      "provenance": [],
      "collapsed_sections": [],
      "authorship_tag": "ABX9TyO4fSemvUdlK5snzA/uOBLj",
      "include_colab_link": true
    },
    "kernelspec": {
      "name": "python3",
      "display_name": "Python 3"
    }
  },
  "cells": [
    {
      "cell_type": "markdown",
      "metadata": {
        "id": "view-in-github",
        "colab_type": "text"
      },
      "source": [
        "<a href=\"https://colab.research.google.com/github/aubricot/object_detection_for_image_cropping/blob/master/calculate_error_mAP.ipynb\" target=\"_parent\"><img src=\"https://colab.research.google.com/assets/colab-badge.svg\" alt=\"Open In Colab\"/></a>"
      ]
    },
    {
      "cell_type": "markdown",
      "metadata": {
        "id": "k3JTznL1ocgj",
        "colab_type": "text"
      },
      "source": [
        "# Calculate detection result error (mAP) from YOLO object detection results\n",
        "---\n",
        "*Last Updated 3 February 2020*   \n",
        "Use exported detection result coordinates from YOLO via darkflow to calculate detection error using mean Average Precision (mAP) and Intersection over Union (IoU).\n",
        "\n",
        "Code modified from the [mAP GitHub repo](https://github.com/Cartucho/mAP#create-the-ground-truth-files)."
      ]
    },
    {
      "cell_type": "code",
      "metadata": {
        "id": "pjGPa9NbYD1_",
        "colab_type": "code",
        "colab": {
          "base_uri": "https://localhost:8080/",
          "height": 34
        },
        "outputId": "fafb0aa5-bdcf-40db-b8d6-831fd5eee69c"
      },
      "source": [
        "# Mount google drive to import/export files\n",
        "from google.colab import drive\n",
        "drive.mount('/content/drive', force_remount=True)"
      ],
      "execution_count": 1,
      "outputs": [
        {
          "output_type": "stream",
          "text": [
            "Mounted at /content/drive\n"
          ],
          "name": "stdout"
        }
      ]
    },
    {
      "cell_type": "markdown",
      "metadata": {
        "id": "_ym-DoQfrGpZ",
        "colab_type": "text"
      },
      "source": [
        "### Convert test image detection results (jsons) and annotation files (xmls) to text files\n",
        "---"
      ]
    },
    {
      "cell_type": "code",
      "metadata": {
        "id": "IMnDtYBkoQ-M",
        "colab_type": "code",
        "colab": {
          "base_uri": "https://localhost:8080/",
          "height": 168
        },
        "outputId": "9e4fd666-cd82-446d-c657-f49705eb4fdb"
      },
      "source": [
        "# Install the mAP repository to calculate error from detection results\n",
        "import os\n",
        "%cd drive/My Drive/fall19_smithsonian_informatics/train\n",
        "if not os.path.exists(\"eval\"):\n",
        "  !mkdir eval\n",
        "  %cd eval\n",
        "  !git clone https://github.com/Cartucho/mAP"
      ],
      "execution_count": 3,
      "outputs": [
        {
          "output_type": "stream",
          "text": [
            "[Errno 2] No such file or directory: 'drive/My Drive/fall19_smithsonian_informatics/train'\n",
            "/content/drive/My Drive/fall19_smithsonian_informatics/train\n",
            "/content/drive/My Drive/fall19_smithsonian_informatics/train/mAP\n",
            "Cloning into 'mAP'...\n",
            "remote: Enumerating objects: 880, done.\u001b[K\n",
            "remote: Total 880 (delta 0), reused 0 (delta 0), pack-reused 880\u001b[K\n",
            "Receiving objects: 100% (880/880), 14.70 MiB | 14.74 MiB/s, done.\n",
            "Resolving deltas: 100% (304/304), done.\n",
            "Checking out files: 100% (269/269), done.\n"
          ],
          "name": "stdout"
        }
      ]
    },
    {
      "cell_type": "code",
      "metadata": {
        "id": "4FuEdcxpiCT2",
        "colab_type": "code",
        "colab": {}
      },
      "source": [
        "# Move yolo detection results (jsons exported from training_yolo.ipynb) to detection-results/\n",
        "# cd to train/\n",
        "%cd ../\n",
        "!mv test_images/out/* eval/mAP/input/detection-results/\n",
        "!rm -rf test_images/out"
      ],
      "execution_count": 0,
      "outputs": []
    },
    {
      "cell_type": "code",
      "metadata": {
        "id": "yBfdBGNKnd4l",
        "colab_type": "code",
        "colab": {}
      },
      "source": [
        "# Copy image annotations (xmls formatted with ground truth bounding boxes) to ground-truth/\n",
        "!cp test_ann/* eval/mAP/input/ground-truth/"
      ],
      "execution_count": 0,
      "outputs": []
    },
    {
      "cell_type": "code",
      "metadata": {
        "id": "7JuYLqfXpBsT",
        "colab_type": "code",
        "colab": {
          "base_uri": "https://localhost:8080/",
          "height": 50
        },
        "outputId": "7631a16f-6ab9-4d08-8073-b0f665c39a4f"
      },
      "source": [
        "# Convert jsons to format needed for mAP calc\n",
        "%cd eval/mAP/scripts/extra\n",
        "!python convert_dr_darkflow_json.py"
      ],
      "execution_count": 16,
      "outputs": [
        {
          "output_type": "stream",
          "text": [
            "/content/drive/My Drive/fall19_smithsonian_informatics/train/eval/mAP/scripts/extra\n",
            "Conversion completed!\n"
          ],
          "name": "stdout"
        }
      ]
    },
    {
      "cell_type": "code",
      "metadata": {
        "id": "-gM1RtGAm7Fg",
        "colab_type": "code",
        "colab": {
          "base_uri": "https://localhost:8080/",
          "height": 50
        },
        "outputId": "a5eea262-d7a0-418b-8699-c1f49fcefe3c"
      },
      "source": [
        "# Convert xmls to format needed for mAP calc\n",
        "%cd eval/mAP/scripts/extra\n",
        "!python convert_gt_xml.py"
      ],
      "execution_count": 19,
      "outputs": [
        {
          "output_type": "stream",
          "text": [
            "/content/drive/My Drive/fall19_smithsonian_informatics/train/eval/mAP/scripts/extra\n",
            "Conversion completed!\n"
          ],
          "name": "stdout"
        }
      ]
    },
    {
      "cell_type": "code",
      "metadata": {
        "id": "UKMap2ZRtC9L",
        "colab_type": "code",
        "colab": {}
      },
      "source": [
        "# Remove sample images in input/images-optional\n",
        "# cd to mAP\n",
        "%cd ../../\n",
        "!rm -rf input/images-optional/*"
      ],
      "execution_count": 0,
      "outputs": []
    },
    {
      "cell_type": "markdown",
      "metadata": {
        "id": "qRcR2EbErUwO",
        "colab_type": "text"
      },
      "source": [
        "### Calculate mAP for test images\n",
        "---"
      ]
    },
    {
      "cell_type": "code",
      "metadata": {
        "id": "lg3xlEK2uXNq",
        "colab_type": "code",
        "colab": {
          "base_uri": "https://localhost:8080/",
          "height": 101
        },
        "outputId": "f80a7b33-221b-4837-b0eb-a4a8e8731163"
      },
      "source": [
        "# Calculate mAP for detection results\n",
        "# Output will be in mAP/results\n",
        "%cd eval/mAP\n",
        "!python main.py"
      ],
      "execution_count": 10,
      "outputs": [
        {
          "output_type": "stream",
          "text": [
            "[Errno 2] No such file or directory: 'eval/mAP'\n",
            "/content/drive/My Drive/fall19_smithsonian_informatics/train/eval/mAP\n",
            "60.45% = Chiroptera AP \n",
            "mAP = 60.45%\n",
            "<Figure size 640x480 with 1 Axes>\n"
          ],
          "name": "stdout"
        }
      ]
    }
  ]
}