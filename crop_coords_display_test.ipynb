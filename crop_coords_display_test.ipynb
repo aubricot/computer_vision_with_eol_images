{
  "nbformat": 4,
  "nbformat_minor": 0,
  "metadata": {
    "colab": {
      "name": "COLAB_crop_coords_display_test.ipynb",
      "provenance": [],
      "collapsed_sections": [],
      "include_colab_link": true
    },
    "kernelspec": {
      "name": "python3",
      "display_name": "Python 3"
    },
    "accelerator": "GPU"
  },
  "cells": [
    {
      "cell_type": "markdown",
      "metadata": {
        "id": "view-in-github",
        "colab_type": "text"
      },
      "source": [
        "<a href=\"https://colab.research.google.com/github/aubricot/object_detection_for_image_cropping/blob/master/crop_coords_display_test.ipynb\" target=\"_parent\"><img src=\"https://colab.research.google.com/assets/colab-badge.svg\" alt=\"Open In Colab\"/></a>"
      ]
    },
    {
      "cell_type": "markdown",
      "metadata": {
        "id": "KDF3pvUbR79-",
        "colab_type": "text"
      },
      "source": [
        "# Test display of EOL image crop coordinates generated using object detection\n",
        "---\n",
        "*Last Updated 9 December 2019*   \n",
        "Bounding boxes resulting from object detection using YOLO were exported from object_detection_for_image_cropping_yolo.ipynb, then converted to square dimensions and padded to be used as crop coordinates for EOL images using convert_bboxdims.py. Crop coordinates were exported to bird_crops_yolo_1000img_display_test.tsv and should be imported to your Google Drive for upload to this notebook.\n",
        "\n",
        "This notebook is meant to be run enitrely in Google Colab and doesn't require any software installations or downloads to your local machine. To get started, just click the \"Open in Colab\" button. "
      ]
    },
    {
      "cell_type": "markdown",
      "metadata": {
        "id": "gB46XHAgR0rZ",
        "colab_type": "text"
      },
      "source": [
        "## Imports\n",
        "---\n"
      ]
    },
    {
      "cell_type": "code",
      "metadata": {
        "id": "Ei41bcPX_Uw0",
        "colab_type": "code",
        "colab": {}
      },
      "source": [
        "# For importing data and images\n",
        "import numpy as np \n",
        "import pandas as pd\n",
        "import urllib\n",
        "\n",
        "# For drawing on and displaying images\n",
        "import cv2\n",
        "import matplotlib.pyplot as plt\n",
        "%config InlineBackend.figure_format = 'svg'"
      ],
      "execution_count": 0,
      "outputs": []
    },
    {
      "cell_type": "markdown",
      "metadata": {
        "id": "MMXbfv8LkPDM",
        "colab_type": "text"
      },
      "source": [
        "##Load in crop coordinates from Google Drive\n",
        "---"
      ]
    },
    {
      "cell_type": "code",
      "metadata": {
        "id": "0eil6qUvOFbi",
        "colab_type": "code",
        "colab": {}
      },
      "source": [
        "# Mount google drive to export detection results as tsv\n",
        "from google.colab import drive\n",
        "drive.mount('/content/drive')"
      ],
      "execution_count": 0,
      "outputs": []
    },
    {
      "cell_type": "code",
      "metadata": {
        "id": "JwDoLIKqANG3",
        "colab_type": "code",
        "colab": {}
      },
      "source": [
        "# Read in display_test.tsv from Google Drive to dataframe\n",
        "# Note: First you need to upload bird_crops_yolo_1000img_display_test.tsv to your Google Drive, then adjust the path accordintly\n",
        "df = pd.read_csv('/content/drive/My Drive/fall19_smithsonian_informatics/bird_crops_yolo_1000img_display_test.tsv', delimiter='\\t')\n",
        "print(df.head())"
      ],
      "execution_count": 0,
      "outputs": []
    },
    {
      "cell_type": "markdown",
      "metadata": {
        "id": "i6CADy0ShfMy",
        "colab_type": "text"
      },
      "source": [
        "## Display crop dimensions on images\n",
        "---"
      ]
    },
    {
      "cell_type": "code",
      "metadata": {
        "id": "brfp9BGV_Ro1",
        "colab_type": "code",
        "colab": {}
      },
      "source": [
        "# For uploading an image from url\n",
        "# Modified from https://www.pyimagesearch.com/2015/03/02/convert-url-to-image-with-python-and-opencv/\n",
        "def url_to_image(url):\n",
        "  resp = urllib.request.urlopen(url)\n",
        "  image = np.asarray(bytearray(resp.read()), dtype=\"uint8\")\n",
        "  image = cv2.imdecode(image, cv2.IMREAD_COLOR)\n",
        "  image = cv2.cvtColor(image, cv2.COLOR_BGR2RGB)\n",
        " \n",
        "  return image"
      ],
      "execution_count": 0,
      "outputs": []
    },
    {
      "cell_type": "code",
      "metadata": {
        "id": "NMyK85W4O5d7",
        "colab_type": "code",
        "colab": {}
      },
      "source": [
        "# Display crop dimensions on images\n",
        "# Adjust line below to see up to 50 images displayed at a time\n",
        "for i, row in df.head(5).iterrows():\n",
        "  # Read in image \n",
        "  url = df['eolMediaURL'][i]\n",
        "  img = url_to_image(url)\n",
        "\n",
        "  # Create rectangle \n",
        "  image_wbox = cv2.rectangle(img, (df['xmin'][i], df['ymin'][i]), (df['xmin'][i] + df['crop_width'][i], \n",
        "                                                      df['ymin'][i] + df['crop_height'][i]), \n",
        "                                                      (255, 0, 157), 5) \n",
        "  \n",
        "  # Plot and show cropping boxes on images\n",
        "  _, ax = plt.subplots(figsize=(10, 10))\n",
        "  ax.imshow(image_wbox)\n",
        "  # Display image URL's above image to facilitate troubleshooting/fine-tuning convert_bboxdims.py\n",
        "  # Can use URL to find specific dimensions in bird_crops_yolo_1000img_display_test.tsv\n",
        "  plt.title('{}'.format(url))"
      ],
      "execution_count": 0,
      "outputs": []
    }
  ]
}