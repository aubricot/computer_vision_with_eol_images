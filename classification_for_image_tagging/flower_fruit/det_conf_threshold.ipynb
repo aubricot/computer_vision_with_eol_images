{
  "nbformat": 4,
  "nbformat_minor": 0,
  "metadata": {
    "colab": {
      "name": "det_conf_threshold.ipynb",
      "provenance": [],
      "collapsed_sections": [],
      "authorship_tag": "ABX9TyO0LB9DA6ZUnaemCPYs5A60",
      "include_colab_link": true
    },
    "kernelspec": {
      "name": "python3",
      "display_name": "Python 3"
    }
  },
  "cells": [
    {
      "cell_type": "markdown",
      "metadata": {
        "id": "view-in-github",
        "colab_type": "text"
      },
      "source": [
        "<a href=\"https://colab.research.google.com/github/aubricot/computer_vision_with_eol_images/blob/master/classification_for_image_tagging/flower_fruit/det_conf_threshold.ipynb\" target=\"_parent\"><img src=\"https://colab.research.google.com/assets/colab-badge.svg\" alt=\"Open In Colab\"/></a>"
      ]
    },
    {
      "cell_type": "markdown",
      "metadata": {
        "id": "_TcYNLBrWC0C"
      },
      "source": [
        "# Determine confidence threshold for Flower/Fruit Classification Models \n",
        "---\n",
        "*Last Updated 27 September 2020*   \n",
        "Choose which trained model and confidence threshold values to use for classifying flowers/fruits from EOL images. Threshold values should be chosen that maximize coverage and minimize error.\n",
        "\n",
        "First, choose the N-best models trained in [flower_fruit_train.ipynb](https://colab.research.google.com/github/aubricot/computer_vision_with_eol_images/blob/master/classification_for_image_tagging/flower_fruit/flower_fruit_preprocessing.ipynb). Then, run this notebook. \n",
        "\n",
        "1) Save model predictions and confidence values for 500 images per class  (Flower, Fruit, Null) for each model.   \n",
        "2) Load saved model prediction and confidence files from 1.   \n",
        "3) Visualize confidence values for true and false predictions per class to determine thresholds for use with flower-fruit classifiers."
      ]
    },
    {
      "cell_type": "markdown",
      "metadata": {
        "id": "ZYW4W2aqdnTN"
      },
      "source": [
        "### Imports\n",
        "---"
      ]
    },
    {
      "cell_type": "code",
      "metadata": {
        "id": "6k81-h_UV_ny"
      },
      "source": [
        "# Mount google drive to import/export files\n",
        "from google.colab import drive\n",
        "drive.mount('/content/drive', force_remount=True)"
      ],
      "execution_count": null,
      "outputs": []
    },
    {
      "cell_type": "code",
      "metadata": {
        "id": "1AGFM4fSWhbT"
      },
      "source": [
        "# For working with data and plotting graphs\n",
        "import itertools\n",
        "import os\n",
        "import numpy as np\n",
        "import pandas as pd\n",
        "import matplotlib.pyplot as plt\n",
        "%matplotlib inline\n",
        "\n",
        "# For image classification and training\n",
        "import tensorflow as tf\n",
        "\n",
        "%cd drive/My Drive/summer20/classification/flower_fruit/det_conf_threshold/"
      ],
      "execution_count": null,
      "outputs": []
    },
    {
      "cell_type": "markdown",
      "metadata": {
        "id": "u2PEaR_a_0QH"
      },
      "source": [
        "### 1) Save model predictions and confidence values for 500 images per class  (Flower, Fruit, Null) for each model\n",
        "---   \n",
        "True and false predictions by confidence value will be used to compare model performance per performance. Get values for models from 7 best training runs. "
      ]
    },
    {
      "cell_type": "code",
      "metadata": {
        "id": "efIHQCtAAmYg"
      },
      "source": [
        "# Define functions\n",
        "\n",
        "# TO DO: Do you want to display classification results for the most recently trained model?\n",
        "answer = \"No\" #@param [\"Yes\", \"No\"]\n",
        "# TO DO: If No, manually input desired training attempt number to the right\n",
        "if answer == \"Yes\":\n",
        "  # Display results from most recent training attempt\n",
        "  last_attempt = !ls /content/drive/'My Drive'/summer20/classification/flower_fruit/saved_models/ | tail -n 1\n",
        "  TRAIN_SESS_NUM = str(last_attempt.n)\n",
        "else:\n",
        "TRAIN_SESS_NUM = \"11\" #@param [\"03\", \"05\", \"07\", \"08\", \"09\", \"11\", \"23_retrain\"]\n",
        "\n",
        "# Load trained model from path\n",
        "saved_model_path = '/content/drive/My Drive/summer20/classification/flower_fruit/saved_models/' + TRAIN_SESS_NUM\n",
        "flower_model = tf.keras.models.load_model(saved_model_path)\n",
        "\n",
        "# Function for plotting classification results with color-coded label if true or false prediction\n",
        "label_names = ['Flower', 'Fruit', 'Null']"
      ],
      "execution_count": null,
      "outputs": []
    },
    {
      "cell_type": "code",
      "metadata": {
        "id": "0ZXo6iVvBF0G"
      },
      "source": [
        "# Run inference\n",
        "from PIL import Image\n",
        "import time\n",
        "\n",
        "# TO DO: Choose the image class to run for (Run 1x per class per model)\n",
        "base = '/content/drive/My Drive/summer20/classification/'\n",
        "classifier = \"flower_fruit/\" #@param [\"flower_fruit/\"]\n",
        "true_imclass = \"03_null\" #@param [\"02_fruit\", \"01_flower\", \"03_null\"]\n",
        "PATH_TO_TEST_IMAGES_DIR = base + classifier + \"images/\" + true_imclass\n",
        "names = os.listdir(PATH_TO_TEST_IMAGES_DIR)\n",
        "TEST_IMAGE_PATHS = [os.path.join(PATH_TO_TEST_IMAGES_DIR, name) for name in names]\n",
        "outpath = base + classifier + 'det_conf_threshold/flowerfruit_conf_threshold_' + TRAIN_SESS_NUM + \"_\" + true_imclass + \".csv\"\n",
        "\n",
        "# For determinining confidence threshold\n",
        "confi = []\n",
        "true_id = []\n",
        "det_id = []\n",
        "\n",
        "# Loops through first 5 image urls from the text file\n",
        "start = 0 #@param {type:\"number\"}\n",
        "end =  500 #@param {type:\"number\"}\n",
        "for im_num, im_path in enumerate(TEST_IMAGE_PATHS[start:end], start=1):\n",
        "    # Load in image\n",
        "    img = Image.open(im_path)\n",
        "    image = img.resize((224,224))\n",
        "    image = np.reshape(image,[1,224,224,3])\n",
        "    # Record inference time\n",
        "    start_time = time.time()\n",
        "    # Detection and draw boxes on image\n",
        "    predictions = flower_model.predict(image, batch_size=1)\n",
        "    label_num = np.argmax(predictions)\n",
        "    conf = predictions[0][label_num]\n",
        "    otherconfa = predictions[0][:label_num]\n",
        "    otherconfb = predictions[0][label_num+1:]\n",
        "    imclass = label_names[label_num]\n",
        "    other_class = label_names[:label_num]+label_names[label_num+1:]\n",
        "    end_time = time.time()\n",
        "    # Display progress message after each image\n",
        "    print('Inference complete for {} of {} images'.format(im_num, (end-start)))\n",
        "\n",
        "    # Record confidence, true id, determined id to export and choose confidence thresholds\n",
        "    confi.append(conf)\n",
        "    true_id.append(true_imclass.split(\"_\")[1])\n",
        "    det_id.append(imclass.lower())\n",
        "\n",
        "# Combine to df\n",
        "flowfru_conf = pd.DataFrame(([confi, true_id, det_id]))\n",
        "flowfru_conf = flowfru_conf.transpose()\n",
        "\n",
        "# TO DO: \n",
        "flowfru_conf.to_csv(outpath, index=False, header=(\"confidence\", \"true_id\", \"det_id\"))\n",
        "print(flowfru_conf.head())"
      ],
      "execution_count": null,
      "outputs": []
    },
    {
      "cell_type": "markdown",
      "metadata": {
        "id": "F2jfuHDydqUe"
      },
      "source": [
        "### 2) Load saved model prediction and confidence files from 1\n",
        "---"
      ]
    },
    {
      "cell_type": "code",
      "metadata": {
        "id": "mnUCpn8sWVzi"
      },
      "source": [
        "# Combine confidence threshold values for classes 1-3 for all models\n",
        "all_mods = [\"mod_3\", \"mod_5\", \"mod_7\", \"mod_8\", \"mod_9\", \"mod_11\", \"mod_23\"]\n",
        "base = 'flowerfruit_conf_threshold_' \n",
        "exts = ['_1.csv', '_2.csv', '_3.csv']\n",
        "\n",
        "## Model 3\n",
        "all_filenames = [base + all_mods[0] + e for e in exts]\n",
        "# Combine all files in the list\n",
        "mod_3 = pd.concat([pd.read_csv(f, sep=',', header=0, na_filter = False) for f in all_filenames])\n",
        "print(\"Model 3:\")\n",
        "print(mod_3.head())\n",
        "\n",
        "## Model 5\n",
        "all_filenames = [base + all_mods[1] + e for e in exts]\n",
        "# Combine all files in the list\n",
        "mod_5 = pd.concat([pd.read_csv(f, sep=',', header=0, na_filter = False) for f in all_filenames])\n",
        "print(\"Model 5:\")\n",
        "print(mod_5.head())\n",
        "\n",
        "## Model 7 \n",
        "all_filenames = [base + all_mods[2] + e for e in exts]\n",
        "# Combine all files in the list\n",
        "mod_7 = pd.concat([pd.read_csv(f, sep=',', header=0, na_filter = False) for f in all_filenames])\n",
        "print(\"Model 7:\")\n",
        "print(mod_7.head())\n",
        "\n",
        "## Model 8\n",
        "all_filenames = [base + all_mods[3] + e for e in exts]\n",
        "# Combine all files in the list\n",
        "mod_8 = pd.concat([pd.read_csv(f, sep=',', header=0, na_filter = False) for f in all_filenames])\n",
        "print(\"Model 8:\")\n",
        "print(mod_8.head())\n",
        "\n",
        "## Model 9\n",
        "all_filenames = [base + all_mods[4] + e for e in exts]\n",
        "# Combine all files in the list\n",
        "mod_9 = pd.concat([pd.read_csv(f, sep=',', header=0, na_filter = False) for f in all_filenames])\n",
        "print(\"Model 9:\")\n",
        "print(mod_9.head())\n",
        "\n",
        "## Model 11\n",
        "all_filenames = [base + all_mods[5] + e for e in exts]\n",
        "# Combine all files in the list\n",
        "mod_11 = pd.concat([pd.read_csv(f, sep=',', header=0, na_filter = False) for f in all_filenames])\n",
        "print(\"Model 11:\")\n",
        "print(mod_11.head())\n",
        "\n",
        "## Model 23\n",
        "all_filenames = [base + all_mods[6] + e for e in exts]\n",
        "# Combine all files in the list\n",
        "mod_23 = pd.concat([pd.read_csv(f, sep=',', header=0, na_filter = False) for f in all_filenames])\n",
        "print(\"Model 23:\")\n",
        "print(mod_23.head())"
      ],
      "execution_count": null,
      "outputs": []
    },
    {
      "cell_type": "markdown",
      "metadata": {
        "id": "bL_56etnd0Rd"
      },
      "source": [
        "### 3) Visualize confidence values for true and false predictions per class to determine thresholds for use with flower-fruit classifiers\n",
        "---   \n",
        "Choose thresholds for a balance between maximizing coverage and minimizing error."
      ]
    },
    {
      "cell_type": "code",
      "metadata": {
        "id": "10GhFabiCj3c"
      },
      "source": [
        "## TO DO: Choose trained model number using drop-down field to right. Run 1x per model\n",
        "mod = mod_7 #@param [\"mod_7\", \"mod_9\", \"mod_8\", \"mod_23\", \"mod_3\", \"mod_5\", \"mod_11\"] {type:\"raw\"}\n",
        "modn = varname(mod)[1] # Get model name to use for saving figure file\n",
        "df = mod.copy()\n",
        "\n",
        "## Split by Image class\n",
        "# Flower\n",
        "x1 = df.loc[df[\"true_id\"] == \"flower\", :]\n",
        "x1 = x1['confidence']\n",
        "# Fruit\n",
        "x2 = df.loc[df[\"true_id\"] == \"fruit\", :]\n",
        "x2 = x2['confidence']\n",
        "# None\n",
        "x3 = df.loc[df[\"true_id\"] == \"none\", :]\n",
        "x3 = x3['confidence']\n",
        "\n",
        "## Split by True or False dets\n",
        "df['det'] = (df[\"true_id\"] == df[\"det_id\"])\n",
        "# True\n",
        "x1 = df.loc[df.det, :]\n",
        "# False\n",
        "x2 = df.loc[~df.det, :]\n",
        "\n",
        "# Split True and False dets by Image class\n",
        "# Flower & True\n",
        "x1a = x1.loc[x1[\"true_id\"] == \"flower\", :]\n",
        "x1a = x1a['confidence']\n",
        "# Flower & False\n",
        "x2a = x2.loc[x2[\"true_id\"] == \"flower\", :]\n",
        "x2a = x2a['confidence']\n",
        "\n",
        "# Fruit & True\n",
        "x1b = x1.loc[x1[\"true_id\"] == \"fruit\", :]\n",
        "x1b = x1b['confidence']\n",
        "# Fruit & False\n",
        "x2b = x2.loc[x2[\"true_id\"] == \"fruit\", :]\n",
        "x2b = x2b['confidence']\n",
        "\n",
        "# None & True\n",
        "x1c = x1.loc[x1[\"true_id\"] == \"null\", :]\n",
        "x1c = x1c['confidence']\n",
        "# None & False\n",
        "x2c = x2.loc[x2[\"true_id\"] == \"null\", :]\n",
        "x2c = x2c['confidence']\n",
        "\n",
        "## Plot parameters\n",
        "kwargs = dict(alpha=0.5, bins=15)\n",
        "fig, (ax1, ax2, ax3) = plt.subplots(3, figsize=(10, 10))\n",
        "fig.suptitle('Prediction Confidence Value by class - Model 11')\n",
        "\n",
        "# Flower\n",
        "bins, counts = np.histogram(x1a)\n",
        "ax1.hist(x1a, color='y', label='True Det', **kwargs)\n",
        "bins, counts = np.histogram(x2a)\n",
        "ax1.hist(x2a, color='r', label='False Det', **kwargs)\n",
        "ax1.set_title(\"Flowers (n=500 images)\")\n",
        "ax1.legend();\n",
        "\n",
        "# Fruit\n",
        "ax2.hist(x1b, color='y', label='True Det', **kwargs)\n",
        "ax2.hist(x2b, color='r', label='False Det', **kwargs)\n",
        "ax2.set_title(\"Fruits (n=500 images)\")\n",
        "ax2.legend();\n",
        "\n",
        "# None\n",
        "ax3.hist(x1c, color='y', label='True Det', **kwargs)\n",
        "ax3.hist(x2c, color='r', label='False Det', **kwargs)\n",
        "ax3.set_title(\"None (n=500 images)\")\n",
        "ax3.legend();\n",
        "\n",
        "# Y-axis label\n",
        "for ax in fig.get_axes():\n",
        "    ax.set(ylabel='Frequency')\n",
        "# TO DO: \n",
        "figname = modn + '.png'\n",
        "fig.savefig(figname)"
      ],
      "execution_count": null,
      "outputs": []
    }
  ]
}