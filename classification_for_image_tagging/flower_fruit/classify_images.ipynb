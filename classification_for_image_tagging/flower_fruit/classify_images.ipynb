{
  "nbformat": 4,
  "nbformat_minor": 0,
  "metadata": {
    "colab": {
      "name": "classify_images.ipynb",
      "provenance": [],
      "collapsed_sections": [],
      "authorship_tag": "ABX9TyOdd2Z9hoF6R1ll/CDCDwpf",
      "include_colab_link": true
    },
    "kernelspec": {
      "name": "python3",
      "display_name": "Python 3"
    }
  },
  "cells": [
    {
      "cell_type": "markdown",
      "metadata": {
        "id": "view-in-github",
        "colab_type": "text"
      },
      "source": [
        "<a href=\"https://colab.research.google.com/github/aubricot/computer_vision_with_eol_images/blob/master/classification_for_image_tagging/flower_fruit/classify_images.ipynb\" target=\"_parent\"><img src=\"https://colab.research.google.com/assets/colab-badge.svg\" alt=\"Open In Colab\"/></a>"
      ]
    },
    {
      "cell_type": "markdown",
      "metadata": {
        "id": "_TcYNLBrWC0C"
      },
      "source": [
        "# Determine confidence threshold for Flower/Fruit Classification Models \n",
        "---\n",
        "*Last Updated 27 September 2020*   \n",
        "Choose which trained model and confidence threshold values to use for classifying flowers/fruits from EOL images. Threshold values should be chosen that maximize coverage and minimize error.\n",
        "\n",
        "After choosing the final model/combination of models to use in [det_conf_threshold.ipynb](https://colab.research.google.com/github/aubricot/computer_vision_with_eol_images/blob/master/classification_for_image_tagging/flower_fruit/det_conf_threshold.ipynb), run this notebook. "
      ]
    },
    {
      "cell_type": "markdown",
      "metadata": {
        "id": "ZYW4W2aqdnTN"
      },
      "source": [
        "### Imports\n",
        "---"
      ]
    },
    {
      "cell_type": "code",
      "metadata": {
        "id": "6k81-h_UV_ny"
      },
      "source": [
        "# Mount google drive to import/export files\n",
        "from google.colab import drive\n",
        "drive.mount('/content/drive', force_remount=True)"
      ],
      "execution_count": null,
      "outputs": []
    },
    {
      "cell_type": "code",
      "metadata": {
        "id": "1AGFM4fSWhbT"
      },
      "source": [
        "# For working with data and plotting graphs\n",
        "import itertools\n",
        "import os\n",
        "import numpy as np\n",
        "import pandas as pd\n",
        "import matplotlib.pyplot as plt\n",
        "%matplotlib inline\n",
        "\n",
        "# For image classification and training\n",
        "import tensorflow as tf"
      ],
      "execution_count": null,
      "outputs": []
    },
    {
      "cell_type": "markdown",
      "metadata": {
        "id": "u2PEaR_a_0QH"
      },
      "source": [
        "### Run images through model(s) for classification of flowers/fruits\n",
        "---   \n",
        "Use model(s) and confidence threshold(s) selected in det_conf_threshold.ipynb"
      ]
    },
    {
      "cell_type": "markdown",
      "metadata": {
        "id": "b0u9Dd5OmWAO"
      },
      "source": [
        "#### Define functions & variables"
      ]
    },
    {
      "cell_type": "code",
      "metadata": {
        "id": "N0dRSsDAk-GW",
        "cellView": "both"
      },
      "source": [
        "import csv\n",
        "\n",
        "# Load trained model from path\n",
        "TRAIN_SESS_NUM = \"07\"\n",
        "saved_model_path = '/content/drive/My Drive/summer20/classification/flower_fruit/saved_models/' + TRAIN_SESS_NUM\n",
        "flower_model = tf.keras.models.load_model(saved_model_path)\n",
        "TRAIN_SESS_NUM = \"11\"\n",
        "saved_model_path = '/content/drive/My Drive/summer20/classification/flower_fruit/saved_models/' + TRAIN_SESS_NUM\n",
        "null_model = tf.keras.models.load_model(saved_model_path)\n",
        "label_names = ['Flower', 'Fruit', 'Null']\n",
        "\n",
        "# Load in image from URL\n",
        "# Modified from https://colab.research.google.com/github/tensorflow/docs/blob/master/site/en/guide/saved_model.ipynb#scrollTo=JhVecdzJTsKE\n",
        "def image_from_url(url, fn):\n",
        "  file = tf.keras.utils.get_file(fn, url) # Filename doesn't matter\n",
        "  disp_img = tf.keras.preprocessing.image.load_img(file)\n",
        "  img = tf.keras.preprocessing.image.load_img(file, target_size=[224, 224])\n",
        "  x = tf.keras.preprocessing.image.img_to_array(img)\n",
        "  x = tf.keras.applications.mobilenet_v2.preprocess_input(\n",
        "    x[tf.newaxis,...])\n",
        "  return x, disp_img\n",
        "\n",
        "# Read in EOL image bundle dataframe\n",
        "# TO DO: Type in image bundle address using form field to right\n",
        "bundle = 'https://editors.eol.org/other_files/bundle_images/files/images_for_Angiosperms_20K_breakdown_000031.txt' #@param {type:\"string\"}\n",
        "df = pd.read_csv(bundle, sep='\\t', header=0)\n",
        "df.head()"
      ],
      "execution_count": null,
      "outputs": []
    },
    {
      "cell_type": "markdown",
      "metadata": {
        "id": "tEgxXYbTmY1P"
      },
      "source": [
        "#### Run 20K image bundle through classification pipeline"
      ]
    },
    {
      "cell_type": "code",
      "metadata": {
        "id": "IL0DthODQw45"
      },
      "source": [
        "# Write header row of output crops file\n",
        "# TO DO: Change file name for each bundle/run abcd if doing 4 batches using dropdown form to right\n",
        "tags_file = \"angiosperm_tags_flowfru_20k_d\" #@param [\"angiosperm_tags_flowfru_20k_a\", \"angiosperm_tags_flowfru_20k_b\", \"angiosperm_tags_flowfru_20k_c\", \"angiosperm_tags_flowfru_20k_d\"]\n",
        "tags_fpath = \"/content/drive/My Drive/summer20/classification/flower_fruit/results/\" + tags_file + \".tsv\"\n",
        "with open(tags_fpath, 'a') as out_file:\n",
        "                  tsv_writer = csv.writer(out_file, delimiter='\\t')\n",
        "                  tsv_writer.writerow([\"eolMediaURL\", \"identifier\", \\\n",
        "                                       \"dataObjectVersionID\", \"ancestry\", \\\n",
        "                                       \"tag7\", \"tag7_conf\", \"tag11\", \"tag11_conf\"])"
      ],
      "execution_count": null,
      "outputs": []
    },
    {
      "cell_type": "code",
      "metadata": {
        "id": "0ZXo6iVvBF0G"
      },
      "source": [
        "# Set number of seconds to timeout if image url taking too long to open\n",
        "import socket\n",
        "socket.setdefaulttimeout(10)\n",
        "import time\n",
        "\n",
        "# TO DO: Set start and end rows to run inference for from EOL image bundle using form field to right\n",
        "# If running in 4 batches of 5000 images, use values in dropdown menu\n",
        "start = 15000 #@param [\"0\", \"5000\", \"10000\", \"15000\"] {type:\"raw\"}\n",
        "end = 20000 #@param [\"5000\", \"10000\", \"15000\", \"20000\"] {type:\"raw\"}\n",
        "\n",
        "# Loop through EOL image bundle to classify images and generate tags\n",
        "for i, row in df.iloc[start:end].iterrows():\n",
        "  try:\n",
        "    # Get url from image bundle\n",
        "    url = df['eolMediaURL'][i]\n",
        "    # Read in image from url\n",
        "    fn = str(i) + '.jpg'\n",
        "    img, disp_img = image_from_url(url, fn)\n",
        "    # Record inference time\n",
        "    start_time = time.time()\n",
        "    # Detection and draw boxes on image\n",
        "    # For flowers/fruits (reproductive structures)\n",
        "    predictions = flower_model.predict(img, batch_size=1)\n",
        "    label_num = np.argmax(predictions)\n",
        "    f_conf = predictions[0][label_num]\n",
        "    f_class = label_names[label_num]\n",
        "    # For null (no reproductive structures)\n",
        "    predictions = null_model.predict(img, batch_size=1)\n",
        "    label_num = np.argmax(predictions)\n",
        "    n_conf = predictions[0][label_num]\n",
        "    n_class = label_names[label_num]\n",
        "    end_time = time.time()\n",
        "    # Display progress message after each image\n",
        "    print('Inference complete for {} of {} images'.format(i, (end-start)))\n",
        "\n",
        "    # Optional: Show classification results for images\n",
        "    # Only use to view predictions on <50 images at a time\n",
        "    #_, ax = plt.subplots(figsize=(10, 10))\n",
        "    #ax.imshow(disp_img)\n",
        "    #plt.axis('off')\n",
        "    #plt.title(\"{}) Mod 7 Prediction: {}, Confidence: {}%, \\\n",
        "    #\\n  Mod 11 Prediction: {}, Confidence: {}%, Inference Time: {}\".format(i, \\\n",
        "    #f_class, f_conf, n_class, n_conf,format(end_time-start_time, '.3f')))\n",
        "\n",
        "    # Export tagging results to tsv\n",
        "    # Define variables for export\n",
        "    identifier = df['identifier'][i]\n",
        "    dataObjectVersionID = df['dataObjectVersionID'][i]\n",
        "    ancestry = df['ancestry'][i]\n",
        "    with open(tags_fpath, 'a') as out_file:\n",
        "        tsv_writer = csv.writer(out_file, delimiter='\\t')\n",
        "        tsv_writer.writerow([url, identifier, dataObjectVersionID, ancestry, \\\n",
        "                               f_class, f_conf, n_class, n_conf])\n",
        "\n",
        "  except:\n",
        "    print('Check if URL from {} is valid'.format(url))"
      ],
      "execution_count": null,
      "outputs": []
    },
    {
      "cell_type": "markdown",
      "metadata": {
        "id": "ZRDQAbG8OziR"
      },
      "source": [
        "#### Post-process classification predictions using confidence threshold values for models 7 and 11 chosen in det_conf_threshold.ipynb"
      ]
    },
    {
      "cell_type": "code",
      "metadata": {
        "id": "gzb2pJI0O-ru"
      },
      "source": [
        "# Combine exported model predictions and confidence values from above to one dataframe\n",
        "base = '/content/drive/My Drive/summer20/classification/flower_fruit/results/angiosperm_tags_flowfru_20k_' \n",
        "exts = ['a.tsv', 'b.tsv', 'c.tsv', 'd.tsv']\n",
        "all_filenames = [base + e for e in exts]\n",
        "df = pd.concat([pd.read_csv(f, sep='\\t', header=0, na_filter = False) for f in all_filenames], ignore_index=True)\n",
        "\n",
        "# Filter predictions using determined confidence value thresholds\n",
        "# Make column for \"reproductive structures present?\" tag\n",
        "df['reprod'] = np.nan\n",
        "for i, row in df.iterrows():\n",
        "  # If Model 7 predicts flower with >1.6 confidence\n",
        "  if df['tag7'][i]==\"Flower\" and df['tag7_conf'][i]>1.6: \n",
        "    # And Model 11 does not predict null with >= 1.5 confidence\n",
        "    if df['tag11'][i]==\"Null\" and df['tag11_conf'][i]>=1.5:\n",
        "      # Reproductive structures present -> YES\n",
        "      df['reprod'][i] = \"Y\"\n",
        "    # And Model 11 predicts null with >= 1.5 confidence\n",
        "    elif df['tag11'][i]==\"Null\" and df['tag11_conf'][i]<1.5: \n",
        "      # Reproductive structures present -> NO\n",
        "      df['reprod'][i] = \"N\"\n",
        "    # And Model 11 predicts fruit or flower with any confidence\n",
        "    else:\n",
        "      # Reproductive structures present -> NO\n",
        "      df['reprod'][i] = \"Y\"\n",
        "\n",
        "  # If Model 7 predicts flower with <= 1.6 confidence\n",
        "  elif df['tag7'][i]==\"Flower\" and df['tag7_conf'][i]<=1.6:\n",
        "      # Reproductive structures present -> Maybe\n",
        "      df['reprod'][i] = \"M\"\n",
        "\n",
        "  # If Model 7 predicts fruit or null with any confidence\n",
        "  else:\n",
        "      # Reproductive structures present -> NO\n",
        "      df['reprod'][i] = \"N\"\n",
        "\n",
        "# Write results to tsv\n",
        "df.to_csv(\"/content/drive/My Drive/summer20/classification/flower_fruit/results/angiosperm_tags_flowfru_20k_finaltags.tsv\", sep='\\t', index=False)"
      ],
      "execution_count": null,
      "outputs": []
    },
    {
      "cell_type": "code",
      "metadata": {
        "id": "_iwVwlLKNWSY"
      },
      "source": [
        "# Inspect results\n",
        "print(df.head(10))\n",
        "print(\"Number of positive identified reproductive structures: {}\".format(len(df[df['reprod']==\"Y\"])))\n",
        "print(\"Number of possible identified reproductive structures: {}\".format(len(df[df['reprod']==\"M\"])))\n",
        "print(\"Number of negative identified reproductive structures: {}\".format(len(df[df['reprod']==\"N\"])))"
      ],
      "execution_count": null,
      "outputs": []
    },
    {
      "cell_type": "code",
      "metadata": {
        "id": "AVf7ejnKKy9e"
      },
      "source": [
        "# Set number of seconds to timeout if image url taking too long to open\n",
        "import socket\n",
        "socket.setdefaulttimeout(10)\n",
        "\n",
        "# Function to load in image from URL\n",
        "# Modified from https://colab.research.google.com/github/tensorflow/docs/blob/master/site/en/guide/saved_model.ipynb#scrollTo=JhVecdzJTsKE\n",
        "def image_from_url(url, fn):\n",
        "  file = tf.keras.utils.get_file(fn, url) # Filename doesn't matter\n",
        "  disp_img = tf.keras.preprocessing.image.load_img(file)\n",
        "  img = tf.keras.preprocessing.image.load_img(file, target_size=[224, 224])\n",
        "  x = tf.keras.preprocessing.image.img_to_array(img)\n",
        "  x = tf.keras.applications.mobilenet_v2.preprocess_input(\n",
        "    x[tf.newaxis,...])\n",
        "  return x, disp_img\n",
        "\n",
        "# TO DO: Set start and end rows to run inference for from EOL image bundle using form field to right\n",
        "# If running in 4 batches of 5000 images, use values in dropdown menu\n",
        "start =  3000#@param {type:\"raw\"}\n",
        "end = 3050 #@param {type:\"raw\"}\n",
        "\n",
        "# Loop through EOL image bundle to classify images and generate tags\n",
        "for i, row in df.iloc[start:end].iterrows():\n",
        "  try:\n",
        "    # Get url from image bundle\n",
        "    url = df['eolMediaURL'][i]\n",
        "    # Read in image from url\n",
        "    fn = str(i) + '.jpg'\n",
        "    img, disp_img = image_from_url(url, fn)\n",
        "    # Record inference time\n",
        "    pred = df['reprod'][i]\n",
        "    # Display progress message after each image is loaded\n",
        "    print('Successfully loaded {} of {} images'.format(i+1, (end-start)))\n",
        "\n",
        "    # Show classification results for images\n",
        "    # Only use to view predictions on <50 images at a time\n",
        "    _, ax = plt.subplots(figsize=(10, 10))\n",
        "    ax.imshow(disp_img)\n",
        "    plt.axis('off')\n",
        "    plt.title(\"{}) Combined Mod 7 & 11 Prediction: {}\".format(i+1, pred))\n",
        "\n",
        "  except:\n",
        "    print('Check if URL from {} is valid'.format(url))"
      ],
      "execution_count": null,
      "outputs": []
    }
  ]
}