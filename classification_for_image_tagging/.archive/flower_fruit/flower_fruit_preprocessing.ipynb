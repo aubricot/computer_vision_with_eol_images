{
  "nbformat": 4,
  "nbformat_minor": 0,
  "metadata": {
    "colab": {
      "name": "flower_fruit_preprocessing.ipynb",
      "provenance": [],
      "collapsed_sections": [
        "LZlJ7Rjaub3O",
        "r4fdwzVnuwPQ"
      ],
      "toc_visible": true,
      "authorship_tag": "ABX9TyMHKRZpTcdsuKzIrgesE+4Y",
      "include_colab_link": true
    },
    "kernelspec": {
      "name": "python3",
      "display_name": "Python 3"
    }
  },
  "cells": [
    {
      "cell_type": "markdown",
      "metadata": {
        "id": "view-in-github",
        "colab_type": "text"
      },
      "source": [
        "<a href=\"https://colab.research.google.com/github/aubricot/computer_vision_with_eol_images/blob/master/classification_for_image_tagging/flower_fruit/flower_fruit_preprocessing.ipynb\" target=\"_parent\"><img src=\"https://colab.research.google.com/assets/colab-badge.svg\" alt=\"Open In Colab\"/></a>"
      ]
    },
    {
      "cell_type": "markdown",
      "metadata": {
        "id": "WGFNOrAs0pMf"
      },
      "source": [
        "# Pre-process Flower/Fruit Classifier Training Images\n",
        "---\n",
        "*Last Updated 25 Sep 2020*   \n",
        "1) Download images from EOL Angiosperm \"max 30 images per family\" image bundle to Google Drive.   \n",
        "2) Manually sort images into sub-folders: flower, fruit, null.   \n",
        "3) Inspect taxonomic distribution within folders and make number of images per class even.  \n",
        "\n",
        "**Notes**\n",
        "* Change filepaths or information using the form fields to the right of code blocks (also noted in code with 'TO DO')"
      ]
    },
    {
      "cell_type": "markdown",
      "metadata": {
        "id": "F53iiacTFVz7"
      },
      "source": [
        "### Connect to Google Drive\n",
        "---"
      ]
    },
    {
      "cell_type": "code",
      "metadata": {
        "id": "MeNoVQDN0I1q"
      },
      "source": [
        "# Mount google drive to import/export files\n",
        "from google.colab import drive\n",
        "drive.mount('/content/drive', force_remount=True)"
      ],
      "execution_count": null,
      "outputs": []
    },
    {
      "cell_type": "markdown",
      "metadata": {
        "id": "LZlJ7Rjaub3O"
      },
      "source": [
        "### 1) Download images to Google Drive from EOL Image bundle\n",
        "---"
      ]
    },
    {
      "cell_type": "code",
      "metadata": {
        "id": "ocIw1WmV44Mr"
      },
      "source": [
        "import os\n",
        "import pandas as pd\n",
        "\n",
        "# TO DO: Change path to where your training/testing images will be stored in form field on right\n",
        "# Select flower/fruit classifier from dropdown\n",
        "class_type = \"flower_fruit\" #@param [\"flower_fruit\"]\n",
        "impath = \"/content/drive/'My Drive'/summer20/classification/\" + class_type + \"/images\"\n",
        "print(\"Path to images:\")\n",
        "%cd $impath\n",
        "\n",
        "# TO DO: Change to filename of EOL breakdown_download image bundle\n",
        "bundle = \"https://editors.eol.org/other_files/bundle_images/files/images_for_Angiosperms_max30imgPerFam_breakdown_download_000001.txt\" #@param {type:\"string\"}\n",
        "# Download images to Google Drive\n",
        "#!wget -nc -i $bundle\n",
        "print(\"Images should already be downloaded. Un-comment out line 15 to download images to Google Drive\")\n",
        "\n",
        "# Confirm expected number of images downloaded to Google Drive\n",
        "# Numbers may be slightly different due to dead hyperlinks\n",
        "print(\"Expected number of images from bundle:\\n{}\".format(len(pd.read_table(bundle))))\n",
        "print(\"Actual number of images downloaded to Google Drive: \")\n",
        "!ls $impath | wc -l"
      ],
      "execution_count": null,
      "outputs": []
    },
    {
      "cell_type": "markdown",
      "metadata": {
        "id": "r4fdwzVnuwPQ"
      },
      "source": [
        "### 2) Go to Google Drive and manually sort images into flower, fruit, null folders\n",
        "---   \n",
        "Tip: First make folders using the commands below. Use numbered prefixes before folder names so they stay at top of file viewer in Google Drive (ex: 01_flower/, 02_fruit/, 03_null/), making it easier to drag and drop images into folders as you manually sort."
      ]
    },
    {
      "cell_type": "code",
      "metadata": {
        "id": "aoFeRipnpYuQ"
      },
      "source": [
        "# Make folders to sort images into\n",
        "%cd $impath\n",
        "\n",
        "# Images containing clearly visible flowers only (no fruits)\n",
        "!mkdir 01_flower\n",
        "# Images containing clearly visible fruits only (no flowers)\n",
        "!mkdir 02_fruit\n",
        "# Images without any reproductive structures\n",
        "!mkdir 03_null\n",
        "# Images that don't clearly fit into 01-03 for exclusion and possible use in training future models (ex: maps, illustrations, text, microscopy, etc.)\n",
        "!mkdir 04_other\n",
        "\n",
        "print(\"Next, go to Google Drive and manually sort images into their respective folders. After you're finished sorting, continue with steps below.\")"
      ],
      "execution_count": null,
      "outputs": []
    },
    {
      "cell_type": "markdown",
      "metadata": {
        "id": "Crpl2CtzuWTI"
      },
      "source": [
        "### 3) Resume here after manually sorting images\n",
        "---   "
      ]
    },
    {
      "cell_type": "markdown",
      "metadata": {
        "id": "ZfUGCY-nVW7R"
      },
      "source": [
        "#### Inspect image content within folders"
      ]
    },
    {
      "cell_type": "code",
      "metadata": {
        "id": "7FyeJcEu5gkH"
      },
      "source": [
        "# Inspect the number of images in each folder\n",
        "\n",
        "print(\"Number of flower images:\")\n",
        "flow = !ls /content/drive/'My Drive'/summer20/classification/flower_fruit/images/01_flower | wc -l\n",
        "print(flow)\n",
        "print(\"Number of fruit images:\")\n",
        "fru = !ls /content/drive/'My Drive'/summer20/classification/flower_fruit/images/02_fruit | wc -l\n",
        "print(fru)\n",
        "print(\"Number of null images:\")\n",
        "null = !ls /content/drive/'My Drive'/summer20/classification/flower_fruit/images/03_null | wc -l\n",
        "print(null)\n",
        "print(\"Number of other/excluded images:\")\n",
        "#other = !ls /content/drive/'My Drive'/summer20/classification/flower_fruit/other_sorted_images/04_other | wc -l\n",
        "#print(other)\n",
        "\n",
        "# Check which folder has the smallest number of images\n",
        "folders = [flow, fru, null, other]\n",
        "fnames = [\"01_flower\", \"02_fruit\", \"03_null\", \"04_other\"]\n",
        "num_imgs = [int(x.list[0]) for x in folders]\n",
        "min_imgs = (min(num_imgs))\n",
        "idx = num_imgs.index(min(num_imgs))\n",
        "keepfolder = fnames[idx]\n",
        "print(\"The minimum number of images is {} in the folder {}\".format(min_imgs, fnames[idx]))"
      ],
      "execution_count": null,
      "outputs": []
    },
    {
      "cell_type": "code",
      "metadata": {
        "id": "L5J7zPtzxZhz"
      },
      "source": [
        "# Inspect the families present within each folder\n",
        "import pandas as pd\n",
        "import os\n",
        "\n",
        "# Make lists of all flower, fruit, null images\n",
        "## Flower\n",
        "fpath = \"01_flower\"\n",
        "files = []\n",
        "for fname in os.listdir(fpath): \n",
        "      files.append(fname)\n",
        "## Make flower training images dataframe\n",
        "flowers = pd.DataFrame({'imname':files})\n",
        "flowers[\"imclass\"] = \"flower\"\n",
        "\n",
        "## Fruit\n",
        "fpath = \"02_fruit\"\n",
        "files = []\n",
        "for fname in os.listdir(fpath): \n",
        "      files.append(fname)\n",
        "## Make fruit training images dataframe\n",
        "fruits = pd.DataFrame({'imname':files})\n",
        "fruits[\"imclass\"] = \"fruit\"\n",
        "\n",
        "## Null\n",
        "fpath = \"03_null\"\n",
        "files = []\n",
        "for fname in os.listdir(fpath): \n",
        "      files.append(fname)\n",
        "## Make null training images dataframe\n",
        "nulls = pd.DataFrame({'imname':files})\n",
        "nulls[\"imclass\"] = \"null\"\n",
        "\n",
        "# Merge flower, fruit, null training images to train_df\n",
        "train_df = flowers.append([fruits, nulls])\n",
        "print(\"Merged training datasets:\")\n",
        "print(train_df)\n",
        "\n",
        "# Get ancestry info for training images from EOL breakdown image bundle\n",
        "## TO DO: Change to filename of EOL breakdown image bundle\n",
        "bundle = \"https://editors.eol.org/other_files/bundle_images/files/images_for_Angiosperms_max30imgPerFam_breakdown_000001.txt\" #@param {type:\"string\"}\n",
        "bundle = pd.read_table(bundle)\n",
        "## Get filenames from tail end after slash of eolMediaURLs\n",
        "f = lambda x: x['eolMediaURL'].rsplit('/', 1)[-1]\n",
        "bundle['imname'] = bundle.apply(f, axis=1)\n",
        "\n",
        "## Map train_df to EOL bundle using image names as an index\n",
        "train_df.set_index('imname', inplace=True, drop=True)\n",
        "bundle.set_index('imname', inplace=True, drop=True)\n",
        "df = train_df.merge(bundle, left_index=True, right_index=True)\n",
        "print(\"Training images with ancestry info:\")\n",
        "df.to_csv(\"sorted_train_data_bef_even_classes.tsv\", sep=\"\\t\")\n",
        "print(df.head())\n",
        "\n",
        "# Get number of images per family in training image classes\n",
        "## Split ancestry column\n",
        "family = df.copy()\n",
        "family.ancestry = family.ancestry.str.split(\"|\")\n",
        "family = family.explode('ancestry')\n",
        "## Get all family names (ending in 'aceae')\n",
        "family = family[family.ancestry.str.contains('aceae', case=False, na=False)]\n",
        "## Count family occurences in training image classes\n",
        "### Fruit\n",
        "fruit = family[family.imclass=='fruit']\n",
        "fruit_counts = fruit.ancestry.value_counts()\n",
        "fruit_counts.columns = ['family', 'no_occurrences']\n",
        "print(\"Fruit family counts:\")\n",
        "print(fruit_counts.head(10))\n",
        "\n",
        "### Flower\n",
        "flower = family[family.imclass=='flower']\n",
        "flower_counts = flower.ancestry.value_counts()\n",
        "flower_counts.columns = ['family', 'no_occurrences']\n",
        "print(\"Flower family counts:\")\n",
        "print(flower_counts.head(10))\n",
        "\n",
        "### Null\n",
        "null = family[family.imclass=='null']\n",
        "null_counts = null.ancestry.value_counts()\n",
        "null_counts.columns = ['family', 'no_occurrences']\n",
        "print(\"Null family counts:\")\n",
        "print(null_counts.head(10))\n",
        "\n",
        "#fruit_counts.rbind(flower_counts, null_counts)\n",
        "print(fruit_counts)\n",
        "#df.to_csv(\"sorted_train_data_counts_bef_even_classes.tsv\", sep=\"\\t\")"
      ],
      "execution_count": null,
      "outputs": []
    },
    {
      "cell_type": "markdown",
      "metadata": {
        "id": "IAv1H2mOj1JO"
      },
      "source": [
        "#### Make number of images per class even"
      ]
    },
    {
      "cell_type": "code",
      "metadata": {
        "id": "VDWrvEPncbkd"
      },
      "source": [
        "print(\"The minimum number of images is {} in the folder {}\".format(min_imgs, fnames[idx]))\n",
        "print(\"In the next steps, all but {} images need to be deleted from the folders {} and {}\".format(min_imgs, fnames[1], fnames[2]))"
      ],
      "execution_count": null,
      "outputs": []
    },
    {
      "cell_type": "code",
      "metadata": {
        "id": "iw3TcGnNkDXA"
      },
      "source": [
        "# Check that images are already archived\n",
        "if not os.path.exists(\"/content/drive/My Drive/summer20/classification/flower_fruit/backup_img_befevenclassnum/flower.zip\"):\n",
        "  print(\"Complete image datasets need to be backed up and zipped. Un-comment out lines 8-9 and 12-13. Then proceed to next step.\")\n",
        "else:\n",
        "  print(\"Complete image datsets have already been backed up and zipped. Proceed to next step.\")\n",
        "\n",
        "# Make copy of all files within 01_flower and 03_null folders\n",
        "#!cp -r /content/drive/'My Drive'/summer20/classification/flower_fruit/images/01_flower/. /content/drive/'My Drive'/summer20/classification/flower_fruit/backup_img_befevenclassnum/flower\n",
        "#!cp -r /content/drive/'My Drive'/summer20/classification/flower_fruit/images/03_null/. /content/drive/'My Drive'/summer20/classification/flower_fruit/backup_img_befevenclassnum/null\n",
        "\n",
        "# Zip copied folders\n",
        "#!zip -r \"/content/drive/My Drive/summer20/classification/flower_fruit/backup_img_befevenclassnum/flower.zip\" \"/content/drive/My Drive/summer20/classification/flower_fruit/backup_img_befevenclassnum/flower\"\n",
        "#!zip -r \"/content/drive/My Drive/summer20/classification/flower_fruit/backup_img_befevenclassnum/null.zip\" \"/content/drive/My Drive/summer20/classification/flower_fruit/backup_img_befevenclassnum/null\""
      ],
      "execution_count": null,
      "outputs": []
    },
    {
      "cell_type": "code",
      "metadata": {
        "id": "2ges1Dpcj62i"
      },
      "source": [
        "# Randomly delete all but 843 images from 01_flower and 03_null folders (Number of Fruit images = 843)\n",
        "\n",
        "#!find \"/content/drive/My Drive/summer20/classification/flower_fruit/images/01_flower\" -type f -print0 | sort -zR | tail -zn +844 | xargs -0 rm\n",
        "#!find \"/content/drive/My Drive/summer20/classification/flower_fruit/images/03_null\" -type f -print0 | sort -zR | tail -zn +844 | xargs -0 rm"
      ],
      "execution_count": null,
      "outputs": []
    },
    {
      "cell_type": "code",
      "metadata": {
        "id": "O3nWOHnMdfTs"
      },
      "source": [
        "# Move 04_other folder out of images because it contains images excluded from the training dataset\n",
        "\n",
        "#!mkdir \"/content/drive/My Drive/summer20/classification/flower_fruit/other_sorted_images\"\n",
        "#!mv \"/content/drive/My Drive/summer20/classification/flower_fruit/images/04_other\" \"/content/drive/My Drive/summer20/classification/flower_fruit/other_sorted_images/04_other\""
      ],
      "execution_count": null,
      "outputs": []
    }
  ]
}