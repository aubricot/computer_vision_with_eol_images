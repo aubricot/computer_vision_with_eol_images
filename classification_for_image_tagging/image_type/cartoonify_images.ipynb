{
  "nbformat": 4,
  "nbformat_minor": 0,
  "metadata": {
    "colab": {
      "name": "cartoonify_images.ipynb",
      "provenance": [],
      "collapsed_sections": [],
      "include_colab_link": true
    },
    "kernelspec": {
      "name": "python3",
      "display_name": "Python 3"
    }
  },
  "cells": [
    {
      "cell_type": "markdown",
      "metadata": {
        "id": "view-in-github",
        "colab_type": "text"
      },
      "source": [
        "<a href=\"https://colab.research.google.com/github/aubricot/computer_vision_with_eol_images/blob/master/classification_for_image_tagging/image_type/cartoonify_images.ipynb\" target=\"_parent\"><img src=\"https://colab.research.google.com/assets/colab-badge.svg\" alt=\"Open In Colab\"/></a>"
      ]
    },
    {
      "cell_type": "markdown",
      "metadata": {
        "id": "YuyVuOl95iA3"
      },
      "source": [
        "# Determine if images are a cartoon or photograph\n",
        "---\n",
        "*Last Updated 29 October  2021*   \n",
        "Classification accuracy for illustrated images and phylogenies was low for the trained model. This notebook uses an alternate approach that leverages image processing to identify images as photographic or non-photographic. First, cartoonify image, then compare change in color values. If change above a certain threshold, then image is likely photographic. If change below a certain threshold, image is likely non-photographic.\n",
        "  \n",
        "***Using 500 images from all image type classes, the best predictor of \"not cartoon\" was found to be Manhattan norm per pixel > 2.***"
      ]
    },
    {
      "cell_type": "markdown",
      "metadata": {
        "id": "aOEIcN9khD5r"
      },
      "source": [
        "## Installs & Imports\n",
        "---"
      ]
    },
    {
      "cell_type": "code",
      "metadata": {
        "id": "RLomsEYpp4Dj"
      },
      "source": [
        "# Mount google drive to import/export files\n",
        "from google.colab import drive\n",
        "drive.mount('/content/drive', force_remount=True)"
      ],
      "execution_count": null,
      "outputs": []
    },
    {
      "cell_type": "code",
      "metadata": {
        "id": "543EFNyF8P2e"
      },
      "source": [
        "# For importing data and images\n",
        "import pandas as pd\n",
        "import numpy as np\n",
        "import os\n",
        "import scipy\n",
        "from scipy.linalg import norm\n",
        "from scipy import sum, average\n",
        "\n",
        "# For working with images\n",
        "from PIL import Image\n",
        "import imageio\n",
        "import cv2\n",
        "import matplotlib.pyplot as plt\n",
        "%config InlineBackend.figure_format = 'svg'\n",
        "\n",
        "# Define functions\n",
        "\n",
        "# Define start and stop indices in EOL bundle for running inference   \n",
        "def set_start_stop(df):\n",
        "    # To test with a tiny subset, use 5 random bundle images\n",
        "    N = len(df)\n",
        "    if test_with_tiny_subset:\n",
        "        start=np.random.choice(a=N, size=1)[0]\n",
        "        stop=start+5\n",
        "    # To run for larger set, use 500 random images\n",
        "    else: \n",
        "        start=np.random.choice(a=N, size=1)[0]\n",
        "        stop=start+500\n",
        "    print(\"\\nCartoonizing images\")\n",
        "    \n",
        "    return start, stop\n",
        "\n",
        "# Set filename for saving classification results\n",
        "def get_test_images(true_imclass):\n",
        "    inpath = wd + '/pre-processing/images/' + true_imclass\n",
        "    fns = os.listdir(inpath)\n",
        "    TEST_IMAGE_PATHS = [os.path.join(inpath, fn) for fn in fns]\n",
        "    print(\"Using test images from: \\n\", inpath)\n",
        "\n",
        "    return TEST_IMAGE_PATHS\n",
        "\n",
        "# Set filename for saving classification results\n",
        "def set_outpath(true_imclass):\n",
        "    outpath = wd + '/image_data/' + imclass + '_cartoonifcation_values.csv'\n",
        "    print(\"Saving results to: \\n\", outpath)\n",
        "\n",
        "    return outpath\n",
        "\n",
        "# To cartoonize an image\n",
        "def cartoonize(image):\n",
        "    # Add edges\n",
        "    gray = cv2.cvtColor(img, cv2.COLOR_BGR2GRAY) \n",
        "    gray = cv2.medianBlur(gray, 5) \n",
        "    edges = cv2.adaptiveThreshold(gray, 255, cv2.ADAPTIVE_THRESH_MEAN_C,  \n",
        "                                         cv2.THRESH_BINARY, 9, 9)  \n",
        "    edges = cv2.cvtColor(edges, cv2.COLOR_GRAY2RGB)\n",
        "    # Bilateral filter \n",
        "    color = cv2.bilateralFilter(img, 9, 250, 250) \n",
        "    img2 = cv2.bitwise_and(color, edges)\n",
        "\n",
        "    return img2\n",
        "\n",
        "# Calculate differences between original and cartoonized image\n",
        "def calc_img_diffs(img, img2):\n",
        "    # Convert both images from RGB to HSV\n",
        "    HSV_img = cv2.cvtColor(img, cv2.COLOR_RGB2HSV)\n",
        "    HSV_img2 = cv2.cvtColor(img2, cv2.COLOR_RGB2HSV)\n",
        "    # Fnd the difference for H of HSV values of the images\n",
        "    diff = HSV_img[:,:,0]-HSV_img2[:,:,0]\n",
        "    mnorm = sum(abs(diff))  # Manhattan norm\n",
        "    mnorm_pp = mnorm/HSV_img.size # per pixel\n",
        "    znorm = norm(diff.ravel(), 0)  # Zero norm\n",
        "    znorm_pp = znorm*1.0/HSV_img2.size # per pixel\n",
        "\n",
        "    return mnorm, mnorm_pp, znorm, znorm_pp\n",
        "\n",
        "# To display an image already loaded into the runtime\n",
        "def display_images(image, image2, mnorm, mnorm_pp, znorm, znorm_pp):\n",
        "    fig, (a,b) = plt.subplots(2, figsize=(5, 5), constrained_layout=True)\n",
        "    fig.suptitle(\"Original vs Cartoonized, pairwise differences\\nManhattan norm: {} / per pixel: {}\\\n",
        "                  \\nZero norm: {} / per pixel: {}\".format(mnorm, mnorm_pp, znorm, znorm_pp))\n",
        "    a.imshow(image) ;\n",
        "    b.imshow(image2)\n",
        "\n",
        "# Record results for confidence thresholds\n",
        "# Make placeholder lists to fill for each class\n",
        "def make_placeholders():\n",
        "    filenames = []\n",
        "    mnorms = []\n",
        "    mnorms_pp = []\n",
        "    znorms = []\n",
        "    znorms_pp = []\n",
        "\n",
        "    return filenames, mnorms, mnorms_pp, znorms, znorms_pp\n",
        "    \n",
        "# Add values for each image to placeholder list\n",
        "def record_results(fn, mnorm, mnorm_pp, znorm, znorm_pp):\n",
        "    filenames.append(fn)\n",
        "    mnorms.append(mnorm)\n",
        "    mnorms_pp.append(mnorm_pp)\n",
        "    znorms.append(znorm)\n",
        "    znorms_pp.append(znorm_pp)\n",
        "    results = [filenames, mnorms, mnorms_pp, znorms, znorms_pp]\n",
        "\n",
        "    return results\n",
        "\n",
        "# Export results\n",
        "def export_results(results):\n",
        "    results = pd.DataFrame(results)\n",
        "    results = results.transpose()\n",
        "    results.to_csv(outpath, index=False, header=(\"filename\", \"mnorm\", \"mnorm_pp\", \n",
        "                                                 \"znorm\", \"znorm_pp\"))\n",
        "    \n",
        "# To save the figure\n",
        "def save_figure(fig, imclass):\n",
        "    figname = wd + 'image_data/' + imclass + '_cartoonization_hists.png'\n",
        "    fig.savefig(figname)\n",
        "    print(\"Histograms saved to \", figname)\n",
        "\n",
        "    return figname"
      ],
      "execution_count": null,
      "outputs": []
    },
    {
      "cell_type": "markdown",
      "metadata": {
        "id": "ieUdvK06hG_U"
      },
      "source": [
        "## Cartoonization - compare cartoonized images to original\n",
        "---"
      ]
    },
    {
      "cell_type": "code",
      "metadata": {
        "id": "Xe3YUp515fV3"
      },
      "source": [
        "# Cartoonify images\n",
        "\n",
        "# Set up directory structure\n",
        "# TO DO: Type in the path to your working directory in form field to right\n",
        "wd = \"/content/drive/MyDrive/train\" #@param {type:\"string\"}\n",
        "cwd = wd + '/pre-processing/images/'\n",
        "%cd $cwd\n",
        "\n",
        "# Optional: Test downloads with a small subset first?\n",
        "# TO DO: If yes, check test_with_tiny_subset box\n",
        "test_with_tiny_subset = True #@param {type: \"boolean\"}\n",
        "if test_with_tiny_subset:\n",
        "    display_results = True\n",
        "\n",
        "# Run through images to measure the difference from cartoonified and original\n",
        "# For each image class\n",
        "imclasses = ['herb', 'illus', 'map', 'null', 'phylo']\n",
        "for imclass in imclasses:\n",
        "    # Set filename for saving classification results\n",
        "    outpath = set_outpath(imclass)\n",
        "\n",
        "    # Make placeholder lists to record values for each image\n",
        "    filenames, mnorms, mnorms_pp, znorms, znorms_pp = make_placeholders()\n",
        "\n",
        "    # Get test images for cartoonizing\n",
        "    TEST_IMAGE_PATHS = get_test_images(imclass)\n",
        "\n",
        "    # Cartoonify images\n",
        "    start, stop = set_start_stop(TEST_IMAGE_PATHS)\n",
        "    for im_num, im_path in enumerate(TEST_IMAGE_PATHS[start:stop], start=1):\n",
        "        # Read in image\n",
        "        img = cv2.imread(im_path)\n",
        "        \n",
        "        # Cartoonization\n",
        "        img2 = cartoonize(img) \n",
        "\n",
        "        # Calculate differences between original and cartoonized image\n",
        "        mnorm, mnorm_pp, znorm, znorm_pp = calc_img_diffs(img, img2)\n",
        "\n",
        "        # Display cartoonized image\n",
        "        if display_results:\n",
        "            display_images(img, img2, mnorm, mnorm_pp, znorm, znorm_pp)\n",
        "\n",
        "        # Record results in placeholder lists to inspect results in next step\n",
        "        results = record_results(im_path, mnorm, mnorm_pp, znorm, znorm_pp)\n",
        "\n",
        "    # Combine to df and export results\n",
        "    export_results(results)"
      ],
      "execution_count": null,
      "outputs": []
    },
    {
      "cell_type": "markdown",
      "metadata": {
        "id": "rtWAgRdlhKBg"
      },
      "source": [
        "### Inspect cartoonizaton results\n",
        "---"
      ]
    },
    {
      "cell_type": "code",
      "metadata": {
        "id": "X2vcKgUu0QvX"
      },
      "source": [
        "# Combine model outputs for image type classes\n",
        "\n",
        "# Get cartoonization files for each class\n",
        "imclasses = ['herb', 'illus', 'map', 'null', 'phylo']\n",
        "base = wd + '/image_data/'\n",
        "all_filenames = [base + imclass + '_cartoonifcation_values.csv' for imclass in imclasses]\n",
        "\n",
        "# Loop through cartoonization files and display histograms\n",
        "for fn in all_filenames:\n",
        "    print(\"Inspecting cartoonization values for: \", fn)\n",
        "    df = pd.read_csv(fn, header=0)\n",
        "    mnorms = df['mnorm']\n",
        "    mnorms_pp = df['mnorm_pp']\n",
        "    znorms = df['znorm']\n",
        "    znorms_pp = df['znorm_pp']\n",
        "\n",
        "    # Plot parameters\n",
        "    kwargs = dict(alpha=0.5, bins=15)\n",
        "    fig, (a, b, c, d) = plt.subplots(4, figsize=(10, 10), sharey=True, constrained_layout=True)\n",
        "    fig.suptitle('Image differences after cartoonization (n={} imgs)'.format(len(df)))\n",
        "\n",
        "    # Manhattan norm values\n",
        "    bins, counts = np.histogram(mnorms)\n",
        "    a.hist(mnorms, color='y', label='True Det', **kwargs)\n",
        "    a.set_title(\"Manhattan norm\");\n",
        "\n",
        "    # Zero norm values\n",
        "    bins, counts = np.histogram(znorms)\n",
        "    c.hist(znorms, color='y', label='True Det', **kwargs)\n",
        "    c.set_title(\"Zero norm\");\n",
        "\n",
        "    # Manhattan norm values per pixel\n",
        "    bins, counts = np.histogram(mnorms_pp)\n",
        "    b.hist(mnorms_pp, color='y', label='True Det', **kwargs)\n",
        "    b.set_title(\"Manhattan norm per pixel\");\n",
        "\n",
        "    # Zero norm values per pixel\n",
        "    bins, counts = np.histogram(znorms_pp)\n",
        "    d.hist(znorms_pp, color='y', label='True Det', **kwargs)\n",
        "    d.set_title(\"Zero norm per pixel\");\n",
        "\n",
        "    # Export histograms\n",
        "    figname = save_figure(fig)"
      ],
      "execution_count": null,
      "outputs": []
    }
  ]
}