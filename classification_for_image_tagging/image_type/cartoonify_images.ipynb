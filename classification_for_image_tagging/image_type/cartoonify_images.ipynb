{
  "nbformat": 4,
  "nbformat_minor": 0,
  "metadata": {
    "colab": {
      "name": "cartoonify_images.ipynb",
      "provenance": [],
      "collapsed_sections": [],
      "include_colab_link": true
    },
    "kernelspec": {
      "name": "python3",
      "display_name": "Python 3"
    }
  },
  "cells": [
    {
      "cell_type": "markdown",
      "metadata": {
        "id": "view-in-github",
        "colab_type": "text"
      },
      "source": [
        "<a href=\"https://colab.research.google.com/github/aubricot/computer_vision_with_eol_images/blob/master/classification_for_image_tagging/image_type/cartoonify_images.ipynb\" target=\"_parent\"><img src=\"https://colab.research.google.com/assets/colab-badge.svg\" alt=\"Open In Colab\"/></a>"
      ]
    },
    {
      "cell_type": "markdown",
      "metadata": {
        "id": "YuyVuOl95iA3"
      },
      "source": [
        "# Determine if images are a cartoon or photograph\n",
        "---\n",
        "*Last Updated 30 October  2020*   \n",
        "Cartoonify image, then compare change in color values. If change above a certain threshold, then image is likely a photograph. If change below a certain threshold, image is likely a cartoon.\n",
        "\n",
        "**Results**   \n",
        "Using 500 images from all image type classes, the best predictor of \"not cartoon\" was found to be Manhattan norm per pixel > 2."
      ]
    },
    {
      "cell_type": "markdown",
      "metadata": {
        "id": "aOEIcN9khD5r"
      },
      "source": [
        "### Imports\n",
        "---"
      ]
    },
    {
      "cell_type": "code",
      "metadata": {
        "id": "RLomsEYpp4Dj"
      },
      "source": [
        "# Mount google drive to import/export files\n",
        "from google.colab import drive\n",
        "drive.mount('/content/drive', force_remount=True)"
      ],
      "execution_count": null,
      "outputs": []
    },
    {
      "cell_type": "code",
      "metadata": {
        "id": "543EFNyF8P2e"
      },
      "source": [
        "# For saving images\n",
        "!pip install pillow\n",
        "!pip install scipy==1.1.0\n",
        "import scipy\n",
        "\n",
        "# For importing data and images\n",
        "import pandas as pd\n",
        "import numpy as np\n",
        "import os\n",
        "from scipy.linalg import norm\n",
        "from scipy import sum, average\n",
        "\n",
        "# For saving images\n",
        "from scipy import misc\n",
        "\n",
        "# For drawing on and displaying images\n",
        "import cv2\n",
        "import matplotlib.pyplot as plt\n",
        "%config InlineBackend.figure_format = 'svg'\n",
        "\n",
        "%cd /content/drive/My Drive/summer20/classification/image_type/images"
      ],
      "execution_count": null,
      "outputs": []
    },
    {
      "cell_type": "markdown",
      "metadata": {
        "id": "ieUdvK06hG_U"
      },
      "source": [
        "### Cartoonization\n",
        "---"
      ]
    },
    {
      "cell_type": "code",
      "metadata": {
        "id": "Xe3YUp515fV3"
      },
      "source": [
        "from PIL import Image\n",
        "import time\n",
        "\n",
        "# TO DO: Select image folder to use for determining \"cartoon threshold\"\n",
        "imclass = \"phylo\" #@param [\"illus\", \"phylo\", \"herb\", \"maps\", \"null\"]\n",
        "image_paths = os.listdir(imclass)\n",
        "path = imclass + \"/\"\n",
        "test_paths = [os.path.join(path, image_path) for image_path in image_paths]\n",
        "\n",
        "fns = []\n",
        "mnorms = []\n",
        "mnorms_pp = []\n",
        "znorms = []\n",
        "znorms_pp = []\n",
        "\n",
        "# Cartoonify images\n",
        "for i, fn in enumerate(test_paths[1:50], start=1):\n",
        "  start = time.time()\n",
        "  # Read in image\n",
        "  img = cv2.imread(fn)\n",
        "  # Display image\n",
        "  #_, ax = plt.subplots(figsize=(10, 10))\n",
        "  #plt.title(\"Original\")\n",
        "  #ax.imshow(img)\n",
        "  # Make edges \n",
        "  gray = cv2.cvtColor(img, cv2.COLOR_BGR2GRAY) \n",
        "  gray = cv2.medianBlur(gray, 5) \n",
        "  edges = cv2.adaptiveThreshold(gray, 255, cv2.ADAPTIVE_THRESH_MEAN_C,  \n",
        "                                         cv2.THRESH_BINARY, 9, 9)  \n",
        "  edges = cv2.cvtColor(edges, cv2.COLOR_GRAY2RGB)\n",
        "  # Cartoonization - bilateral filter and edges \n",
        "  color = cv2.bilateralFilter(img, 9, 250, 250) \n",
        "  img2 = cv2.bitwise_and(color, edges) \n",
        "\n",
        "  # Calculate difference in original and cartoonized image\n",
        "  # Convert both images from RGB to HSV\n",
        "  HSV_img = cv2.cvtColor(img, cv2.COLOR_RGB2HSV)\n",
        "  HSV_img2 = cv2.cvtColor(img2, cv2.COLOR_RGB2HSV)\n",
        "  # Fnd the difference for H of HSV values of the images\n",
        "  diff = HSV_img[:,:,0]-HSV_img2[:,:,0]\n",
        "  # Cartoon: 148201490, 1202978; 6, 0.0487\n",
        "  # Image: 4229132, 378998; 18.7, 0.16\n",
        "  mnorm = sum(abs(diff))  # Manhattan norm\n",
        "  mnorm_pp = mnorm/HSV_img.size # per pixel\n",
        "  znorm = norm(diff.ravel(), 0)  # Zero norm\n",
        "  znorm_pp = znorm*1.0/HSV_img2.size # per pixel\n",
        "  end = time.time()\n",
        "\n",
        "  # Display cartoonized image\n",
        "  #_, ax = plt.subplots(figsize=(10, 10))\n",
        "  #plt.title(\"Cartoonized \\n Manhattan norm: {} / per pixel {} \\\n",
        "  #\\n Zero norm: {} / per pixel {}\".format(mnorm, mnorm_pp, znorm, znorm_pp))\n",
        "  #ax.imshow(img2)\n",
        "  # Save cartoonized image\n",
        "  #savepath = os.path.splitext(impath)[0] + \"_cartoon.jpg\"\n",
        "  #misc.imsave(savepath, img2)\n",
        "\n",
        "  # For exporting results\n",
        "  fns.append(fn)\n",
        "  print(\"Completed for {}, {} of {} files in {} seconds\".format(fn, i, len(image_paths), format(end-start, '.2f')))\n",
        "  mnorms.append(mnorm)\n",
        "  mnorms_pp.append(mnorm_pp)\n",
        "  znorms.append(znorm)\n",
        "  znorms_pp.append(znorm_pp)\n",
        "\n",
        "# Combine to df\n",
        "cartoonif_vals = pd.DataFrame(([fns, mnorms, mnorms_pp, znorms, znorms_pp]))\n",
        "cartoonif_vals = cartoonif_vals.transpose()\n",
        "name = imclass + 'cartoonifcation_values.csv'\n",
        "#cartoonif_vals.to_csv(name, index=False, header=(\"fn\", \"mnorm\", \"mnorm_perpixel\", \"znorm\", \"znorm_perpixel\"))\n",
        "print(cartoonif_vals.head())"
      ],
      "execution_count": null,
      "outputs": []
    },
    {
      "cell_type": "markdown",
      "metadata": {
        "id": "rtWAgRdlhKBg"
      },
      "source": [
        "### Inspect cartoonizaton results\n",
        "---"
      ]
    },
    {
      "cell_type": "code",
      "metadata": {
        "id": "X2vcKgUu0QvX"
      },
      "source": [
        "%cd ../\n",
        "%cd image_data\n",
        "\n",
        "# Plot parameters\n",
        "kwargs = dict(alpha=0.5, bins=15)\n",
        "fig, (a, b, c, d) = plt.subplots(4, figsize=(10, 10), sharey=True, constrained_layout=True)\n",
        "fig.suptitle('Image differences after cartoonization (n=500 imgs)')\n",
        "\n",
        "# Manhattan norm values\n",
        "bins, counts = np.histogram(mnorms)\n",
        "a.hist(mnorms, color='y', label='True Det', **kwargs)\n",
        "a.set_title(\"Manhattan norm\");\n",
        "\n",
        "# Zero norm values\n",
        "bins, counts = np.histogram(znorms)\n",
        "c.hist(znorms, color='y', label='True Det', **kwargs)\n",
        "c.set_title(\"Zero norm\");\n",
        "\n",
        "\n",
        "# Manhattan norm values per pixel\n",
        "bins, counts = np.histogram(mnorms_pp)\n",
        "b.hist(mnorms_pp, color='y', label='True Det', **kwargs)\n",
        "b.set_title(\"Manhattan norm per pixel\");\n",
        "\n",
        "# Zero norm values per pixel\n",
        "bins, counts = np.histogram(znorms_pp)\n",
        "d.hist(znorms_pp, color='y', label='True Det', **kwargs)\n",
        "d.set_title(\"Zero norm per pixel\");\n",
        "\n",
        "# TO DO: \n",
        "figname = 'phylo_cartoonization_hists' + '.png'\n",
        "fig.savefig(figname)"
      ],
      "execution_count": null,
      "outputs": []
    }
  ]
}