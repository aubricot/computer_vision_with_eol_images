{
  "nbformat": 4,
  "nbformat_minor": 0,
  "metadata": {
    "colab": {
      "name": "inspect_train_results.ipynb",
      "provenance": [],
      "collapsed_sections": [],
      "authorship_tag": "ABX9TyM4mwXbWgLWsh2w9/QXDo5F",
      "include_colab_link": true
    },
    "kernelspec": {
      "name": "python3",
      "display_name": "Python 3"
    }
  },
  "cells": [
    {
      "cell_type": "markdown",
      "metadata": {
        "id": "view-in-github",
        "colab_type": "text"
      },
      "source": [
        "<a href=\"https://colab.research.google.com/github/aubricot/computer_vision_with_eol_images/blob/master/classification_for_image_tagging/image_type/inspect_train_results.ipynb\" target=\"_parent\"><img src=\"https://colab.research.google.com/assets/colab-badge.svg\" alt=\"Open In Colab\"/></a>"
      ]
    },
    {
      "cell_type": "markdown",
      "metadata": {
        "id": "_TcYNLBrWC0C"
      },
      "source": [
        "# Determine confidence threshold for Image Type Classification Models \n",
        "---\n",
        "*Last Updated 30 October 2020*   \n",
        "Choose which trained model and confidence threshold values to use for classifying flowers/fruits from EOL images. Threshold values should be chosen that maximize coverage and minimize error.\n",
        "\n",
        "First, choose the 2 best models trained in [image_type_train.ipynb](https://colab.research.google.com/github/aubricot/computer_vision_with_eol_images/blob/master/classification_for_image_tagging/image_type/image_type_preprocessing.ipynb). Then, run this notebook. \n",
        "\n",
        "1) Save model predictions and confidence values for 1500 images per class  (Map, Phylogeny, Illustration, Herbarium Sheet, Null) for each model.   \n",
        "2) Load saved model prediction and confidence files from 1.   \n",
        "3) Visualize confidence values for true and false predictions per class to determine thresholds for use with image type classifiers."
      ]
    },
    {
      "cell_type": "markdown",
      "metadata": {
        "id": "ZYW4W2aqdnTN"
      },
      "source": [
        "### Imports\n",
        "---"
      ]
    },
    {
      "cell_type": "code",
      "metadata": {
        "id": "6k81-h_UV_ny"
      },
      "source": [
        "# Mount google drive to import/export files\n",
        "from google.colab import drive\n",
        "drive.mount('/content/drive', force_remount=True)"
      ],
      "execution_count": null,
      "outputs": []
    },
    {
      "cell_type": "code",
      "metadata": {
        "id": "1AGFM4fSWhbT"
      },
      "source": [
        "# For working with data and plotting graphs\n",
        "import itertools\n",
        "import os\n",
        "import numpy as np\n",
        "import pandas as pd\n",
        "import matplotlib.pyplot as plt\n",
        "%matplotlib inline\n",
        "\n",
        "# For image classification and training\n",
        "import tensorflow as tf\n",
        "\n",
        "%cd drive/My Drive/summer20/classification/image_type/det_conf_threshold/"
      ],
      "execution_count": null,
      "outputs": []
    },
    {
      "cell_type": "markdown",
      "metadata": {
        "id": "u2PEaR_a_0QH"
      },
      "source": [
        "### 1) Save model predictions and confidence values for 1500 images per class  (Map, Phylogeny, Illustration, Herbarium Sheet, Null) for each model\n",
        "---   \n",
        "True and false predictions by confidence value will be used to compare model performance per class. Get values for models from 2 best training runs. "
      ]
    },
    {
      "cell_type": "code",
      "metadata": {
        "id": "efIHQCtAAmYg"
      },
      "source": [
        "# Define functions\n",
        "\n",
        "# TO DO: Do you want to display classification results for the most recently trained model?\n",
        "answer = \"No\" #@param [\"Yes\", \"No\"]\n",
        "# TO DO: If No, manually input desired training attempt number to the right\n",
        "if answer == \"Yes\":\n",
        "  # Display results from most recent training attempt\n",
        "  last_attempt = !ls /content/drive/'My Drive'/summer20/classification/image_type/saved_models/ | tail -n 1\n",
        "  TRAIN_SESS_NUM = str(last_attempt.n)\n",
        "else:\n",
        "  TRAIN_SESS_NUM = \"13\" #@param [\"11\", \"13\"]\n",
        "\n",
        "# Load trained model from path\n",
        "saved_model_path = '/content/drive/My Drive/summer20/classification/image_type/saved_models/' + TRAIN_SESS_NUM\n",
        "imtype_model = tf.keras.models.load_model(saved_model_path)\n",
        "\n",
        "# TO DO: Select model type\n",
        "module_selection = (\"mobilenet_v2_1.0_224\", 224) #@param [\"(\\\"mobilenet_v2_1.0_224\\\", 224)\", \"(\\\"inception_v3\\\", 299)\"] {type:\"raw\", allow-input: true}\n",
        "handle_base, pixels = module_selection\n",
        "IMAGE_SIZE = (pixels, pixels)\n",
        "\n",
        "# Function for plotting classification results with color-coded label if true or false prediction\n",
        "label_names = ['herb', 'illus', 'maps', 'null', 'phylo']"
      ],
      "execution_count": null,
      "outputs": []
    },
    {
      "cell_type": "code",
      "metadata": {
        "id": "0ZXo6iVvBF0G"
      },
      "source": [
        "# Run inference\n",
        "from PIL import Image, ImageFile\n",
        "ImageFile.LOAD_TRUNCATED_IMAGES = True\n",
        "import time\n",
        "\n",
        "# TO DO: Choose the image class to run for (Run 1x per class per model)\n",
        "base = '/content/drive/My Drive/summer20/classification/'\n",
        "classifier = \"image_type/\" #@param [\"flower_fruit/\", \"image_type/\"]\n",
        "true_imclass = \"null\" #@param [\"maps\", \"phylo\", \"illus\", \"herb\", \"null\"]\n",
        "PATH_TO_TEST_IMAGES_DIR = base + classifier + \"images/\" + true_imclass\n",
        "names = os.listdir(PATH_TO_TEST_IMAGES_DIR)\n",
        "TEST_IMAGE_PATHS = [os.path.join(PATH_TO_TEST_IMAGES_DIR, name) for name in names]\n",
        "outpath = base + classifier + 'det_conf_threshold/imagetype_conf_threshold_' + TRAIN_SESS_NUM + \"_\" + true_imclass + \".csv\"\n",
        "\n",
        "# For determinining confidence threshold\n",
        "confi = []\n",
        "true_id = []\n",
        "det_id = []\n",
        "colormode = []\n",
        "\n",
        "# Loops through first 5 image urls from the text file\n",
        "start = 0 #@param {type:\"number\"}\n",
        "end =  1500 #@param {type:\"number\"}\n",
        "for im_num, im_path in enumerate(TEST_IMAGE_PATHS[start:end], start=1):\n",
        "    # Load in image\n",
        "    imga = Image.open(im_path)\n",
        "    img = imga.convert('RGB')\n",
        "    image = img.resize(IMAGE_SIZE)\n",
        "    image = np.reshape(image,[1,pixels,pixels,3])\n",
        "    image = image*1./255\n",
        "    # Record inference time\n",
        "    start_time = time.time()\n",
        "    # Detection and draw boxes on image\n",
        "    predictions = imtype_model.predict(image, batch_size=1)\n",
        "    label_num = np.argmax(predictions)\n",
        "    conf = predictions[0][label_num]\n",
        "    otherconfa = predictions[0][:label_num]\n",
        "    otherconfb = predictions[0][label_num+1:]\n",
        "    imclass = label_names[label_num]\n",
        "    other_class = label_names[:label_num]+label_names[label_num+1:]\n",
        "    end_time = time.time()\n",
        "    # Display progress message after each image\n",
        "    print('Inference complete for {} of {} images'.format(im_num, (end-start)))\n",
        "\n",
        "    # Record confidence, true id, determined id to export and choose confidence thresholds\n",
        "    confi.append(conf)\n",
        "    true_id.append(true_imclass)\n",
        "    det_id.append(imclass.lower())\n",
        "    colormode.append(imga.getbands())\n",
        "\n",
        "# Combine to df\n",
        "imtype_conf = pd.DataFrame(([confi, true_id, det_id, colormode]))\n",
        "imtype_conf = imtype_conf.transpose()\n",
        "\n",
        "# TO DO: \n",
        "imtype_conf.to_csv(outpath, index=False, header=(\"confidence\", \"true_id\", \"det_id\", \"colormode\"))\n",
        "print(imtype_conf.head())"
      ],
      "execution_count": null,
      "outputs": []
    },
    {
      "cell_type": "markdown",
      "metadata": {
        "id": "F2jfuHDydqUe"
      },
      "source": [
        "### 2) Load saved model prediction and confidence files from 1\n",
        "---"
      ]
    },
    {
      "cell_type": "code",
      "metadata": {
        "id": "mnUCpn8sWVzi"
      },
      "source": [
        "%cd drive/My Drive/summer20/classification/image_type/det_conf_threshold/\n",
        "\n",
        "# Combine confidence threshold values for classes 1-3 for all models\n",
        "#base = 'imagetype_conf_threshold_11_' \n",
        "base = 'imagetype_conf_threshold_13_'\n",
        "exts = [\"maps.csv\", \"phylo.csv\", \"illus.csv\", \"herb.csv\", \"null.csv\"]\n",
        "\n",
        "# Combine all files in the list\n",
        "all_filenames = [base + e for e in exts]\n",
        "mod = pd.concat([pd.read_csv(f, sep=',', header=0, na_filter = False) for f in all_filenames])\n",
        "print(\"Model:\")\n",
        "print(len(mod))\n",
        "print(mod.head())"
      ],
      "execution_count": null,
      "outputs": []
    },
    {
      "cell_type": "markdown",
      "metadata": {
        "id": "bL_56etnd0Rd"
      },
      "source": [
        "### 3) Look at prediction error and confidence for each class\n",
        "---   "
      ]
    },
    {
      "cell_type": "code",
      "metadata": {
        "id": "10GhFabiCj3c"
      },
      "source": [
        "# Trained model used in 2 above\n",
        "df = mod.copy()\n",
        "\n",
        "thresh=1.6 #@param\n",
        "\n",
        "## Split by True or False determined image ID\n",
        "df['det'] = (df[\"true_id\"] == df[\"det_id\"])\n",
        "tru = df.loc[df.det, :] # True ID\n",
        "fal = df.loc[~df.det, :] # False ID\n",
        "\n",
        "## and by Image class\n",
        "# Map\n",
        "map_tru = tru.loc[tru[\"true_id\"] == \"maps\", :] # and True ID\n",
        "mt_conf = map_tru['confidence']\n",
        "map_fal = fal.loc[fal[\"true_id\"] == \"maps\", :]# and False ID\n",
        "mf_conf = map_fal['confidence']\n",
        "\n",
        "# Phylogeny\n",
        "phylo_tru = tru.loc[tru[\"true_id\"] == \"phylo\", :] # and True ID\n",
        "pt_conf = phylo_tru['confidence']\n",
        "phylo_fal = fal.loc[fal[\"true_id\"] == \"phylo\", :] # and False ID\n",
        "pf_conf = phylo_fal['confidence']\n",
        "\n",
        "# Illustration\n",
        "illus_tru = tru.loc[tru[\"true_id\"] == \"illus\", :] # and True ID\n",
        "it_conf = illus_tru['confidence']\n",
        "illus_fal = fal.loc[fal[\"true_id\"] == \"illus\", :] # and False ID\n",
        "if_conf = illus_fal['confidence']\n",
        "\n",
        "# Herbarium Sheet\n",
        "herb_tru = tru.loc[tru[\"true_id\"] == \"herb\", :] # and True ID\n",
        "ht_conf = herb_tru['confidence']\n",
        "herb_fal = fal.loc[fal[\"true_id\"] == \"herb\", :] # and False ID\n",
        "hf_conf = herb_fal['confidence']\n",
        "\n",
        "# None\n",
        "null_tru = tru.loc[tru[\"true_id\"] == \"null\", :] # and True ID\n",
        "nt_conf = null_tru['confidence']\n",
        "null_fal = fal.loc[fal[\"true_id\"] == \"null\", :] # and False ID\n",
        "nf_conf = null_fal['confidence']\n",
        "\n",
        "## Plot parameters\n",
        "kwargs = dict(alpha=0.5, bins=15)\n",
        "fig, (ax1, ax2, ax3, ax4, ax5) = plt.subplots(5, figsize=(10, 10), constrained_layout=True)\n",
        "#fig, (ax1, ax2, ax3, ax4, ax5, ax6) = plt.subplots(6, figsize=(10, 10), constrained_layout=True)\n",
        "fig.suptitle('Prediction Confidence by Class')\n",
        "\n",
        "# Map\n",
        "ax1.hist(mt_conf, color='y', label='True Det', **kwargs)\n",
        "ax1.hist(mf_conf, color='r', label='False Det', **kwargs)\n",
        "ax1.set_title(\"Maps (n=1500 images)\")\n",
        "ax1.legend();\n",
        "\n",
        "# Phylogeny\n",
        "ax2.hist(pt_conf, color='y', label='True Det', **kwargs)\n",
        "ax2.hist(pf_conf, color='r', label='False Det', **kwargs)\n",
        "ax2.set_title(\"Phylogeny (n=1024 images)\")\n",
        "ax2.legend();\n",
        "\n",
        "# Illustration\n",
        "ax3.hist(it_conf, color='y', label='True Det', **kwargs)\n",
        "ax3.hist(if_conf, color='r', label='False Det', **kwargs)\n",
        "ax3.set_title(\"Illustration (n=1500 images)\")\n",
        "ax3.legend();\n",
        "\n",
        "# Herbarium Sheet\n",
        "ax4.hist(ht_conf, color='y', label='True Det', **kwargs)\n",
        "ax4.hist(hf_conf, color='r', label='False Det', **kwargs)\n",
        "ax4.set_title(\"Herbarium Sheet (n=1500 images)\")\n",
        "ax4.legend();\n",
        "\n",
        "# None\n",
        "ax5.hist(nt_conf, color='y', label='True Det', **kwargs)\n",
        "ax5.hist(nf_conf, color='r', label='False Det', **kwargs)\n",
        "ax5.set_title(\"None (n=1500 images)\")\n",
        "ax5.legend();\n",
        "\n",
        "# Y-axis label\n",
        "for ax in fig.get_axes():\n",
        "    ax.set(ylabel='Freq (# imgs)')\n",
        "    if thresh:\n",
        "      ax.axvline(thresh, color='k', linestyle='dashed', linewidth=1)\n",
        "\n",
        "# TO DO: Choose model name for exporting graphs\n",
        "#figname = 'inceptionv3_11' + '.png'\n",
        "#figname = 'mobilenetv2_13' + '.png'\n",
        "#fig.savefig(figname)"
      ],
      "execution_count": null,
      "outputs": []
    },
    {
      "cell_type": "markdown",
      "metadata": {
        "id": "zBugNj5My9-R"
      },
      "source": [
        "### 4) Test confidence threshold values\n",
        "---"
      ]
    },
    {
      "cell_type": "code",
      "metadata": {
        "id": "U748-euK2eKN"
      },
      "source": [
        "# Trained model used in 2 above\n",
        "df = mod.copy()\n",
        "\n",
        "# Split by True or False determined image ID\n",
        "df['det'] = (df[\"true_id\"] == df[\"det_id\"])\n",
        "tru = df.loc[df.det, :] # True ID\n",
        "fal = df.loc[~df.det, :] # False ID\n",
        "# Export results for further analysis\n",
        "df[['true_id','det_id']].to_csv('true_false_dets_forbarcharts_inception_pooledillus.tsv', sep='\\t', index=0)\n",
        "  \n",
        "# Confidence values to test  \n",
        "conf_vals = [2.2, 2.4, 2.6, 2.8, 3, 3.2, 3.4, 3.8]\n",
        "for conf_val in conf_vals: \n",
        "  df1 = df.loc[df[\"confidence\"] > conf_val, :]\n",
        "  new = tru.loc[tru[\"confidence\"] > conf_val, :]\n",
        "  new_fal = fal.loc[fal[\"confidence\"] > conf_val, :]\n",
        "  all_vals = new.append(new_fal)\n",
        "  print(\"Confidence Value: {}\".format(conf_val))\n",
        "  print(\"Accuracy for confidence > {}: {}, all classes\".format(conf_val, len(new)/len(all_vals)))\n",
        "  print(\"Predictions Retained (%): {}\".format(len(df1)/len(df)))\n",
        "  print(\"True Predictions Retained (%): {}\".format(len(new)/len(tru)))\n",
        "  print(\"False Predictions Retained (%): {}\".format(len(new_fal)/len(fal)))\n",
        "  print(\"Accuracy for confidence > {}, by class:\".format(conf_val))\n",
        "  print(\"Maps: {}\".format(len(new.loc[new[\"true_id\"] == \"maps\", :])/len(all_vals.loc[all_vals[\"true_id\"] == \"maps\", :])))\n",
        "  print(\"Phylo: {}\".format(len(new.loc[new[\"true_id\"] == \"phylogeny\", :])/len(all_vals.loc[all_vals[\"true_id\"] == \"phylogeny\", :])))\n",
        "  print(\"Herb: {}\".format(len(new.loc[new[\"true_id\"] == \"herbarium sheet\", :])/len(all_vals.loc[all_vals[\"true_id\"] == \"herbarium sheet\", :])))\n",
        "  print(\"Null: {}\".format(len(new.loc[new[\"true_id\"] == \"null\", :])/len(all_vals.loc[all_vals[\"true_id\"] == \"null\", :])))\n",
        "  print(\"Illus: {}\\n\".format(len(new.loc[new[\"true_id\"] == \"illustration\", :])/len(all_vals.loc[all_vals[\"true_id\"] == \"illustration\", :])))"
      ],
      "execution_count": null,
      "outputs": []
    },
    {
      "cell_type": "markdown",
      "metadata": {
        "id": "6_wMLs4itYsU"
      },
      "source": [
        "### 5) Inspect detections by image colorspace \n",
        "--- \n",
        "Noticed that many false dets in illustrations were from greyscale color mode ('L' in pillow)"
      ]
    },
    {
      "cell_type": "code",
      "metadata": {
        "id": "tZxW9exonwMK"
      },
      "source": [
        "print(\"Illus:\")\n",
        "print(\"False det, True det\")\n",
        "print(len(illus_fal), len(illus_tru))\n",
        "print(\"False det in greyscale\")\n",
        "illus_falu_col = illus_fal.loc[illus_fal[\"colormode\"]==\"('L',)\", :]\n",
        "print(len(illus_fal_col))\n",
        "print(\"True det in greyscale\")\n",
        "illus_tru_col = illus_tru.loc[illus_tru[\"colormode\"]==\"('L',)\", :]\n",
        "print(len(illus_tru_col))\n",
        "\n",
        "print(\"\\nPhylo:\")\n",
        "print(len(phylo_fal), len(phylo_tru))\n",
        "phylo_fal_col = phylo_fal.loc[phylo_fal[\"colormode\"]==\"('L',)\", :]\n",
        "print(len(phylo_fal_col))\n",
        "phylo_tru_col = phylo_tru.loc[phylo_tru[\"colormode\"]==\"('L',)\", :]\n",
        "print(len(phylo_tru_col))\n",
        "\n",
        "print(\"\\nMaps:\")\n",
        "print(len(map_fal), len(map_tru))\n",
        "map_fal_col = map_fal.loc[map_fal[\"colormode\"]==\"('L',)\", :]\n",
        "print(len(map_fal_col))\n",
        "map_tru_col = map_tru.loc[map_tru[\"colormode\"]==\"('L',)\", :]\n",
        "print(len(map_tru_col))\n",
        "\n",
        "print(\"\\nHerb:\")\n",
        "print(len(herb_fal), len(herb_tru))\n",
        "herb_fal_col = herb_fal.loc[herb_fal[\"colormode\"]==\"('L',)\", :]\n",
        "print(len(herb_fal_col))\n",
        "herb_tru_col = herb_tru.loc[herb_tru[\"colormode\"]==\"('L',)\", :]\n",
        "print(len(herb_tru_col))\n",
        "\n",
        "print(\"\\nNone:\")\n",
        "print(len(null_fal), len(null_tru))\n",
        "null_fal_col = null_fal.loc[null_fal[\"colormode\"]==\"('L',)\", :]\n",
        "print(len(null_fal_col))\n",
        "null_tru_col = null_tru.loc[null_tru[\"colormode\"]==\"('L',)\", :]\n",
        "print(len(null_tru_col))"
      ],
      "execution_count": null,
      "outputs": []
    }
  ]
}