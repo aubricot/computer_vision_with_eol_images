{
  "nbformat": 4,
  "nbformat_minor": 0,
  "metadata": {
    "colab": {
      "name": "image_type_preprocessing.ipynb",
      "provenance": [],
      "collapsed_sections": [
        "Crpl2CtzuWTI",
        "xXbfCxBNILb5"
      ],
      "toc_visible": true,
      "authorship_tag": "ABX9TyMj7T9DgdINJo+IQ0MXGvnl",
      "include_colab_link": true
    },
    "kernelspec": {
      "name": "python3",
      "display_name": "Python 3"
    }
  },
  "cells": [
    {
      "cell_type": "markdown",
      "metadata": {
        "id": "view-in-github",
        "colab_type": "text"
      },
      "source": [
        "<a href=\"https://colab.research.google.com/github/aubricot/computer_vision_with_eol_images/blob/master/classification_for_image_tagging/image_type/image_type_preprocessing.ipynb\" target=\"_parent\"><img src=\"https://colab.research.google.com/assets/colab-badge.svg\" alt=\"Open In Colab\"/></a>"
      ]
    },
    {
      "cell_type": "markdown",
      "metadata": {
        "id": "WGFNOrAs0pMf"
      },
      "source": [
        "# Pre-process Image Type Classifier Training Images\n",
        "---\n",
        "*Last Updated 22 Oct 2020*   \n",
        "1) Download images from map, phylogeny, illustration, and herbarium sheet image bundles to Google Drive.   \n",
        "2) Manually exclude images that are not representative class examples.    \n",
        "3) Build null image class from EOL images for negative control class.   \n",
        "4) Standardize number of images per class.  \n",
        "\n",
        "**Notes**\n",
        "* Change filepaths or information using the form fields to the right of code blocks (also noted in code with 'TO DO')"
      ]
    },
    {
      "cell_type": "markdown",
      "metadata": {
        "id": "F53iiacTFVz7"
      },
      "source": [
        "### Connect to Google Drive\n",
        "---"
      ]
    },
    {
      "cell_type": "code",
      "metadata": {
        "id": "MeNoVQDN0I1q"
      },
      "source": [
        "# Mount google drive to import/export files\n",
        "from google.colab import drive\n",
        "drive.mount('/content/drive', force_remount=True)"
      ],
      "execution_count": null,
      "outputs": []
    },
    {
      "cell_type": "markdown",
      "metadata": {
        "id": "LZlJ7Rjaub3O"
      },
      "source": [
        "### 1) Download images to Google Drive from EOL Image bundle\n",
        "---\n",
        "Run this step 5x (once per image bundle). For each iteration, use the dropdown menu to the right to select the image bundle to download images from."
      ]
    },
    {
      "cell_type": "code",
      "metadata": {
        "id": "ocIw1WmV44Mr"
      },
      "source": [
        "import os\n",
        "import pandas as pd\n",
        "\n",
        "# Set paths to where your training/testing images will be stored in form field on right\n",
        "classif_type = \"image_type\"\n",
        "# TO DO: Choose images by class to download each iteration\n",
        "imclass = \"illus\" #@param [\"map\", \"herb\", \"phylo\", \"illus\"]\n",
        "impath = \"/content/drive/'My Drive'/summer20/classification/\" + classif_type + \"/images/\" + imclass + \"/\"\n",
        "print(\"Path to images:\")\n",
        "%cd $impath\n",
        "\n",
        "# TO DO: Choose filename of EOL breakdown_download image bundle for image class above\n",
        "bundle = \"https://editors.eol.org/other_files/bundle_images/classifier/Zoological_illustrations_download.txt\" #@param [\"https://editors.eol.org/other_files/bundle_images/classifier/maps.txt\", \"https://editors.eol.org/other_files/bundle_images/classifier/Phylogeny_images.txt\", \"https://editors.eol.org/other_files/bundle_images/classifier/herbarium_sheets_download.txt\", \"https://editors.eol.org/other_files/bundle_images/classifier/Zoological_illustrations_download.txt\", \"https://editors.eol.org/other_files/bundle_images/classifier/Botanical_illustrations_download.txt\"]\n",
        "# Download images to Google Drive\n",
        "print(\"Images should already be downloaded. Un-comment out lines 15/16 to download images to Google Drive\")\n",
        "# Note: added user-agent tag bc got 403 errors preventing bots from downloading imgs\n",
        "!wget --user-agent=\"Mozilla\" -nc -i $bundle\n",
        "print(\"Images successfully downloaded to Google Drive\")\n",
        "\n",
        "# Confirm expected number of images downloaded to Google Drive\n",
        "# Numbers may be slightly different due to dead hyperlinks\n",
        "print(\"Expected number of images from bundle:\\n{}\".format(len(pd.read_table(bundle))))\n",
        "print(\"Actual number of images downloaded to Google Drive: \")\n",
        "!ls $impath | wc -l"
      ],
      "execution_count": null,
      "outputs": []
    },
    {
      "cell_type": "markdown",
      "metadata": {
        "id": "r4fdwzVnuwPQ"
      },
      "source": [
        "### 2) Go to Google Drive and visually inspect images in each folder\n",
        "---   \n",
        "Delete images based on chosen exclusion criteria to get consistent classes with representative images."
      ]
    },
    {
      "cell_type": "markdown",
      "metadata": {
        "id": "Crpl2CtzuWTI"
      },
      "source": [
        "### 3) Build \"null\" image class from EOL images\n",
        "---   \n",
        "Having a negative control will help train the classifier on what images do not belong in any of the above classes"
      ]
    },
    {
      "cell_type": "markdown",
      "metadata": {
        "id": "zQZYsmrfDdys"
      },
      "source": [
        "#### Take images from flower/fruit classifier training data to have botanical images"
      ]
    },
    {
      "cell_type": "code",
      "metadata": {
        "id": "LuBO0i472WHV"
      },
      "source": [
        "# Copy null.zip from flower_fruit directory to image_type directory\n",
        "!cp /content/drive/'My Drive'/summer20/classification/flower_fruit/backup_img_befevenclassnum/null.zip /content/drive/'My Drive'/summer20/classification/image_type/images/null/\n",
        "\n",
        "# Unzip images\n",
        "%cd /content/drive/My Drive/summer20/classification/image_type/images/null\n",
        "print(\"Unzipping botanical images\")\n",
        "!unzip null.zip\n",
        "# Zipped folders have preserved directory structure for some reason\n",
        "# Hacky workaround to move images to null folder\n",
        "!mv content/drive/'My Drive'/summer20/classification/flower_fruit/backup_img_befevenclassnum/null/* .\n",
        "\n",
        "# Check how many images were moved\n",
        "print(\"Number of botanical images moved to null folder:\")\n",
        "!ls . | wc -l\n",
        "\n",
        "# Delete not needed folders\n",
        "!rm -r content\n",
        "!rm -r .ipynb_checkpoints\n",
        "\n",
        "# Delete all but 1000 images\n",
        "!find . -type f -print0 | sort -zR | tail -zn +1501 | xargs -0 rm\n",
        "print(\"Number of botanical images remaining:\")\n",
        "!ls . | wc -l"
      ],
      "execution_count": null,
      "outputs": []
    },
    {
      "cell_type": "markdown",
      "metadata": {
        "id": "9baITXskFKC4"
      },
      "source": [
        "#### Take images from object detection image bundles to have zoological images\n",
        "Take 150 images from Aves, Chiroptera, Lepidoptera, Coleoptera, Squamata, Anura, Mammalia bundles"
      ]
    },
    {
      "cell_type": "code",
      "metadata": {
        "id": "S5BY4lTiAAVK"
      },
      "source": [
        "import pandas as pd\n",
        "\n",
        "# All available zoological image bundles\n",
        "bundles = ['https://editors.eol.org/other_files/bundle_images/files/images_for_Aves_20K_breakdown_download_000001.txt',\n",
        "           'https://editors.eol.org/other_files/bundle_images/files/images_for_Chiroptera_20K_breakdown_download_000001.txt',\n",
        "           'https://editors.eol.org/other_files/bundle_images/files/images_for_Lepidoptera_20K_breakdown_download_000001.txt',\n",
        "           'https://editors.eol.org/other_files/bundle_images/files/images_for_Squamata_20K_breakdown_download_000001.txt',\n",
        "           'https://editors.eol.org/other_files/bundle_images/files/images_for_Coleoptera_20K_breakdown_download_000001.txt',\n",
        "           'https://editors.eol.org/other_files/bundle_images/files/images_for_Anura_20K_breakdown_download_000001.txt',\n",
        "           'https://editors.eol.org/other_files/bundle_images/files/images_for_Carnivora_20K_breakdown_download_000001.txt']\n",
        "print(bundles)\n",
        "\n",
        "urls = []\n",
        "for bundle in bundles:\n",
        "  df = pd.read_csv(bundle, names=[\"url\"])\n",
        "  urls.append(df[:1000].sample(300))\n",
        "imgs = pd.concat(urls, ignore_index=True)\n",
        "imgs.to_csv('zool/imgs.txt', header=None, index=None, sep=' ', mode='a')\n",
        "print(imgs)\n",
        "\n",
        "# Download images to Google Drive\n",
        "%cd zool\n",
        "!wget -nc -i imgs.txt\n",
        "print(\"Images successfully downloaded to Google Drive\")\n",
        "\n",
        "# Confirm expected number of images downloaded to Google Drive\n",
        "# Numbers may be slightly different due to dead hyperlinks\n",
        "print(\"Expected number of images from bundle:\\n{}\".format(len(pd.read_table('imgs.txt'))))\n",
        "print(\"Actual number of images downloaded to Google Drive: \")\n",
        "!ls . | wc -l\n",
        "\n",
        "# Move zoological images to null folder\n",
        "%cd ../ #cd to \"null/\"\n",
        "!mv zool/* .\n",
        "!rm -r zool"
      ],
      "execution_count": null,
      "outputs": []
    },
    {
      "cell_type": "markdown",
      "metadata": {
        "id": "awvgnMgy3uuy"
      },
      "source": [
        "#### Go to Google Drive and visually inspect images in each folder\n",
        "Manually delete all images that are cartoons/non-photographic, then return here"
      ]
    },
    {
      "cell_type": "markdown",
      "metadata": {
        "id": "EcSTrYvxVwP4"
      },
      "source": [
        "### 4) Split Illustrations into greyscale and color\n",
        "Poor accuracy for greyscale illustrations class on initial training with color and greyscale illustrations lumped together"
      ]
    },
    {
      "cell_type": "code",
      "metadata": {
        "id": "OIa3y8zjV-HL"
      },
      "source": [
        "# Run inference\n",
        "import PIL\n",
        "from PIL import Image\n",
        "import time\n",
        "\n",
        "PIL.Image.MAX_IMAGE_PIXELS = 196103143\n",
        "\n",
        "# Cd to images/\n",
        "#%cd ../\n",
        "\n",
        "# TO DO: Choose which image class to inspect results for in true_imclass to right\n",
        "# TO DO: Choose start and end image numbers to inspect (inspect up to 50 images at a time)\n",
        "path_to_orig_imgs = \"illus\"\n",
        "path_to_move_imgs = \"illus_g\"\n",
        "names = os.listdir(path_to_orig_imgs)\n",
        "orig_fpath = [os.path.join(path_to_orig_imgs, name) for name in names]\n",
        "moved_fpath = [os.path.join(path_to_move_imgs, name) for name in names]\n",
        "\n",
        "# Loops through first 5 image urls from the text file\n",
        "start = 0 #@param {type:\"number\"}\n",
        "end =   4000#@param {type:\"number\"}\n",
        "for im_num, im_path in enumerate(orig_fpath, start=1):\n",
        "#for im_num, im_path in enumerate(orig_fpath[start:end], start=1):\n",
        "    # Load in image\n",
        "    img = Image.open(im_path)\n",
        "    if img.getbands() == ('L',):\n",
        "      new_im_path = moved_fpath[im_num]\n",
        "      print('{}) Greyscale image found at {}, moving to illus_g'.format(im_num, im_path))\n",
        "      !mv \"$im_path\" \"$new_im_path\"\n",
        "    else:\n",
        "      print('{}) Color image found at {}, skipping'.format(im_num, im_path))"
      ],
      "execution_count": null,
      "outputs": []
    },
    {
      "cell_type": "code",
      "metadata": {
        "id": "kiIPB2qnaKVW"
      },
      "source": [
        "print(\"Number of color images:\")\n",
        "!ls illus | wc -l\n",
        "print(\"Number of greyscale images:\")\n",
        "!ls illus_g | wc -l"
      ],
      "execution_count": null,
      "outputs": []
    },
    {
      "cell_type": "markdown",
      "metadata": {
        "id": "ZfUGCY-nVW7R"
      },
      "source": [
        "### 5) Standardize number of images per class"
      ]
    },
    {
      "cell_type": "code",
      "metadata": {
        "id": "7FyeJcEu5gkH"
      },
      "source": [
        "# Inspect the number of images in each folder\n",
        "print(\"Number of map images:\")\n",
        "maps = !ls /content/drive/'My Drive'/summer20/classification/image_type/images/maps | wc -l\n",
        "print(maps)\n",
        "print(\"Number of herbarium sheet images:\")\n",
        "herb = !ls /content/drive/'My Drive'/summer20/classification/image_type/images/herb | wc -l\n",
        "print(herb)\n",
        "print(\"Number of phylogeny images:\")\n",
        "phylo = !ls /content/drive/'My Drive'/summer20/classification/image_type/images/phylo | wc -l\n",
        "print(phylo)\n",
        "print(\"Number of illustration images:\")\n",
        "illus = !ls /content/drive/'My Drive'/summer20/classification/image_type/images/illus | wc -l\n",
        "print(illus)\n",
        "print(\"Number of null images:\")\n",
        "null = !ls /content/drive/'My Drive'/summer20/classification/image_type/images/null | wc -l\n",
        "print(null)\n",
        "\n",
        "# Check which folder has the smallest number of images\n",
        "folders = [maps, herb, phylo, illus, null]\n",
        "fnames = [\"maps\", \"herb\", \"phylo\", \"illus\", \"null\"]\n",
        "num_imgs = [int(x.list[0]) for x in folders]\n",
        "min_imgs = (min(num_imgs))\n",
        "idx = num_imgs.index(min(num_imgs))\n",
        "keepfolder = fnames[idx]\n",
        "print(\"The minimum number of images is {} in the folder {}\".format(min_imgs, fnames[idx]))"
      ],
      "execution_count": null,
      "outputs": []
    },
    {
      "cell_type": "markdown",
      "metadata": {
        "id": "xXbfCxBNILb5"
      },
      "source": [
        "#### Augment phylogenies because not enough images\n",
        "Phylogeny has half the images of other folders. Use image augmentation to increase the number and diversity of phylogeny images, then make reamining image classes even."
      ]
    },
    {
      "cell_type": "code",
      "metadata": {
        "id": "Ykfc-DwKIOdv"
      },
      "source": [
        "# Install libraries for augmenting, displaying, and saving images\n",
        "!pip install imgaug\n",
        "!pip install pillow\n",
        "!pip install scipy==1.1.0\n",
        "\n",
        "%cd /content/drive/My Drive/summer20/classification/image_type/images\n",
        "\n",
        "# For importing/exporting files, working with arrays, etc\n",
        "import pathlib\n",
        "import os\n",
        "import imageio\n",
        "import time\n",
        "import csv\n",
        "import numpy as np\n",
        "import pandas as pd\n",
        "from urllib.request import urlopen\n",
        "from scipy.misc import imread\n",
        "from scipy import misc\n",
        "\n",
        "# For augmenting the images and bounding boxes\n",
        "import imgaug as ia\n",
        "import imgaug.augmenters as iaa\n",
        "from imgaug.augmentables.bbs import BoundingBox, BoundingBoxesOnImage\n",
        "\n",
        "# For drawing onto and plotting the images\n",
        "import matplotlib.pyplot as plt\n",
        "import cv2\n",
        "%config InlineBackend.figure_format = 'svg'\n",
        "%matplotlib inline\n",
        "\n",
        "# Define image augmentation pipeline\n",
        "# modified from https://github.com/aleju/imgaug\n",
        "seq = iaa.Sequential([\n",
        "    iaa.Crop(px=(1, 16), keep_size=False), # crop by 1-16px, resize resulting image to orig dims\n",
        "    iaa.Affine(rotate=(-25, 25)), # rotate -25 to 25 degrees\n",
        "    iaa.GaussianBlur(sigma=(0, 3.0)), # blur using gaussian kernel with sigma of 0-3\n",
        "    iaa.AddToHueAndSaturation((-50, 50), per_channel=True)\n",
        "])\n",
        "\n",
        "# Optional: set seed to make augmentations reproducible across runs, otherwise will be random each time\n",
        "ia.seed(1) "
      ],
      "execution_count": null,
      "outputs": []
    },
    {
      "cell_type": "code",
      "metadata": {
        "id": "yK9MMPoYI_Lj"
      },
      "source": [
        "# Loop to perform image augmentation for each image in crops\n",
        "# First test on 5 images from crops\n",
        "#for i, row in crops.head(5).iterrows():\n",
        "# Next run on all rows\n",
        "for i, fn in enumerate(os.listdir(\"phylo\"), start=1):\n",
        "    # Read in image\n",
        "    impath = \"phylo/\" + fn\n",
        "    img = imread(impath, mode='RGB')\n",
        "    # Display image\n",
        "    #_, ax = plt.subplots(figsize=(10, 10))\n",
        "    #plt.title(\"Original\")\n",
        "    #ax.imshow(img)\n",
        "    \n",
        "    # Augment image using settings defined above in seq\n",
        "    img_aug = seq.augment(image=img)\n",
        "    \n",
        "    # Define augmentation results needed in exported dataset\n",
        "    fn_aug = os.path.splitext(impath)[0] + '_aug.jpg'\n",
        "\n",
        "    # Export augmented images to Google Drive\n",
        "    misc.imsave(fn_aug, img_aug)\n",
        "    \n",
        "    # Draw augmented image\n",
        "    #_, ax = plt.subplots(figsize=(10, 10))\n",
        "    #ax.imshow(img_aug)\n",
        "    #plt.title('{}) Successfully augmented image from {}'.format(i, fn))\n",
        "    \n",
        "    # Display message to track augmentation process by image\n",
        "    print('{}) Successfully augmented image from {}'.format(i, fn))"
      ],
      "execution_count": null,
      "outputs": []
    },
    {
      "cell_type": "markdown",
      "metadata": {
        "id": "wzPmo0wmmTeX"
      },
      "source": [
        "#### Delete excess images from classes so that folders have roughly the same number of images"
      ]
    },
    {
      "cell_type": "code",
      "metadata": {
        "id": "2ges1Dpcj62i"
      },
      "source": [
        "# CD to images/\n",
        "#%cd ../\n",
        "\n",
        "# Randomly delete all but 3000 images from illustration and phylogeny folders\n",
        "#!find \"illus_g\" -type f -print0 | sort -zR | tail -zn +3001 | xargs -0 rm\n",
        "#!find \"null\" -type f -print0 | sort -zR | tail -zn +3001 | xargs -0 rm"
      ],
      "execution_count": null,
      "outputs": []
    }
  ]
}