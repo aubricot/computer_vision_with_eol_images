{
  "nbformat": 4,
  "nbformat_minor": 0,
  "metadata": {
    "colab": {
      "name": "multitaxa_split_train_test.ipynb",
      "provenance": [],
      "collapsed_sections": [],
      "include_colab_link": true
    },
    "kernelspec": {
      "name": "python3",
      "display_name": "Python 3"
    }
  },
  "cells": [
    {
      "cell_type": "markdown",
      "metadata": {
        "id": "view-in-github",
        "colab_type": "text"
      },
      "source": [
        "<a href=\"https://colab.research.google.com/github/aubricot/computer_vision_with_eol_images/blob/master/object_detection_for_image_cropping/multitaxa/multitaxa_split_train_test.ipynb\" target=\"_parent\"><img src=\"https://colab.research.google.com/assets/colab-badge.svg\" alt=\"Open In Colab\"/></a>"
      ]
    },
    {
      "cell_type": "markdown",
      "metadata": {
        "id": "9nmOIIRYi55F",
        "colab_type": "text"
      },
      "source": [
        "# Split EOL user crops dataset into train and test for all taxa\n",
        "---\n",
        "*Last Updated 29 March 2020*  \n",
        "Instead of creating image annotations from scratch, EOL user-generated cropping coordinates are used to create training and testing data to teach object detection models and evaluate model accuracy for YOLO via darkflow, SSD and Faster-RCNN object detection models, respectively. \n",
        "\n",
        "Following the [Pareto principle](https://en.wikipedia.org/wiki/Pareto_principle), for each taxon 80% of the original EOL crops dataset are randomly selected to be training data and the remaining 20% will be used to test model accuracy. \n",
        "\n",
        "Resulting train and test datasets for each taxon are exported for further pre-processing in [multitaxa_preprocessing.ipynb](https://github.com/aubricot/computer_vision_with_eol_images/tree/master/object_detection_for_image_cropping/multitaxa/multitaxa_preprocessing.ipynb), before they are ready to use with the object detection models."
      ]
    },
    {
      "cell_type": "code",
      "metadata": {
        "id": "NVLY-E_tsqFy",
        "colab_type": "code",
        "colab": {}
      },
      "source": [
        "# Mount google drive to import/export files\n",
        "from google.colab import drive\n",
        "drive.mount('/content/drive', force_remount=True)"
      ],
      "execution_count": 0,
      "outputs": []
    },
    {
      "cell_type": "markdown",
      "metadata": {
        "id": "uh7717QMJfgM",
        "colab_type": "text"
      },
      "source": [
        "Run for each taxon (Coleoptera, Anura, Squamata and Carnivora), change names where you see '# TO-DO'"
      ]
    },
    {
      "cell_type": "code",
      "metadata": {
        "id": "_xmqBM3Esyua",
        "colab_type": "code",
        "colab": {}
      },
      "source": [
        "import pandas as pd\n",
        "import numpy as np\n",
        "\n",
        "# Read in EOL user-generated cropping data\n",
        "# TO-DO: Change to anura, coleoptera, squamata, and carnivora _crops.tsv\n",
        "crops = pd.read_csv('drive/My Drive/fall19_smithsonian_informatics/train/carnivora_crops.tsv', sep=\"\\t\", header=0)\n",
        "print(crops.head())\n",
        "\n",
        "# Randomly select 80% of data to use for training\n",
        "# set seed with random_state=2 for reproducible results\n",
        "idx = crops.sample(frac = 0.8, random_state=2).index\n",
        "train = crops.iloc[idx]\n",
        "print(train.head())\n",
        "\n",
        "# Select the remaining 20% of data for testing using the inverse index from above\n",
        "test = crops.iloc[crops.index.difference(idx)]\n",
        "print(test.head())\n",
        "\n",
        "# Write test and train to tsvs \n",
        "# TO-DO: Change to anura, coleoptera, squamata, and carnivora _crops.tsv _crops_train.tsv and  _crops_test.tsv\n",
        "train.to_csv('drive/My Drive/fall19_smithsonian_informatics/train/carnivora_crops_train.tsv', sep='\\t', header=True, index=False)\n",
        "test.to_csv('drive/My Drive/fall19_smithsonian_informatics/train/carnivora_crops_test.tsv', sep='\\t', header=True, index=False)"
      ],
      "execution_count": 0,
      "outputs": []
    }
  ]
}