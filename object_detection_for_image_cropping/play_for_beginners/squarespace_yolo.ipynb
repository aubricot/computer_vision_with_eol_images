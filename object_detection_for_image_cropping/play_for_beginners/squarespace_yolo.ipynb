{
  "nbformat": 4,
  "nbformat_minor": 0,
  "metadata": {
    "kernelspec": {
      "name": "python3",
      "display_name": "Python 3"
    },
    "language_info": {
      "codemirror_mode": {
        "name": "ipython",
        "version": 3
      },
      "file_extension": ".py",
      "mimetype": "text/x-python",
      "name": "python",
      "nbconvert_exporter": "python",
      "pygments_lexer": "ipython3",
      "version": "3.6.8"
    },
    "colab": {
      "name": "squarespace_yolo.ipynb",
      "provenance": [],
      "collapsed_sections": [],
      "toc_visible": true,
      "include_colab_link": true
    },
    "accelerator": "GPU"
  },
  "cells": [
    {
      "cell_type": "markdown",
      "metadata": {
        "id": "view-in-github",
        "colab_type": "text"
      },
      "source": [
        "<a href=\"https://colab.research.google.com/github/aubricot/computer_vision_with_eol_images/blob/master/object_detection_for_image_cropping/play_for_beginners/squarespace_yolo.ipynb\" target=\"_parent\"><img src=\"https://colab.research.google.com/assets/colab-badge.svg\" alt=\"Open In Colab\"/></a>"
      ]
    },
    {
      "cell_type": "markdown",
      "metadata": {
        "id": "4Rnwb_rgmJZB",
        "colab_type": "text"
      },
      "source": [
        "# Try computer vision yourself in under 5 mintes!\n",
        "#### Upload your own image and see what objects a computer vision model can find in it\n",
        "---\n",
        "*Last Updated 18 May 2020*   \n",
        "Computer vision is a field of machine learning where computers are trained to recognize and identify patterns from images. Nowadays, computer vision is so common that many smartphones use it to sort the image gallery into categories like holidays, pets or even recognize friends faces. You can try using the search feature in your phone's image gallery to see what classes of objects your phone knows!\n",
        "\n",
        "Here, we use a pre-trained \"lightweight\" model known for its speed that's still relatively accurate, [YOLOv2 in Darkflow](https://github.com/thtrieu/darkflow) (the Tensorflow implementation of YOLO in Darknet) to detect 80 classes of everyday objecs and animals, including bird, cat, airplane, bottle, tv and more.\n",
        "\n",
        "Notes: This notebook runs entirely in Google Colab and doesn't require any software installations or downloads to your local machine. It is best to run this demo on a computer instead of a phone."
      ]
    },
    {
      "cell_type": "markdown",
      "metadata": {
        "id": "iJz5m4BKmJZD",
        "colab_type": "text"
      },
      "source": [
        "## Installs\n",
        "---\n",
        "Run this code block by dragging your mouse over the brackets to the left of line 1 and press the \"play\" button. It takes about 1-2 minutes to run and you will see some text being output beneath the block. After it is finished, scroll down to **Model Preparation**."
      ]
    },
    {
      "cell_type": "code",
      "metadata": {
        "id": "QW2sYEc47x5A",
        "colab_type": "code",
        "colab": {}
      },
      "source": [
        "# Install required libraries\n",
        "!pip install tensorflow-gpu==1.15.0rc2\n",
        "!pip install imageio\n",
        "\n",
        "# Download and build darkflow (the tensorflow implementation of YOLO)\n",
        "import os\n",
        "import pathlib\n",
        "\n",
        "if \"darkflow-master\" in pathlib.Path.cwd().parts:\n",
        "  while \"darkflow-master\" in pathlib.Path.cwd().parts:\n",
        "    os.chdir('..')\n",
        "elif not pathlib.Path(\"darkflow-master\").exists():\n",
        "  !git clone --depth 1 https://github.com/thtrieu/darkflow.git\n",
        "  # Compile darkflow\n",
        "  %cd darkflow\n",
        "  !python setup.py build_ext --inplace\n",
        "  # Change darkflow to darkflow-master to distinguish between folder names\n",
        "  %cd ../\n",
        "  !mv darkflow darkflow-master\n",
        "  %cd darkflow-master\n",
        "\n",
        "# Upload yolo.weights, pre-trained weights file (for YOLO v2) from an external Google drive \n",
        "weights = 'yolo'\n",
        "weights_file = weights + '.weights'\n",
        "if not os.path.exists('weights_file'):\n",
        "  !gdown --id 0B1tW_VtY7oniTnBYYWdqSHNGSUU\n",
        "  !mkdir bin\n",
        "  !mv yolo.weights bin\n",
        "\n",
        "# Imports\n",
        "%cd darkflow-master\n",
        "%tensorflow_version 1.15.0rc2\n",
        "\n",
        "# For importing/exporting files, working with arrays, etc\n",
        "import time\n",
        "import urllib\n",
        "import numpy as np\n",
        "import pandas as pd\n",
        "import imageio\n",
        "\n",
        "# For actual object detection\n",
        "import tensorflow as tf\n",
        "from darkflow.net.build import TFNet\n",
        "threshold = 0.25\n",
        "\n",
        "# For drawing onto and plotting images\n",
        "import matplotlib.pyplot as plt\n",
        "import cv2\n",
        "%config InlineBackend.figure_format = 'svg'"
      ],
      "execution_count": 0,
      "outputs": []
    },
    {
      "cell_type": "markdown",
      "metadata": {
        "id": "X2fF0fSxmJZR",
        "colab_type": "text"
      },
      "source": [
        "### Model Preparation\n",
        "---   \n",
        "Drag your mouse over the brackets to the left of line 1 and press the \"play\" button on the right. This step takes ~30 seconds. After it is finished, scroll down to **Object Detection - Find out what objects YOLO can see in your image!**"
      ]
    },
    {
      "cell_type": "code",
      "metadata": {
        "id": "R2wnfMcDmJZS",
        "colab_type": "code",
        "colab": {}
      },
      "source": [
        "# For uploading an image from url\n",
        "# Modified from https://www.pyimagesearch.com/2015/03/02/convert-url-to-image-with-python-and-opencv/\n",
        "def url_to_image(url):\n",
        "  resp = urllib.request.urlopen(url)\n",
        "  image = np.asarray(bytearray(resp.read()), dtype=\"uint8\")\n",
        "  image = cv2.imdecode(image, cv2.IMREAD_COLOR)\n",
        "  image = cv2.cvtColor(image, cv2.COLOR_BGR2RGB)\n",
        "  return image\n",
        "\n",
        "# Define parameters for feeding images through the model\n",
        "# Can change detection confidence threshold here\n",
        "params = {\n",
        "    'model': 'cfg/yolo.cfg',\n",
        "    'load': 'bin/yolo.weights',\n",
        "    'threshold': threshold, \n",
        "    'gpu': 1.0\n",
        "}\n",
        "\n",
        "# Run the model\n",
        "tfnet = TFNet(params)\n",
        "\n",
        "# For drawing bounding boxes around detected objects on image\n",
        "def boxing(image, predictions):\n",
        "    newImage = np.copy(image)\n",
        "    im_height, im_width, im_depth = image.shape  \n",
        "    global labels\n",
        "    labels = []\n",
        "    for result in predictions:\n",
        "      # Only show boxes that are above confidence threshold\n",
        "      confidence = result['confidence']\n",
        "      if confidence > threshold:\n",
        "        xmin = result['topleft']['x']\n",
        "        ymin = result['topleft']['y']\n",
        "        xmax = result['bottomright']['x']\n",
        "        ymax = result['bottomright']['y']\n",
        "        #global label\n",
        "        label = result['label'] + \" \" + str(round(confidence, 2))\n",
        "        labels.append(label)\n",
        "        # Draw boxes on image\n",
        "        fontScale = max(im_width,im_height)/500\n",
        "        fontThickness = int(max(im_width,im_height)/200)\n",
        "        newImage = cv2.rectangle(newImage, (xmin, ymax), (xmax, ymin), (255, 0, 157), 3)\n",
        "        newImage = cv2.putText(newImage, label, (xmin, ymax-5), cv2.FONT_HERSHEY_SIMPLEX, fontScale, (0, 0, 0), fontThickness*2, cv2.LINE_AA) \n",
        "        newImage = cv2.putText(newImage, label, (xmin, ymax-5), cv2.FONT_HERSHEY_SIMPLEX, fontScale, (255, 255, 255), fontThickness, cv2.LINE_AA)  \n",
        "    return newImage"
      ],
      "execution_count": 0,
      "outputs": []
    },
    {
      "cell_type": "markdown",
      "metadata": {
        "colab_type": "text",
        "id": "1zL-PctVuqZv"
      },
      "source": [
        "## Object Detection - Find out what objects YOLO can see in your image\n",
        "---\n",
        "You can either **A) Load an image in by URL** or **B) Load an image in from file**. "
      ]
    },
    {
      "cell_type": "markdown",
      "metadata": {
        "id": "7gd4TbiOEXff",
        "colab_type": "text"
      },
      "source": [
        "**A) Load in individual image by URL**   \n",
        "Read in any image from a URL and see what objects YOLO can find!   \n",
        "1. To get an image from a url:  \n",
        "* For images from [CCSearch](https://ccsearch.creativecommons.org/), click the image you want. Next, right click the image and select \"open image in new tab.\"  \n",
        "* For images from [Google Images](https://images.google.com/), right click the image you want and select \"open image in new tab.\"\n",
        "2. Copy the url and paste it within the quotes on line 2 in the code block below.\n",
        "3. Drag your mouse over the brackets to the left of line 1 and press the \"play\" button on the right.\n",
        "4. Optional: Adjust the detection confidence threshold on line 6 and press \"play\" again to display modified results."
      ]
    },
    {
      "cell_type": "code",
      "metadata": {
        "id": "qNsodQP3t_o5",
        "colab_type": "code",
        "colab": {}
      },
      "source": [
        "# Insert your URL here\n",
        "url = \"https://farm2.staticflickr.com/1238/709521497_2122cdde9e_b.jpg\"\n",
        "\n",
        "# Set confidence threshold for detection\n",
        "# Optional: You can adjust this value (0-1) to see more or less detected objects in the image\n",
        "threshold = 0.25\n",
        "\n",
        "# Read in image from URL\n",
        "image = url_to_image(url)\n",
        "\n",
        "# Use YOLO for object detection  \n",
        "# Record inference time\n",
        "start_time = time.time()\n",
        "result = tfnet.return_predict(image)\n",
        "end_time = time.time()\n",
        "\n",
        "# Plot and show detection boxes on images\n",
        "_, ax = plt.subplots(figsize=(10, 10))\n",
        "ax.imshow(boxing(image, result))\n",
        "# Add titles to plot\n",
        "if result and labels:\n",
        "  plt.title('Wow, I found some cool stuff in {} seconds!'.format(format(end_time-start_time, '.2f')))\n",
        "else:\n",
        "  plt.title(\"I didn't find anything in the picture :(\")"
      ],
      "execution_count": 0,
      "outputs": []
    },
    {
      "cell_type": "markdown",
      "metadata": {
        "id": "mkNIUT8kDJrx",
        "colab_type": "text"
      },
      "source": [
        "**B) Load in individual image by file**   \n",
        "Read in any image from file and see what objects YOLO can find!  \n",
        "To get an image from file:  \n",
        "1. Click the folder icon in the left side panel. \n",
        "2. Click \"Upload\"\n",
        "3. Select any image from your computer to upload. \n",
        "4. Copy your image filename within the quotes on line 3 in the code block below.  \n",
        "5. Drag your mouse over the brackets to the left of line 1 and press the \"play\" button on the right.\n",
        "6. Optional: Adjust the detection confidence threshold on line 7 and press \"play\" again to display modified results."
      ]
    },
    {
      "cell_type": "code",
      "metadata": {
        "id": "tsUS-2fUrSdy",
        "colab_type": "code",
        "colab": {}
      },
      "source": [
        "# Insert your filename at line 3\n",
        "inpath = '/content/'\n",
        "filename = '[yourfilenamehere].jpg'\n",
        "\n",
        "# Set confidence threshold for detection\n",
        "# Optional: You can adjust this value (0-1) to see more or less detected objects in the image\n",
        "threshold = 0.25\n",
        "\n",
        "# Read in image from file\n",
        "fpath = inpath + filename\n",
        "image = imageio.imread(fpath, pilmode='RGB')\n",
        "\n",
        "# Use YOLO for object detection  \n",
        "# Record inference time\n",
        "start_time = time.time()\n",
        "result = tfnet.return_predict(image)\n",
        "end_time = time.time()\n",
        "\n",
        "# Plot and show detection boxes on images\n",
        "_, ax = plt.subplots(figsize=(10, 10))\n",
        "ax.imshow(boxing(image, result))\n",
        "# Add titles to plot\n",
        "if result and labels:\n",
        "  plt.title('Wow, I found some cool stuff in {} seconds!'.format(format(end_time-start_time, '.2f')))\n",
        "else:\n",
        "  plt.title(\"I didn't find anything in the picture :(\")"
      ],
      "execution_count": 0,
      "outputs": []
    }
  ]
}