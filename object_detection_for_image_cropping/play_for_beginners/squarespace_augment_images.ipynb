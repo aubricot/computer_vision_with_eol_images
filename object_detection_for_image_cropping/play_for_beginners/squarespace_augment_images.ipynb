{
  "nbformat": 4,
  "nbformat_minor": 0,
  "metadata": {
    "kernelspec": {
      "name": "python3",
      "display_name": "Python 3"
    },
    "language_info": {
      "codemirror_mode": {
        "name": "ipython",
        "version": 3
      },
      "file_extension": ".py",
      "mimetype": "text/x-python",
      "name": "python",
      "nbconvert_exporter": "python",
      "pygments_lexer": "ipython3",
      "version": "3.6.8"
    },
    "colab": {
      "name": "squarespace_augment_images.ipynb",
      "provenance": [],
      "private_outputs": true,
      "collapsed_sections": [],
      "include_colab_link": true
    }
  },
  "cells": [
    {
      "cell_type": "markdown",
      "metadata": {
        "id": "view-in-github",
        "colab_type": "text"
      },
      "source": [
        "<a href=\"https://colab.research.google.com/github/aubricot/computer_vision_with_eol_images/blob/master/object_detection_for_image_cropping/play_for_beginners/squarespace_augment_images.ipynb\" target=\"_parent\"><img src=\"https://colab.research.google.com/assets/colab-badge.svg\" alt=\"Open In Colab\"/></a>"
      ]
    },
    {
      "cell_type": "markdown",
      "metadata": {
        "id": "4Rnwb_rgmJZB",
        "colab_type": "text"
      },
      "source": [
        "# Play with automated image augmentation in under 5 minutes\n",
        "---\n",
        "*Last Updated 22 May 2020*   \n",
        "\n",
        "Image augmentation is a technique used to increase image dataset size and diversity used for training computer vision models. It reduces overfitting and increases the ability of a model to generalize to broader datasets. \n",
        "\n",
        "Play with image augmentation using your own image and the [imgaug library](https://github.com/aleju/imgaug). You'll be able to automatically rotate, flip, adjust hue/saturation, blur, rotate and crop the image using math and computer programming without any image processing software!"
      ]
    },
    {
      "cell_type": "markdown",
      "metadata": {
        "id": "iJz5m4BKmJZD",
        "colab_type": "text"
      },
      "source": [
        "## Installs\n",
        "---\n",
        "Run this code block by dragging your mouse over the brackets to the left of line 1 and press the \"play\" button. It takes about 30 seconds to run and you will see some text being output beneath the block. After it is finished, scroll down to **Image Augmentation**."
      ]
    },
    {
      "cell_type": "code",
      "metadata": {
        "id": "01UXykSJp610",
        "colab_type": "code",
        "colab": {}
      },
      "source": [
        "# Install libraries for augmenting and displaying images\n",
        "!pip install imgaug\n",
        "!pip install pillow\n",
        "\n",
        "# For importing/exporting files, working with arrays, etc\n",
        "import time\n",
        "import urllib\n",
        "import numpy as np\n",
        "import pandas as pd\n",
        "import imageio\n",
        "\n",
        "# For drawing onto and plotting the images\n",
        "import matplotlib.pyplot as plt\n",
        "import cv2\n",
        "%config InlineBackend.figure_format = 'svg'\n",
        "%matplotlib inline\n",
        "\n",
        "# For uploading an image from url\n",
        "# Modified from https://www.pyimagesearch.com/2015/03/02/convert-url-to-image-with-python-and-opencv/\n",
        "def url_to_image(url):\n",
        "  resp = urllib.request.urlopen(url)\n",
        "  image = np.asarray(bytearray(resp.read()), dtype=\"uint8\")\n",
        "  image = cv2.imdecode(image, cv2.IMREAD_COLOR)\n",
        "  image = cv2.cvtColor(image, cv2.COLOR_BGR2RGB)\n",
        "  return image\n",
        "\n",
        "# For augmenting the images and bounding boxes\n",
        "import imgaug as ia\n",
        "import imgaug.augmenters as iaa\n",
        "from imgaug.augmentables.bbs import BoundingBox, BoundingBoxesOnImage\n",
        "\n",
        "# Set-up augmentation parameters \n",
        "from imgaug import augmenters as iaa\n",
        "# Set number of seconds to timeout if image url taking too long to open\n",
        "import socket\n",
        "socket.setdefaulttimeout(10)\n",
        "\n",
        "# Define image augmentation pipeline\n",
        "# Modified from https://github.com/aleju/imgaug\n",
        "# Optional: Adjust augmentation parameters in rows 42-47\n",
        "seq = iaa.Sequential([\n",
        "    iaa.Crop(px=(10, 30), keep_size=False), # crop by 10-30px, resize resulting image to orig dims\n",
        "    iaa.Affine(rotate=(-50, 50)), # rotate -50 to 50 degrees\n",
        "    iaa.Fliplr(0.5), # flip 50% of images horizontally\n",
        "    iaa.Flipud(0.5), # flip 50% of images vertically\n",
        "    iaa.GaussianBlur(sigma=(0, 4.0)), # blur using gaussian kernel with sigma of 0-4\n",
        "    iaa.AddToHueAndSaturation((-100, 100), per_channel=True) # add or subtract values from HSV\n",
        "])"
      ],
      "execution_count": 0,
      "outputs": []
    },
    {
      "cell_type": "markdown",
      "metadata": {
        "id": "KfUwc1BYO8bK",
        "colab_type": "text"
      },
      "source": [
        "## Image Augmentation - Play with random automated image processing techniques for your image\n",
        "---\n",
        "You can either **A) Load an image in by URL** or **B) Load an image in from file**. "
      ]
    },
    {
      "cell_type": "markdown",
      "metadata": {
        "id": "1lMvu5M0oUrY",
        "colab_type": "text"
      },
      "source": [
        "**A) Load in individual image by URL**   \n",
        "Read in any image from a URL and see the results of random image augmentation techniques!   \n",
        "1. To get an image from a url:  \n",
        "* For images from [CCSearch](https://ccsearch.creativecommons.org/), click the image you want. Next, right click the image and select \"open image in new tab.\"  \n",
        "* For images from [Google Images](https://images.google.com/), right click the image you want and select \"open image in new tab.\"\n",
        "2. Copy the url and paste it within the quotes on line 2 in the code block below.\n",
        "3. Drag your mouse over the brackets to the left of line 1 and press the \"play\" button on the right.\n",
        "4. Optional: Adjust augmentation parameters in **Installs** rows 42-47."
      ]
    },
    {
      "cell_type": "code",
      "metadata": {
        "colab_type": "code",
        "id": "P31JjHddVSEm",
        "colab": {}
      },
      "source": [
        "# Insert your URL here\n",
        "url = \"https://extension.msstate.edu/sites/default/files/newsletter-images/bug%E2%80%99s-eye-view/unnamed(2).jpg\"\n",
        "\n",
        "# Augment train images and bounding boxes\n",
        "try:\n",
        "  # Read in image from URL\n",
        "  img = url_to_image(url)\n",
        "\n",
        "  # Augment image using settings defined above in seq\n",
        "  augimgs = [seq.augment(image=img) for x in range(6)]\n",
        "\n",
        "  # Display augmented image\n",
        "  nrows, ncols = 2, 3\n",
        "  fig, ax = plt.subplots(nrows=nrows, ncols=ncols, figsize=(10,10))\n",
        "  ax[0][0].imshow(img)\n",
        "  ax[0][0].set_title(\"Original Image\")\n",
        "  # plot simple raster image on each sub-plot\n",
        "  for i, axi in list(enumerate(ax.flat))[1:]:\n",
        "    # i runs from 0 to (nrows*ncols-1)\n",
        "    # axi is equivalent with ax[rowid][colid]\n",
        "    axi.imshow(augimgs[i])\n",
        "    # get indices of row/column\n",
        "    rowid = i // ncols\n",
        "    colid = i % ncols\n",
        "    # write row/col indices as axes' title for identification\n",
        "    axi.set_title(\"Augmented Version \"+str(i))\n",
        "  plt.tight_layout(True)\n",
        "  plt.show()\n",
        "        \n",
        "  # Display message to track augmentation process by image\n",
        "  print('Successfully augmented image from {}'.format(url))\n",
        "  \n",
        "except:\n",
        "  print('Error: check if web address for image from {} is valid'.format(url))"
      ],
      "execution_count": 0,
      "outputs": []
    },
    {
      "cell_type": "markdown",
      "metadata": {
        "id": "tBOed2nqNhNx",
        "colab_type": "text"
      },
      "source": [
        "**B) Load in individual image by file**   \n",
        "Read in any image from file and play with automated image augmentation techniques!  \n",
        "To get an image from file:  \n",
        "1. Click the folder icon in the left side panel. \n",
        "2. Click \"Upload\"\n",
        "3. Select any image from your computer to upload. \n",
        "4. Copy your image filename within the quotes on line 3 in the code block below.  \n",
        "5. Drag your mouse over the brackets to the left of line 1 and press the \"play\" button on the right.\n",
        "6. Optional: Adjust augmentation parameters in **Installs** rows 42-47."
      ]
    },
    {
      "cell_type": "code",
      "metadata": {
        "id": "Jpc51_vsMaLY",
        "colab_type": "code",
        "colab": {}
      },
      "source": [
        "# Insert your filename at line 3\n",
        "inpath = '/content/'\n",
        "filename = '[yourfilenamehere].jpg'\n",
        "\n",
        "# Augment train images and bounding boxes\n",
        "# Read in image from file\n",
        "fpath = inpath + filename\n",
        "img = imageio.imread(fpath, pilmode='RGB')\n",
        "\n",
        "# Augment image using settings defined above in seq\n",
        "augimgs = [seq.augment(image=img) for x in range(6)]\n",
        "\n",
        "# Display augmented image\n",
        "nrows, ncols = 2, 3\n",
        "fig, ax = plt.subplots(nrows=nrows, ncols=ncols, figsize=(10,10))\n",
        "ax[0][0].imshow(img)\n",
        "ax[0][0].set_title(\"Original Image\")\n",
        "# plot simple raster image on each sub-plot\n",
        "for i, axi in list(enumerate(ax.flat))[1:]:\n",
        "  # i runs from 0 to (nrows*ncols-1)\n",
        "  # axi is equivalent with ax[rowid][colid]\n",
        "  axi.imshow(augimgs[i])\n",
        "  # get indices of row/column\n",
        "  rowid = i // ncols\n",
        "  colid = i % ncols\n",
        "  # write row/col indices as axes' title for identification\n",
        "  axi.set_title(\"Augmented Version \"+str(i))\n",
        "plt.tight_layout(True)\n",
        "plt.show()\n",
        "        \n",
        "# Display message to track augmentation process by image\n",
        "print('Successfully augmented image from {}'.format(filename))"
      ],
      "execution_count": 0,
      "outputs": []
    }
  ]
}