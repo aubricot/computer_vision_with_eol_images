{
  "nbformat": 4,
  "nbformat_minor": 0,
  "metadata": {
    "colab": {
      "name": "coordinates_display_test.ipynb",
      "provenance": [],
      "collapsed_sections": [
        "Wfh8n7Utjlc_"
      ],
      "toc_visible": true,
      "include_colab_link": true
    },
    "kernelspec": {
      "name": "python3",
      "display_name": "Python 3"
    }
  },
  "cells": [
    {
      "cell_type": "markdown",
      "metadata": {
        "id": "view-in-github",
        "colab_type": "text"
      },
      "source": [
        "<a href=\"https://colab.research.google.com/github/aubricot/computer_vision_with_eol_images/blob/master/object_detection_for_image_cropping/coordinates_display_test.ipynb\" target=\"_parent\"><img src=\"https://colab.research.google.com/assets/colab-badge.svg\" alt=\"Open In Colab\"/></a>"
      ]
    },
    {
      "cell_type": "markdown",
      "metadata": {
        "id": "KDF3pvUbR79-"
      },
      "source": [
        "# Display box coordinates resulting from object detection or image augmentation on images\n",
        "---\n",
        "*Last Updated 1 June 2021*   \n",
        "Use this notebook to verify the coordinates resulting from either object detection or image augmentation. \n",
        "\n",
        "__Coordinates from object detection__: Bounding boxes resulting from object detection were exported from [taxon]_generate_crops_yolo.ipynb or [taxon]_generate_crops_tf2.ipynb. Crop coordinates were exported to [taxon]_crops_[yolo or tf2]_1000img_display_test.tsv.\n",
        "\n",
        "__Coordinates from pre-processing and augmentation__: Bounding boxes resulting from pre-processing and augmentation of EOL user-generated cropping coordinates and images were tidied and exported from [taxon]_preprocessing.ipynb to [taxon]_crops_train_aug_fin.tsv and [taxon]_crops_test_notaug_fin.tsv. If results aren't as expected, data reformatting and tidying steps in [taxon]_preprocessing.ipynb file can be adjusted and results re-displayed accordingly."
      ]
    },
    {
      "cell_type": "markdown",
      "metadata": {
        "id": "gB46XHAgR0rZ"
      },
      "source": [
        "## Installs & Imports\n",
        "---\n"
      ]
    },
    {
      "cell_type": "code",
      "metadata": {
        "id": "0eil6qUvOFbi"
      },
      "source": [
        "# Mount Google Drive to import your file containing coordinates (object detection bounding boxes, cropping coordinates, etc.)\n",
        "from google.colab import drive\n",
        "drive.mount('/content/drive', force_remount=True)"
      ],
      "execution_count": null,
      "outputs": []
    },
    {
      "cell_type": "code",
      "metadata": {
        "id": "Ei41bcPX_Uw0"
      },
      "source": [
        "# For importing data and images\n",
        "import os\n",
        "import numpy as np \n",
        "import pandas as pd\n",
        "import urllib\n",
        "from urllib.request import urlretrieve\n",
        "from six.moves.urllib.request import urlopen\n",
        "from six import BytesIO\n",
        "from collections import defaultdict\n",
        "from io import StringIO\n",
        "from IPython.display import display\n",
        "\n",
        "# For drawing on and displaying images\n",
        "from PIL import Image\n",
        "from PIL import ImageColor\n",
        "from PIL import ImageDraw\n",
        "from PIL import ImageFont\n",
        "from PIL import ImageOps\n",
        "import cv2\n",
        "import matplotlib.pyplot as plt\n",
        "%config InlineBackend.figure_format = 'svg'\n",
        "\n",
        "# For saving images\n",
        "# Un-comment out if running \"Save crop dimensions displayed on images to Google Drive\" below\n",
        "!pip install scipy==1.1.0\n",
        "import scipy\n",
        "from scipy import misc"
      ],
      "execution_count": null,
      "outputs": []
    },
    {
      "cell_type": "markdown",
      "metadata": {
        "id": "i6CADy0ShfMy"
      },
      "source": [
        "## Display crop dimensions on images\n",
        "---"
      ]
    },
    {
      "cell_type": "code",
      "metadata": {
        "id": "brfp9BGV_Ro1"
      },
      "source": [
        "# Define functions\n",
        "\n",
        "# Read in data file exported from \"Combine output files A-D\" block above\n",
        "def read_datafile(fpath, sep=\"\\t\", header=0, disp_head=True):\n",
        "    \"\"\"\n",
        "    Defaults to tab-separated data files with header in row 0\n",
        "    \"\"\"\n",
        "    try:\n",
        "        df = pd.read_csv(fpath, sep=sep, header=header)\n",
        "        if disp_head:\n",
        "          print(\"Data header: \\n\", df.head())\n",
        "    except FileNotFoundError as e:\n",
        "        raise Exception(\"File not found: Enter the path to your file in form field and re-run\").with_traceback(e.__traceback__)\n",
        "    \n",
        "    return df\n",
        "\n",
        "# Draw cropping box on image\n",
        "def draw_box_on_image(df, img):\n",
        "    # Get box coordinates\n",
        "    xmin = df['xmin'][i].astype(int)\n",
        "    ymin = df['ymin'][i].astype(int)\n",
        "    xmax = df['xmin'][i].astype(int) + df['crop_width'][i].astype(int)\n",
        "    ymax = df['ymin'][i].astype(int) + df['crop_height'][i].astype(int)\n",
        "    boxcoords = [xmin, ymin, xmax, ymax]\n",
        "\n",
        "    # Set box/font color and size\n",
        "    maxdim = max(df['im_height'][i],df['im_width'][i])\n",
        "    fontScale = maxdim/600\n",
        "    box_col = (255, 0, 157)\n",
        "  \n",
        "    # Add label to image\n",
        "    tag = df['class_name'][i]\n",
        "    image_wbox = cv2.putText(img, tag, (xmin+7, ymax-12), cv2.FONT_HERSHEY_SIMPLEX, fontScale, box_col, 2, cv2.LINE_AA)  \n",
        "  \n",
        "    # Draw box label on image\n",
        "    image_wbox = cv2.rectangle(img, (xmin, ymax), (xmax, ymin), box_col, 5)\n",
        "\n",
        "    return image_wbox, boxcoords\n",
        "\n",
        "# For uploading an image from url\n",
        "# Modified from https://www.pyimagesearch.com/2015/03/02/convert-url-to-image-with-python-and-opencv/\n",
        "def url_to_image(url):\n",
        "    resp = urllib.request.urlopen(url)\n",
        "    image = np.asarray(bytearray(resp.read()), dtype=\"uint8\")\n",
        "    image = cv2.imdecode(image, cv2.IMREAD_COLOR)\n",
        "    image = cv2.cvtColor(image, cv2.COLOR_BGR2RGB)\n",
        "    im_h, im_w = image.shape[:2]\n",
        "  \n",
        "    return image"
      ],
      "execution_count": null,
      "outputs": []
    },
    {
      "cell_type": "code",
      "metadata": {
        "id": "NMyK85W4O5d7"
      },
      "source": [
        "# Display crop dimensions on images\n",
        "\n",
        "# Import your file with cropping coordinates\n",
        "# TO DO: Enter filepath in form field\n",
        "fpath = \"/content/drive/MyDrive/train/tf2/results/chiroptera_cropcoords_tf2_rcnn_concat_displaytest.tsv\" #@param {type:\"string\"}\n",
        "df = read_datafile(fpath)\n",
        "\n",
        "# TO DO: Choose start index in cropping dataframe\n",
        "start = 0 #@param {type:\"integer\"}\n",
        "# TO DO: Choose how many images to display coords on (max. 50)\n",
        "num_images = 5 #@param {type:\"slider\", min:0, max:50, step:5}\n",
        "stop =  start + num_images\n",
        "\n",
        "# Display cropping dimensions on images\n",
        "print(\"\\nDisplaying cropping coordinates on images: \\n\")\n",
        "for i, row in df.iloc[start:stop].iterrows():\n",
        "    # Read in image \n",
        "    url = df['eolMediaURL'][i]\n",
        "    img = url_to_image(url)\n",
        "  \n",
        "    # Draw bounding box on image\n",
        "    image_wbox, boxcoords = draw_box_on_image(df, img)\n",
        "  \n",
        "    # Plot cropping box on image\n",
        "    _, ax = plt.subplots(figsize=(10, 10))\n",
        "    ax.imshow(image_wbox)\n",
        "\n",
        "    # Display image URL and coordinates above image\n",
        "    # Helps with fine-tuning data transforms in post-processing steps above\n",
        "    plt.title('{}) {} \\n xmin: {}, ymin: {}, xmax: {}, ymax: {}'.format(i+1, url, boxcoords[0], boxcoords[1], boxcoords[2], boxcoords[3]))"
      ],
      "execution_count": null,
      "outputs": []
    },
    {
      "cell_type": "markdown",
      "metadata": {
        "id": "Wfh8n7Utjlc_"
      },
      "source": [
        "## Save crop dimensions displayed on images to Google Drive\n",
        "---\n",
        "Useful if want to share results with someone remotely. Saves images with detection boxes to Google Drive."
      ]
    },
    {
      "cell_type": "code",
      "metadata": {
        "id": "8IhLvxHhjnEy"
      },
      "source": [
        "# Display crop dimensions on images & save results\n",
        "\n",
        "# Import your file with cropping coordinates\n",
        "# TO DO: Enter filepath in form field\n",
        "fpath = \"/content/drive/MyDrive/train/tf2/results/chiroptera_cropcoords_tf2_rcnn_concat_displaytest.tsv\" #@param {type:\"string\"}\n",
        "df = read_datafile(fpath)\n",
        "\n",
        "# Path to folder for exporting images with bounding boxes\n",
        "# TO DO: Enter path to where you want images saved to in form field\n",
        "pathbase = \"/content/drive/MyDrive/train/tf2/out/\" #@param {type:\"string\"}\n",
        "\n",
        "# TO DO: Choose start index in cropping dataframe\n",
        "start = 0 #@param {type:\"integer\"}\n",
        "\n",
        "# TO DO: Choose how many images to display coords on (max. 50)\n",
        "num_images = 5 #@param {type:\"slider\", min:0, max:50, step:5}\n",
        "stop =  start + num_images\n",
        "\n",
        "# Display cropping dimensions on images\n",
        "print(\"\\nDisplaying cropping coordinates on images: \\n\")\n",
        "for i, row in df.iloc[start:stop].iterrows():\n",
        "    # Make output path\n",
        "    path = pathbase + str(df.dataObjectVersionID[i]) + '.jpg'\n",
        "\n",
        "    # Read in image \n",
        "    url = df['eolMediaURL'][i]\n",
        "    img = url_to_image(url)\n",
        "  \n",
        "    # Draw bounding box on image\n",
        "    image_wbox, boxcoords = draw_box_on_image(df, img)\n",
        "  \n",
        "    # Plot cropping box on image\n",
        "    _, ax = plt.subplots(figsize=(10, 10))\n",
        "    ax.imshow(image_wbox)\n",
        "\n",
        "    # Display image URL and coordinates above image\n",
        "    # Helps with fine-tuning data transforms in post-processing steps above\n",
        "    plt.title('{}) Image from: {} \\n Saved to: {}'.format(i+1, url, path))\n",
        "\n",
        "    # Export image to Google Drive\n",
        "    misc.imsave(path, image_wbox)"
      ],
      "execution_count": null,
      "outputs": []
    }
  ]
}