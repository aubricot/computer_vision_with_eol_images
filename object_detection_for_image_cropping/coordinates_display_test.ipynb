{
  "nbformat": 4,
  "nbformat_minor": 0,
  "metadata": {
    "colab": {
      "provenance": [],
      "collapsed_sections": [
        "Wfh8n7Utjlc_"
      ],
      "include_colab_link": true
    },
    "kernelspec": {
      "name": "python3",
      "display_name": "Python 3"
    }
  },
  "cells": [
    {
      "cell_type": "markdown",
      "metadata": {
        "id": "view-in-github",
        "colab_type": "text"
      },
      "source": [
        "<a href=\"https://colab.research.google.com/github/aubricot/computer_vision_with_eol_images/blob/master/object_detection_for_image_cropping/coordinates_display_test.ipynb\" target=\"_parent\"><img src=\"https://colab.research.google.com/assets/colab-badge.svg\" alt=\"Open In Colab\"/></a>"
      ]
    },
    {
      "cell_type": "markdown",
      "metadata": {
        "id": "KDF3pvUbR79-"
      },
      "source": [
        "# Display bounding box coordinates on images\n",
        "---\n",
        "*Last Updated 8 Sep 2025*   \n",
        "Use this notebook to inspect bounding box coordinates from EOL user generated cropping data on images. Optional: Save images with bounding boxes drawn on them."
      ]
    },
    {
      "cell_type": "markdown",
      "metadata": {
        "id": "gB46XHAgR0rZ"
      },
      "source": [
        "## Installs & Imports\n",
        "---\n"
      ]
    },
    {
      "cell_type": "code",
      "source": [
        "# Install dependencies\n",
        "!pip3 install --upgrade gdown\n",
        "!gdown 1PwHemncdldC0dLwkxYZOtH-CTI-2C6ls # Download helper_funcs folder and demo bbox file\n",
        "!tar -xzvf coord_displ_test_helper_funcs.tar.gz -C .\n",
        "from wrangle_data import *\n",
        "\n",
        "# For importing data and images\n",
        "import os\n",
        "import numpy as np\n",
        "import pandas as pd\n",
        "\n",
        "# For drawing on and displaying images\n",
        "import cv2\n",
        "import matplotlib.pyplot as plt\n",
        "%config InlineBackend.figure_format = 'svg'\n",
        "\n",
        "# For saving images\n",
        "!pip install imageio\n",
        "import imageio.v2 as imageio"
      ],
      "metadata": {
        "id": "75r8KEydP1a5"
      },
      "execution_count": null,
      "outputs": []
    },
    {
      "cell_type": "markdown",
      "metadata": {
        "id": "i6CADy0ShfMy"
      },
      "source": [
        "## Display crop dimensions on images\n",
        "---"
      ]
    },
    {
      "cell_type": "code",
      "metadata": {
        "id": "NMyK85W4O5d7"
      },
      "source": [
        "# Display crop dimensions on images\n",
        "\n",
        "# Import your file with cropping coordinates\n",
        "# TO DO: Enter filepath in form field\n",
        "fpath = \"lepidoptera_cropcoords_tf2_rcnn_displaytest.tsv\" #@param {type:\"string\"}\n",
        "df = read_datafile(fpath)\n",
        "\n",
        "# TO DO: Choose start index in cropping dataframe\n",
        "start = 0 #@param {type:\"integer\"}\n",
        "# TO DO: Choose how many images to display coords on (max. 50)\n",
        "num_images = 10 #@param {type:\"slider\", min:0, max:50, step:5}\n",
        "save_images = True  #@param {type:\"boolean\"}\n",
        "\n",
        "stop =  start + num_images\n",
        "\n",
        "# Display cropping dimensions on images\n",
        "print(\"\\nDisplaying cropping coordinates on images: \\n\")\n",
        "for i, row in df.iloc[start:stop].iterrows():\n",
        "    # Read in image\n",
        "    url = df['obj_url'][i]\n",
        "    img = url_to_image(url)\n",
        "    if img is None:\n",
        "        print(f\"Skipping image {url} due to load failure.\")\n",
        "        continue\n",
        "\n",
        "    # Draw bounding box on image\n",
        "    image_wbox, boxcoords = draw_box_on_image(df, img, i)\n",
        "\n",
        "    # Plot cropping box on image\n",
        "    _, ax = plt.subplots(figsize=(10, 10))\n",
        "    ax.imshow(image_wbox)\n",
        "\n",
        "    # Display image URL and coordinates above image\n",
        "    # Helps with fine-tuning data transforms in post-processing steps above\n",
        "    plt.title('{}) {} \\n xmin: {}, ymin: {}, xmax: {}, ymax: {}'.format(i+1, url, boxcoords[0], boxcoords[1], boxcoords[2], boxcoords[3]))\n",
        "\n",
        "    # Save image if box is ticked\n",
        "    if save_images:\n",
        "        image_id = df['data_object_id'][i]\n",
        "        out_path = f\"{image_id}_wbbox.jpg\"\n",
        "        image_bgr = cv2.cvtColor(image_wbox, cv2.COLOR_RGB2BGR)\n",
        "        cv2.imwrite(out_path, image_bgr)\n",
        "        print(f\"Image saved to {out_path}\")"
      ],
      "execution_count": null,
      "outputs": []
    }
  ]
}