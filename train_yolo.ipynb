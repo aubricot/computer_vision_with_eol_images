{
  "nbformat": 4,
  "nbformat_minor": 0,
  "metadata": {
    "kernelspec": {
      "name": "python3",
      "display_name": "Python 3"
    },
    "language_info": {
      "codemirror_mode": {
        "name": "ipython",
        "version": 3
      },
      "file_extension": ".py",
      "mimetype": "text/x-python",
      "name": "python",
      "nbconvert_exporter": "python",
      "pygments_lexer": "ipython3",
      "version": "3.6.8"
    },
    "colab": {
      "name": "training_yolo.ipynb",
      "provenance": [],
      "collapsed_sections": [],
      "toc_visible": true,
      "include_colab_link": true
    },
    "accelerator": "GPU"
  },
  "cells": [
    {
      "cell_type": "markdown",
      "metadata": {
        "id": "view-in-github",
        "colab_type": "text"
      },
      "source": [
        "<a href=\"https://colab.research.google.com/github/aubricot/object_detection_for_image_cropping/blob/master/training_yolo.ipynb\" target=\"_parent\"><img src=\"https://colab.research.google.com/assets/colab-badge.svg\" alt=\"Open In Colab\"/></a>"
      ]
    },
    {
      "cell_type": "markdown",
      "metadata": {
        "id": "4Rnwb_rgmJZB",
        "colab_type": "text"
      },
      "source": [
        "# Training YOLO in Darkflow to detect bats from EOL images\n",
        "---\n",
        "*Last Updated 29 January 2020*   \n",
        "Use images and annotation files to train YOLO in Darkflow to detect bats from EOL images.\n",
        "\n",
        "Datasets exported from [preprocessing.ipynb](https://colab.research.google.com/github/aubricot/object_detection_for_image_cropping/blob/master/preprocessing.ipynb) were converted to xml formatted annotation files before use in this notebook. Images and annotations should be uploaded to Google Drive before using this notebook to train YOLO in Darkflow. \n",
        "\n",
        "For each 24 hour period on Google Colab, you have up to 12 hours of GPU access. Training the object detection model on bats took 30 hours split into 3 days.\n",
        "\n",
        "Make sure to set the runtime to Python 2 with GPU Hardware Accelerator.   \n",
        "\n",
        "References:\n",
        "[Official Darkflow training instructions](https://github.com/thtrieu/darkflow)   \n",
        "[Medium Blog on training using YOLO via Darkflow in Colab](https://medium.com/coinmonks/detecting-custom-objects-in-images-video-using-yolo-with-darkflow-1ff119fa002f)"
      ]
    },
    {
      "cell_type": "markdown",
      "metadata": {
        "id": "iJz5m4BKmJZD",
        "colab_type": "text"
      },
      "source": [
        "## Installs\n",
        "---"
      ]
    },
    {
      "cell_type": "code",
      "metadata": {
        "id": "yWAbU5tW1ONu",
        "colab_type": "code",
        "colab": {}
      },
      "source": [
        "# Mount google drive to import/export files\n",
        "from google.colab import drive\n",
        "drive.mount('/content/drive', force_remount=True)"
      ],
      "execution_count": 0,
      "outputs": []
    },
    {
      "cell_type": "code",
      "metadata": {
        "id": "yj3-JKOsIPtc",
        "colab_type": "code",
        "colab": {}
      },
      "source": [
        "# Change to your working directory\n",
        "%cd drive/My Drive/fall19_smithsonian_informatics/train\n",
        "\n",
        "# Install libraries\n",
        "# Make sure you are using Python 3.6\n",
        "!python --version\n",
        "!pip install tensorflow-gpu==1.15.0rc2\n",
        "!pip install cython\n",
        "!pip install opencv-python"
      ],
      "execution_count": 0,
      "outputs": []
    },
    {
      "cell_type": "code",
      "metadata": {
        "id": "wKYxuyq5Ib_f",
        "colab_type": "code",
        "colab": {}
      },
      "source": [
        "# Download darkflow (the tensorflow implementation of YOLO)\n",
        "import os\n",
        "import pathlib\n",
        "import shutil \n",
        "\n",
        "if os.path.exists(\"darkflow-master\"):\n",
        "  %cd darkflow-master/darkflow\n",
        "  !pwd\n",
        "\n",
        "elif not os.path.exists(\"darkflow-master\"):\n",
        "    !git clone --depth 1 https://github.com/thtrieu/darkflow.git\n",
        "    # Compile darkflow\n",
        "    %cd darkflow\n",
        "    !python setup.py build_ext --inplace\n",
        "    # Rename darkflow to darkflow-master to distinguish between folder names\n",
        "    shutil.move('/content/drive/My Drive/fall19_smithsonian_informatics/train/darkflow', \n",
        "              '/content/drive/My Drive/fall19_smithsonian_informatics/train/darkflow-master')\n",
        "\n",
        "# Change wd to darkflow-master\n",
        "%cd ../"
      ],
      "execution_count": 0,
      "outputs": []
    },
    {
      "cell_type": "code",
      "metadata": {
        "id": "QrRbPubNJBqK",
        "colab_type": "code",
        "colab": {}
      },
      "source": [
        "# Check time remaining in Google Colab session\n",
        "import time, psutil\n",
        "Start = time.time()- psutil.boot_time()\n",
        "Left= 12*3600 - Start\n",
        "print('Time remaining for this session is: {} hours'.format(format(Left/3600, '.2f')))"
      ],
      "execution_count": 0,
      "outputs": []
    },
    {
      "cell_type": "markdown",
      "metadata": {
        "id": "nwKdj73Wpnlz",
        "colab_type": "text"
      },
      "source": [
        "### Imports   \n",
        "---"
      ]
    },
    {
      "cell_type": "code",
      "metadata": {
        "id": "QSLXg6G7mJZP",
        "colab_type": "code",
        "colab": {}
      },
      "source": [
        "%cd darkflow-master\n",
        "\n",
        "# For importing/exporting files, working with arrays, etc\n",
        "from google.colab import files\n",
        "import os\n",
        "import pathlib\n",
        "import imageio\n",
        "import time\n",
        "import csv\n",
        "import urllib\n",
        "import numpy as np\n",
        "import pandas as pd\n",
        "\n",
        "# For the actual object detection\n",
        "from darkflow.net.build import TFNet\n",
        "\n",
        "# For drawing onto and plotting the images\n",
        "import matplotlib.pyplot as plt\n",
        "import cv2\n",
        "%config InlineBackend.figure_format = 'svg'\n",
        "%matplotlib inline"
      ],
      "execution_count": 0,
      "outputs": []
    },
    {
      "cell_type": "markdown",
      "metadata": {
        "id": "X2fF0fSxmJZR",
        "colab_type": "text"
      },
      "source": [
        "### Model Preparation\n",
        "---   \n",
        "For detailed instructions on training YOLO using a custom dataset, see the [Darkflow GitHub Repository](https://github.com/thtrieu/darkflow)."
      ]
    },
    {
      "cell_type": "code",
      "metadata": {
        "id": "7SXQ5bjUzA0u",
        "colab_type": "code",
        "colab": {}
      },
      "source": [
        "# Upload yolo.weights, pre-trained weights file (for YOLO v2) from Google drive \n",
        "weights = 'bin/yolo'\n",
        "weights_file = weights + '.weights'\n",
        "if not os.path.exists('weights_file'): # why is this downloading when the path exists?\n",
        "  !gdown --id 0B1tW_VtY7oniTnBYYWdqSHNGSUU\n",
        "  !mkdir bin\n",
        "  !mv yolo.weights bin"
      ],
      "execution_count": 0,
      "outputs": []
    },
    {
      "cell_type": "code",
      "metadata": {
        "id": "268I2Ev_mJZL",
        "colab_type": "code",
        "colab": {}
      },
      "source": [
        "# Test installation, you should see an output with different parameters for flow\n",
        "!python flow --h"
      ],
      "execution_count": 0,
      "outputs": []
    },
    {
      "cell_type": "markdown",
      "metadata": {
        "id": "Wuo-d-3l9r5a",
        "colab_type": "text"
      },
      "source": [
        "#### if training on one class\n",
        "---"
      ]
    },
    {
      "cell_type": "code",
      "metadata": {
        "id": "OXLOezJnT7O6",
        "colab_type": "code",
        "colab": {}
      },
      "source": [
        "# Make new label file/overwrite existing labels.txt downloaded with darkflow\n",
        "!echo \"Chiroptera\" > labels.txt\n",
        "\n",
        "# Upload model config file edited for training with 1 class\n",
        "config = 'yolo-1c'\n",
        "mod_config = config + '.cfg'\n",
        "if not os.path.exists('mod_config'):\n",
        "  %cd train/darkflow-master/cfg\n",
        "  !gdown --id 1bjt5Mqvf4AZSLNARgtgmZsfHZSyFj2yx"
      ],
      "execution_count": 0,
      "outputs": []
    },
    {
      "cell_type": "markdown",
      "metadata": {
        "id": "JDC6vDly9yEP",
        "colab_type": "text"
      },
      "source": [
        "#### if training on many classes\n",
        "---"
      ]
    },
    {
      "cell_type": "code",
      "metadata": {
        "id": "JiBBfyZk6n-n",
        "colab_type": "code",
        "colab": {}
      },
      "source": [
        "# Download config file to your computer\n",
        "files.download('cfg/yolo.cfg') \n",
        "\n",
        "# Re-name the file to yolo-[no. classes]c.cfg, ex: yolo-1c.cfg\n",
        "# Modify the file using a text editor\n",
        "# Under last [convolutional] section (line 237), change filters, filters=(no. classes + 5)*5, ex: on 1 class, filters = 30\n",
        "# Under last [region] section (line 244), change classes, classes=[no. classes]\n",
        "# Manually upload the file to your working directory"
      ],
      "execution_count": 0,
      "outputs": []
    },
    {
      "cell_type": "markdown",
      "metadata": {
        "id": "w3ouL5RM-mpX",
        "colab_type": "text"
      },
      "source": [
        "## Train the model\n",
        "---"
      ]
    },
    {
      "cell_type": "code",
      "metadata": {
        "id": "pn4U3HOTgPVX",
        "colab_type": "code",
        "colab": {}
      },
      "source": [
        "# Train yolo-1c using pre-trained weights at yolo.weights for basal layers, last layer will be trained from scracth to detect bats\n",
        "# Change the dataset and annotation directories to your paths in GoogleDrive\n",
        "%cd darkflow-master\n",
        "!python flow --model cfg/yolo-1c.cfg --train --trainer adam --load bin/yolo.weights --gpu 0.8 --epoch 3000 --dataset \"/content/drive/My Drive/fall19_smithsonian_informatics/train/images\" --annotation \"test/training/annotations\""
      ],
      "execution_count": 0,
      "outputs": []
    },
    {
      "cell_type": "code",
      "metadata": {
        "id": "LZoKtS-xhbQm",
        "colab_type": "code",
        "colab": {}
      },
      "source": [
        "# For training the model starting from specified checkpoint\n",
        "# change --load 750 to the number of steps of your most recent checkpoint file\n",
        "#--pbLoad .pb --metaLoad .meta\n",
        "!python flow --load 25625 --model cfg/yolo-1c.cfg --train --savepb --trainer adam --gpu 0.8 --epoch 3000 --dataset \"/content/drive/My Drive/fall19_smithsonian_informatics/train/images\" --annotation \"test/training/annotations\""
      ],
      "execution_count": 0,
      "outputs": []
    },
    {
      "cell_type": "code",
      "metadata": {
        "id": "UqA_lW7tbLeH",
        "colab_type": "code",
        "colab": {}
      },
      "source": [
        "# Save the last checkpoint to protobuf file\n",
        "!python flow --model cfg/yolo-1c.cfg --load -1 --savepb"
      ],
      "execution_count": 0,
      "outputs": []
    },
    {
      "cell_type": "code",
      "metadata": {
        "id": "qBMfOfVTbO0s",
        "colab_type": "code",
        "colab": {}
      },
      "source": [
        "# Saving graph and weights to protobuf file\n",
        "!python flow --model cfg/yolo-1c.cfg --load bin/yolo-1c.weights --savepb"
      ],
      "execution_count": 0,
      "outputs": []
    },
    {
      "cell_type": "code",
      "metadata": {
        "id": "5GhWXLLlPNrr",
        "colab_type": "code",
        "colab": {}
      },
      "source": [
        "# Import your own images to sample_images, then run them through your trained object detector\n",
        "!python flow --pbLoad built_graph/yolo-1c.pb --gpu 0.8 --metaLoad built_graph/yolo-1c.meta --imgdir \"/content/drive/My Drive/fall19_smithsonian_informatics/train/mini_test\""
      ],
      "execution_count": 0,
      "outputs": []
    },
    {
      "cell_type": "markdown",
      "metadata": {
        "colab_type": "text",
        "id": "1zL-PctVuqZv"
      },
      "source": [
        "## 'Flow' test images through the trained object detector\n",
        "--- "
      ]
    },
    {
      "cell_type": "code",
      "metadata": {
        "id": "MuKJrk1cslB7",
        "colab_type": "code",
        "colab": {}
      },
      "source": [
        "# For uploading an image from url\n",
        "# Modified from https://www.pyimagesearch.com/2015/03/02/convert-url-to-image-with-python-and-opencv/\n",
        "def url_to_image(url):\n",
        "  resp = urllib.request.urlopen(url)\n",
        "  image = np.asarray(bytearray(resp.read()), dtype=\"uint8\")\n",
        "  image = cv2.imdecode(image, cv2.IMREAD_COLOR)\n",
        "  image = cv2.cvtColor(image, cv2.COLOR_BGR2RGB)\n",
        " \n",
        "  return image"
      ],
      "execution_count": 0,
      "outputs": []
    },
    {
      "cell_type": "code",
      "metadata": {
        "id": "2PXMk2Rtsnk-",
        "colab_type": "code",
        "colab": {}
      },
      "source": [
        "# For drawing bounding boxes around detected objects on images\n",
        "def boxing(image, predictions):\n",
        "    newImage = np.copy(image)\n",
        "    im_height, im_width, im_depth = image.shape\n",
        "\n",
        "    # Write the header of test_1.tsv before the loop\n",
        "    with open('/content/drive/My Drive/fall19_smithsonian_informatics/train/crops_yolo_1c_test_1.tsv', 'a') as out_file:\n",
        "                  tsv_writer = csv.writer(out_file, delimiter='\\t')\n",
        "                  tsv_writer.writerow('obj_url', 'height', 'width', 'xmin', 'ymin', 'xmax', 'ymax' )\n",
        "    # Oraganize results of object detection for plotting and export\n",
        "    for result in predictions:\n",
        "        xmin = result['topleft']['x']\n",
        "        ymin = result['topleft']['y']\n",
        "\n",
        "        xmax = result['bottomright']['x']\n",
        "        ymax = result['bottomright']['y']\n",
        "\n",
        "        confidence = result['confidence']\n",
        "        label = result['label'] + \" \" + str(round(confidence, 3))\n",
        "\n",
        "        # only show boxes that are above .1 confidence and for the label, bird\n",
        "        if confidence > 0.45 and result['label'] == 'bird' :\n",
        "            # draw boxes on images\n",
        "            fontScale = min(im_width,im_height)/(600)\n",
        "            newImage = cv2.rectangle(newImage, (xmin, ymax), (xmax, ymin), (255, 0, 157), 3)\n",
        "            newImage = cv2.putText(newImage, label, (xmin, ymax-5), cv2.FONT_HERSHEY_SIMPLEX, fontScale, (153, 255, 255), 5, cv2.LINE_AA)\n",
        "\n",
        "            # optional: if mounted to drive, export detection results to sample_crops_yolo.tsv\n",
        "            # must make empty sample_crops_yolo.tsv file in your drive first and paste the path to it below\n",
        "            if os.path.exists('/content/drive/My Drive/fall19_smithsonian_informatics/train/crops_yolo_1c_test_1.tsv'):\n",
        "              with open('/content/drive/My Drive/fall19_smithsonian_informatics/train/crops_yolo_1c_test_1.tsv', 'a') as out_file:\n",
        "                  tsv_writer = csv.writer(out_file, delimiter='\\t')\n",
        "                  #crop_width = xmax-xmin\n",
        "                  #crop_height = ymax-ymin\n",
        "                  tsv_writer.writerow([image_url, im_height, im_width, \n",
        "                            xmin, ymin, xmax, ymax])\n",
        "            \n",
        "        else:\n",
        "          print(\"No birds detected in {}.\".format(image_url))\n",
        "    return newImage"
      ],
      "execution_count": 0,
      "outputs": []
    },
    {
      "cell_type": "code",
      "metadata": {
        "id": "R2wnfMcDmJZS",
        "colab_type": "code",
        "colab": {}
      },
      "source": [
        "# Define parameters for \"flow\"ing the images through the model\n",
        "params = {\n",
        "    'model': 'cfg/yolo-1c.cfg',\n",
        "    'load': 'bin/yolo.weights',\n",
        "    'gpu': 0.8\n",
        "    'threshold': 0.45, \n",
        "    'pbLoad': 'built_graph/yolo-1c.pb', \n",
        "    'metaLoad': 'built_graph/yolo-1c.meta' \n",
        "}\n",
        "\n",
        "# Run the model\n",
        "tfnet = TFNet(params)"
      ],
      "execution_count": 0,
      "outputs": []
    },
    {
      "cell_type": "code",
      "metadata": {
        "scrolled": false,
        "id": "UbyA9e1omJZZ",
        "colab_type": "code",
        "colab": {}
      },
      "source": [
        "# Loops through first 5 image urls from the text file\n",
        "for i, row in df1.head(5).itertuples(index=True, name='Pandas'):\n",
        "\n",
        "# For ranges of rows or all rows, use the commands below\n",
        "# Can be useful if running batch jobs\n",
        "#for i, row in df1.iloc[500:800].iterrows():\n",
        "#for i, row in df1.itertuples(index=True, name='Pandas'):\n",
        "#for i, row in df1.tail(5).itertuples(index=True, name='Pandas'):\n",
        "\n",
        "  try:\n",
        "    # Record inference time\n",
        "    start_time = time.time()\n",
        "    image_url = df1.get_value(i, \"link\")\n",
        "    image = url_to_image(image_url)\n",
        "    # Detection\n",
        "    result = tfnet.return_predict(image)\n",
        "    end_time = time.time()\n",
        "    # Draw boxes on images\n",
        "    boxing(image, result)\n",
        "  \n",
        "    # If running detection on >50 images, do not display detection results\n",
        "    # Instead run below command to track progress\n",
        "    #print('Detection complete in {} of 1,000 images'.format(i+1))\n",
        "  \n",
        "  except:\n",
        "    print('Error: check if web address {} is valid'.format(image_url))\n",
        "  \n",
        "  # Plot and show detection boxes on images\n",
        "  # Hashtag out this portion if running detection on >50 images\n",
        "  _, ax = plt.subplots(figsize=(10, 10))\n",
        "  ax.imshow(boxing(image, result))\n",
        "  plt.title('{}) Inference time: {}'.format(i+1, format(end_time-start_time, '.2f')))\n",
        "  plt.close()"
      ],
      "execution_count": 0,
      "outputs": []
    }
  ]
}
